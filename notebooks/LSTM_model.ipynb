{
 "cells": [
  {
   "cell_type": "markdown",
   "metadata": {},
   "source": [
    " # Import necessary libraries "
   ]
  },
  {
   "cell_type": "code",
   "execution_count": 196,
   "metadata": {},
   "outputs": [],
   "source": [
    "import pandas as pd\n",
    "import numpy as np\n",
    "import matplotlib.pyplot as plt\n",
    "\n",
    "from datetime import datetime \n",
    "from datetime import timezone\n",
    "import time\n",
    "from sklearn import preprocessing\n",
    "\n",
    "import torch\n",
    "import torch.nn as nn\n",
    "from torch.optim import Adam\n",
    "import torch.utils.data as data_utils \n",
    "import cryptocompare\n",
    "from IPython.display import Image"
   ]
  },
  {
   "cell_type": "markdown",
   "metadata": {},
   "source": [
    "# Define and intialize the neural network"
   ]
  },
  {
   "cell_type": "code",
   "execution_count": 197,
   "metadata": {},
   "outputs": [],
   "source": [
    "class NeuralNet(nn.Module):\n",
    "    \"\"\"cla classe ou est défini notre model \"\"\"\n",
    "    def __init__(self, \n",
    "                 activation_function = nn.ReLU,\n",
    "                 optimizer = Adam,\n",
    "                 dropout = 0.2\n",
    "                ):\n",
    "        super(NeuralNet, self).__init__()\n",
    "        input_dim = 14\n",
    "        hidden_dim = 100\n",
    "        output_dim = 1\n",
    "        self.lstm1 = nn.LSTM(input_dim, hidden_dim)\n",
    "        self.dropout1 = nn.Dropout(p = dropout)\n",
    "        self.lstm2 = nn.LSTM(hidden_dim, hidden_dim)\n",
    "        self.layers =[nn.Dropout(p = dropout)]\n",
    "        self.layers.append(nn.Linear(hidden_dim, output_dim))\n",
    "        self.layers = nn.Sequential(*self.layers)\n",
    "        \n",
    "\n",
    "\n",
    "    def forward(self, x):\n",
    "        out, _ = self.lstm1(x.view(len(x), 1 , -1))\n",
    "        out = self.dropout1(out.view(len(x), -1))\n",
    "        out, _ = self.lstm2(out.view(len(x), 1 , -1))\n",
    "        out = self.layers(out.view(len(x), -1))\n",
    "        \n",
    "        return out"
   ]
  },
  {
   "cell_type": "markdown",
   "metadata": {},
   "source": [
    "# DATA"
   ]
  },
  {
   "cell_type": "code",
   "execution_count": 198,
   "metadata": {},
   "outputs": [],
   "source": [
    "\n",
    "def get_data(start_date,end_date,crypto):\n",
    "    \"\"\"Fonction pour récuperer la data de l'api crypto compare\"\"\"\n",
    "    l=[]\n",
    "    i=0\n",
    "\n",
    "    while start_date>=end_date:\n",
    "        i=i+1\n",
    "        print(\"requette :\",i)\n",
    "        try : \n",
    "            data = cryptocompare.get_historical_price_day(crypto, 'USD', limit=2000, exchange='CCCAGG', toTs=start_date)\n",
    "            if data is None : \n",
    "                raise ValueError \n",
    "        except: \n",
    "            break\n",
    "\n",
    "        l=data+l\n",
    "        start_date=datetime.fromtimestamp(data[0]['time'])\n",
    "    df = pd.DataFrame.from_dict(l)\n",
    "    df=df.iloc[:,:7]\n",
    "    return df"
   ]
  },
  {
   "cell_type": "code",
   "execution_count": 199,
   "metadata": {},
   "outputs": [],
   "source": [
    "\n",
    "def read_csv(PATH):\n",
    "    \"\"\"fonction pour lire le csv de 'hitorique des metriques'\"\"\"\n",
    "    df=pd.read_csv(PATH)\n",
    "    df=df.fillna(df.mean())\n",
    "    df=df.iloc[:,2:]\n",
    "    return df"
   ]
  },
  {
   "cell_type": "code",
   "execution_count": 200,
   "metadata": {},
   "outputs": [],
   "source": [
    "def read_csv_tweet(PATH):\n",
    "    \"\"\"Fonction pour lire l'historique des tweets\"\"\"\n",
    "    df_tweet=pd.read_csv(PATH)\n",
    "    df_tweet=df_tweet.groupby(\"time\",as_index=False)[\"sentiment_analysis\"].mean()\n",
    "    df_tweet['time'] = pd.to_datetime(df_tweet['time'], format=\"%Y-%m-%d\")\n",
    "    df_tweet['time'] = df_tweet['time'].apply(lambda x: int(x.replace(tzinfo=timezone.utc).timestamp()))\n",
    "    return df_tweet"
   ]
  },
  {
   "cell_type": "code",
   "execution_count": 201,
   "metadata": {},
   "outputs": [],
   "source": [
    "def merge_data(df,df1,df2):\n",
    "    \"\"\"fonction pour faire la jointure entre nos dataframes \n",
    "    metriques , tweets, prix des cryptos\"\"\"\n",
    "    \n",
    "    df_merge=pd.merge(df,df1,on=\"time\")\n",
    "    df_merge_2=pd.merge(df_merge,df2,on='time')\n",
    "    df_merge=df_merge_2\n",
    "    df_merge[\"time\"]=pd.to_datetime(df_merge[\"time\"], unit='s')\n",
    "    df_merge = df_merge.set_index('time')\n",
    "    df_merge.index = pd.to_datetime(df_merge.index, unit='s')\n",
    "    return df_merge"
   ]
  },
  {
   "cell_type": "code",
   "execution_count": 202,
   "metadata": {},
   "outputs": [],
   "source": [
    "def split_data(data, train_prop=80):\n",
    "    \"\"\"fonction pour spliter notre data set \n",
    "    en data test et train\"\"\"\n",
    "    \n",
    "    train_data = data.iloc[:int(train_prop * len(data))]\n",
    "    test_data = data.iloc[int(train_prop * len(data)):]\n",
    "    return train_data, test_data"
   ]
  },
  {
   "cell_type": "code",
   "execution_count": 203,
   "metadata": {},
   "outputs": [],
   "source": [
    "def normalize_data(traindf,min_max_scaler=None):\n",
    "    \"\"\" fonction pour normaliser nos données \"\"\"\n",
    "    x = traindf.values\n",
    "    if min_max_scaler is None:\n",
    "        min_max_scaler = preprocessing.MinMaxScaler()\n",
    "        min_max_scaler.fit(x)\n",
    "    x_scaled=min_max_scaler.transform(traindf.values)\n",
    "    normalized_df = pd.DataFrame(x_scaled, columns = traindf.columns)\n",
    "    return normalized_df,min_max_scaler"
   ]
  },
  {
   "cell_type": "code",
   "execution_count": 204,
   "metadata": {},
   "outputs": [],
   "source": [
    "def denormalize_data(min_max_scaler, normalized_df):\n",
    "    \"\"\"fonction inverse de notre normalisation\"\"\"\n",
    "    new_x = normalized_df.values* (min_max_scaler.data_max_-min_max_scaler.data_min_) + min_max_scaler.data_min_\n",
    "    return pd.DataFrame(new_x, columns = df.columns)"
   ]
  },
  {
   "cell_type": "code",
   "execution_count": 205,
   "metadata": {},
   "outputs": [],
   "source": [
    "def plot_curves(to_plot,labels, title='', x_label='', y_label=''):\n",
    "    \"\"\"fonction pour afficher le graphe de prix de la cryptos  par la  Date\"\"\"\n",
    "    fig, ax = plt.subplots(1, figsize=(14, 7))\n",
    "    for i in range(len(to_plot)):\n",
    "        ax.plot(to_plot[i], label=labels[i])\n",
    "    \n",
    "    ax.set_xlabel(x_label)\n",
    "    ax.set_ylabel(y_label)\n",
    "    ax.set_title(title)\n",
    "    ax.legend()\n",
    "############plot_curves([train_data['close'], test_data['close']], ['training', 'test'], title='btc')"
   ]
  },
  {
   "cell_type": "code",
   "execution_count": 206,
   "metadata": {},
   "outputs": [],
   "source": [
    "def create_data_loader(train_normalized):\n",
    "    \"\"\"fonction qui creer notre tensor pour le train \"\"\"\n",
    "    train_target_tensor = torch.tensor(train_normalized['close'].values.astype(np.float64))\n",
    "    train_data_tensor = torch.tensor(train_normalized.drop('close', axis = 1).values) \n",
    "    train_tensor = data_utils.TensorDataset(train_data_tensor, train_target_tensor) \n",
    "    train_loader = data_utils.DataLoader(dataset = train_tensor, batch_size = 32, shuffle = True)\n",
    "    return train_loader\n",
    "\n",
    "\n",
    "def create_data_loader_test(test_data,scaler):\n",
    "    \"\"\"fonction qui creer notre tensor pour le test \"\"\"\n",
    "    test_normalized,_ = normalize_data(test_data,scaler)\n",
    "    test_target = torch.tensor(test_normalized['close'].values.astype(np.float64))\n",
    "    test = torch.tensor(test_normalized.drop('close', axis = 1).values) \n",
    "    print(test_target[0])\n",
    "    test_tensor = data_utils.TensorDataset(test, test_target) \n",
    "    test_loader = data_utils.DataLoader(dataset = test_tensor, batch_size = 32, shuffle = False)\n",
    "    return test_loader\n",
    "\n"
   ]
  },
  {
   "cell_type": "code",
   "execution_count": 207,
   "metadata": {},
   "outputs": [],
   "source": [
    "def pourcentage_error(predected_price,real_price):\n",
    "    \"\"\"\"fonction qui calcule le pourcentage d'erreur\"\"\"\n",
    "    s=0\n",
    "    for i in range (len(predected_price)):\n",
    "        s=s+(abs(predected_price[i]-real_price[i])/real_price[i])\n",
    "    return s/(len(predected_price))"
   ]
  },
  {
   "cell_type": "code",
   "execution_count": 208,
   "metadata": {},
   "outputs": [],
   "source": [
    "from tqdm import tqdm\n",
    "\n",
    "def model(train_loader,epochs=1000):\n",
    "    \"\"\"fonction qui initialise notre entrainement \"\"\"\n",
    "    model = NeuralNet()\n",
    "\n",
    "    EPOCHS = epochs\n",
    "\n",
    "    #target = pd.DataFrame(data = train_normalized['close'])\n",
    "\n",
    "\n",
    "    criterion = nn.MSELoss()\n",
    "    optimizer = Adam(model.parameters(), lr=0.0001)\n",
    "\n",
    "    losses = []\n",
    "    for epoch in range(EPOCHS):\n",
    "        epoch_loss = 0\n",
    "        for bidx, batch in tqdm(enumerate(train_loader)):\n",
    "            X, Y = batch\n",
    "            model.zero_grad()\n",
    "            loss = 0\n",
    "            for i in range(len(X)):\n",
    "                x, y = X[i], Y[i]\n",
    "                x = x.view(-1, len(x))\n",
    "\n",
    "                #Forward Pass\n",
    "                y_hat = model(x.float())\n",
    "\n",
    "                #Loss\n",
    "                loss += criterion(y.float(), y_hat.float())\n",
    "\n",
    "            #Backward pass\n",
    "            loss.backward()\n",
    "\n",
    "            #Parameters optimization\n",
    "            optimizer.step()\n",
    "\n",
    "            epoch_loss += float(loss)\n",
    "\n",
    "        losses.append(epoch_loss)\n",
    "        model_close=model\n",
    "        print(\"Epoch \", epoch, \": \", epoch_loss)\n",
    "    return model"
   ]
  },
  {
   "cell_type": "code",
   "execution_count": 195,
   "metadata": {},
   "outputs": [],
   "source": [
    "def predict(model,test_loader,scaler):\n",
    "    \"\"\"fonction utiliser pour la prédiction\"\"\"\n",
    "    y_list = []\n",
    "    y_hat_list = []\n",
    "    min_max_scaler=scaler\n",
    "    for bidx, batch in tqdm(enumerate(test_loader)):\n",
    "            X, Y = batch\n",
    "            for i in range(len(X)):\n",
    "                x, y = X[i], Y[i]\n",
    "                x = x.view(-1, len(x))\n",
    "                y_hat = model(x.float())\n",
    "                \n",
    "                print(y_hat)\n",
    "                vmin = min_max_scaler.data_min_[5]\n",
    "                vmax = min_max_scaler.data_max_[5]\n",
    "                y_hat_list.append(float(y_hat)* (vmax - vmin) + vmin)\n",
    "    return y_hat_list"
   ]
  },
  {
   "cell_type": "code",
   "execution_count": 209,
   "metadata": {},
   "outputs": [],
   "source": [
    "#Nos inputs\n",
    "START_DATE=datetime.now()\n",
    "END_DATE=datetime(2010,6,18)\n",
    "CRYPTO='ETH'\n",
    "#PATHz='/home/jbouhadoun/esgi/PA5_Crypto-Advice/src/scrapper/outputs/ltc_2018-01-01_2021-06-25.csv'\n",
    "PATH_BTC=\"/home/jbouhadoun/Téléchargements/histo_eth (1).csv\"\n",
    "PATH_BTC_TWEET=\"/home/jbouhadoun/esgi/exp/final_data/historical_eth_twitter_withsentiment.csv\"\n",
    "PATH_MODEL_BTC=\"\"\n",
    "PATH_scaler_BTC=\"\""
   ]
  },
  {
   "cell_type": "code",
   "execution_count": 213,
   "metadata": {
    "scrolled": true
   },
   "outputs": [
    {
     "name": "stdout",
     "output_type": "stream",
     "text": [
      "requette : 1\n",
      "requette : 2\n",
      "requette : 3\n",
      "tensor(0.9871, dtype=torch.float64)\n"
     ]
    },
    {
     "data": {
      "text/html": [
       "<div>\n",
       "<style scoped>\n",
       "    .dataframe tbody tr th:only-of-type {\n",
       "        vertical-align: middle;\n",
       "    }\n",
       "\n",
       "    .dataframe tbody tr th {\n",
       "        vertical-align: top;\n",
       "    }\n",
       "\n",
       "    .dataframe thead th {\n",
       "        text-align: right;\n",
       "    }\n",
       "</style>\n",
       "<table border=\"1\" class=\"dataframe\">\n",
       "  <thead>\n",
       "    <tr style=\"text-align: right;\">\n",
       "      <th></th>\n",
       "      <th>high</th>\n",
       "      <th>low</th>\n",
       "      <th>open</th>\n",
       "      <th>volumefrom</th>\n",
       "      <th>volumeto</th>\n",
       "      <th>close</th>\n",
       "      <th>addresses_active_count</th>\n",
       "      <th>addresses_new_non_zero_count</th>\n",
       "      <th>addresses_count</th>\n",
       "      <th>addresses_receiving_count</th>\n",
       "      <th>addresses_sending_count</th>\n",
       "      <th>transactions_transfers_volume_sum</th>\n",
       "      <th>mining_hash_rate_mean</th>\n",
       "      <th>mining_difficulty_latest</th>\n",
       "      <th>sentiment_analysis</th>\n",
       "    </tr>\n",
       "    <tr>\n",
       "      <th>time</th>\n",
       "      <th></th>\n",
       "      <th></th>\n",
       "      <th></th>\n",
       "      <th></th>\n",
       "      <th></th>\n",
       "      <th></th>\n",
       "      <th></th>\n",
       "      <th></th>\n",
       "      <th></th>\n",
       "      <th></th>\n",
       "      <th></th>\n",
       "      <th></th>\n",
       "      <th></th>\n",
       "      <th></th>\n",
       "      <th></th>\n",
       "    </tr>\n",
       "  </thead>\n",
       "  <tbody>\n",
       "    <tr>\n",
       "      <th>2017-01-01</th>\n",
       "      <td>8.891</td>\n",
       "      <td>7.970</td>\n",
       "      <td>8.018</td>\n",
       "      <td>854000.05</td>\n",
       "      <td>6963216.69</td>\n",
       "      <td>8.154</td>\n",
       "      <td>13695</td>\n",
       "      <td>1357</td>\n",
       "      <td>729071</td>\n",
       "      <td>12933</td>\n",
       "      <td>6215</td>\n",
       "      <td>1.818131e+06</td>\n",
       "      <td>5.646216e+12</td>\n",
       "      <td>8.174688e+13</td>\n",
       "      <td>0.120282</td>\n",
       "    </tr>\n",
       "    <tr>\n",
       "      <th>2017-01-02</th>\n",
       "      <td>8.568</td>\n",
       "      <td>7.964</td>\n",
       "      <td>8.154</td>\n",
       "      <td>859902.07</td>\n",
       "      <td>7152179.49</td>\n",
       "      <td>8.317</td>\n",
       "      <td>14916</td>\n",
       "      <td>1901</td>\n",
       "      <td>730972</td>\n",
       "      <td>13899</td>\n",
       "      <td>7320</td>\n",
       "      <td>2.857197e+06</td>\n",
       "      <td>5.646488e+12</td>\n",
       "      <td>8.278692e+13</td>\n",
       "      <td>0.054745</td>\n",
       "    </tr>\n",
       "    <tr>\n",
       "      <th>2017-01-03</th>\n",
       "      <td>9.940</td>\n",
       "      <td>8.185</td>\n",
       "      <td>8.335</td>\n",
       "      <td>571218.00</td>\n",
       "      <td>5292231.64</td>\n",
       "      <td>9.595</td>\n",
       "      <td>14612</td>\n",
       "      <td>2518</td>\n",
       "      <td>733490</td>\n",
       "      <td>13201</td>\n",
       "      <td>8236</td>\n",
       "      <td>5.066915e+06</td>\n",
       "      <td>5.623616e+12</td>\n",
       "      <td>8.197531e+13</td>\n",
       "      <td>0.127372</td>\n",
       "    </tr>\n",
       "    <tr>\n",
       "      <th>2017-01-04</th>\n",
       "      <td>11.500</td>\n",
       "      <td>10.240</td>\n",
       "      <td>9.639</td>\n",
       "      <td>2063444.32</td>\n",
       "      <td>22695239.44</td>\n",
       "      <td>11.000</td>\n",
       "      <td>17688</td>\n",
       "      <td>3245</td>\n",
       "      <td>736735</td>\n",
       "      <td>15979</td>\n",
       "      <td>10535</td>\n",
       "      <td>7.864367e+06</td>\n",
       "      <td>6.200869e+12</td>\n",
       "      <td>8.832221e+13</td>\n",
       "      <td>0.063388</td>\n",
       "    </tr>\n",
       "    <tr>\n",
       "      <th>2017-01-05</th>\n",
       "      <td>10.370</td>\n",
       "      <td>9.151</td>\n",
       "      <td>11.000</td>\n",
       "      <td>2134380.99</td>\n",
       "      <td>21602177.79</td>\n",
       "      <td>10.120</td>\n",
       "      <td>18556</td>\n",
       "      <td>3123</td>\n",
       "      <td>739858</td>\n",
       "      <td>16927</td>\n",
       "      <td>9962</td>\n",
       "      <td>8.078451e+06</td>\n",
       "      <td>6.344418e+12</td>\n",
       "      <td>9.108022e+13</td>\n",
       "      <td>0.096465</td>\n",
       "    </tr>\n",
       "  </tbody>\n",
       "</table>\n",
       "</div>"
      ],
      "text/plain": [
       "              high     low    open  volumefrom     volumeto   close  \\\n",
       "time                                                                  \n",
       "2017-01-01   8.891   7.970   8.018   854000.05   6963216.69   8.154   \n",
       "2017-01-02   8.568   7.964   8.154   859902.07   7152179.49   8.317   \n",
       "2017-01-03   9.940   8.185   8.335   571218.00   5292231.64   9.595   \n",
       "2017-01-04  11.500  10.240   9.639  2063444.32  22695239.44  11.000   \n",
       "2017-01-05  10.370   9.151  11.000  2134380.99  21602177.79  10.120   \n",
       "\n",
       "            addresses_active_count  addresses_new_non_zero_count  \\\n",
       "time                                                               \n",
       "2017-01-01                   13695                          1357   \n",
       "2017-01-02                   14916                          1901   \n",
       "2017-01-03                   14612                          2518   \n",
       "2017-01-04                   17688                          3245   \n",
       "2017-01-05                   18556                          3123   \n",
       "\n",
       "            addresses_count  addresses_receiving_count  \\\n",
       "time                                                     \n",
       "2017-01-01           729071                      12933   \n",
       "2017-01-02           730972                      13899   \n",
       "2017-01-03           733490                      13201   \n",
       "2017-01-04           736735                      15979   \n",
       "2017-01-05           739858                      16927   \n",
       "\n",
       "            addresses_sending_count  transactions_transfers_volume_sum  \\\n",
       "time                                                                     \n",
       "2017-01-01                     6215                       1.818131e+06   \n",
       "2017-01-02                     7320                       2.857197e+06   \n",
       "2017-01-03                     8236                       5.066915e+06   \n",
       "2017-01-04                    10535                       7.864367e+06   \n",
       "2017-01-05                     9962                       8.078451e+06   \n",
       "\n",
       "            mining_hash_rate_mean  mining_difficulty_latest  \\\n",
       "time                                                          \n",
       "2017-01-01           5.646216e+12              8.174688e+13   \n",
       "2017-01-02           5.646488e+12              8.278692e+13   \n",
       "2017-01-03           5.623616e+12              8.197531e+13   \n",
       "2017-01-04           6.200869e+12              8.832221e+13   \n",
       "2017-01-05           6.344418e+12              9.108022e+13   \n",
       "\n",
       "            sentiment_analysis  \n",
       "time                            \n",
       "2017-01-01            0.120282  \n",
       "2017-01-02            0.054745  \n",
       "2017-01-03            0.127372  \n",
       "2017-01-04            0.063388  \n",
       "2017-01-05            0.096465  "
      ]
     },
     "execution_count": 213,
     "metadata": {},
     "output_type": "execute_result"
    }
   ],
   "source": [
    "#dataframe d\n",
    "df=get_data(START_DATE,END_DATE,CRYPTO)\n",
    "df1=read_csv(PATH_BTC)\n",
    "df2=read_csv_tweet(PATH_BTC_TWEET)\n",
    "\n",
    "\n",
    "\n",
    "df_merge=merge_data(df,df1,df2)\n",
    "#print(df_merge.columns)\n",
    "#df_merge=df_merge.drop(columns=[\"coin\"])\n",
    "train_data,test_data=split_data(df_merge,0.9)\n",
    "train_normalized,scaler = normalize_data(train_data)\n",
    "train_loader=create_data_loader(train_normalized)\n",
    "test_loader=create_data_loader_test(test_data,scaler)\n",
    "\n",
    "\n",
    "#df_merge.to_csv(\"/home/jbouhadoun/esgi/exp/juscrap/outputs/train_btc.csv\")\n",
    "df_merge.head()"
   ]
  },
  {
   "cell_type": "code",
   "execution_count": 138,
   "metadata": {
    "scrolled": false
   },
   "outputs": [
    {
     "data": {
      "image/png": "[encoded data removed]",
      "text/plain": [
       "<Figure size 1008x504 with 1 Axes>"
      ]
     },
     "metadata": {
      "needs_background": "light"
     },
     "output_type": "display_data"
    }
   ],
   "source": [
    "plot_curves([train_data['close'], test_data['close']], ['training', 'test'], title='btc')"
   ]
  },
  {
   "cell_type": "code",
   "execution_count": 1,
   "metadata": {},
   "outputs": [
    {
     "ename": "NameError",
     "evalue": "name 'df_merge' is not defined",
     "output_type": "error",
     "traceback": [
      "\u001b[0;31m---------------------------------------------------------------------------\u001b[0m",
      "\u001b[0;31mNameError\u001b[0m                                 Traceback (most recent call last)",
      "\u001b[0;32m<ipython-input-1-31dcbc946508>\u001b[0m in \u001b[0;36m<module>\u001b[0;34m\u001b[0m\n\u001b[0;32m----> 1\u001b[0;31m \u001b[0mdf_merge\u001b[0m\u001b[0;34m\u001b[0m\u001b[0;34m\u001b[0m\u001b[0m\n\u001b[0m",
      "\u001b[0;31mNameError\u001b[0m: name 'df_merge' is not defined"
     ]
    }
   ],
   "source": [
    "df_merge"
   ]
  },
  {
   "cell_type": "code",
   "execution_count": 140,
   "metadata": {},
   "outputs": [
    {
     "name": "stderr",
     "output_type": "stream",
     "text": [
      "0it [00:00, ?it/s]/home/jbouhadoun/anaconda3/envs/nlp/lib/python3.8/site-packages/torch/nn/modules/loss.py:528: UserWarning: Using a target size (torch.Size([1, 1])) that is different to the input size (torch.Size([])). This will likely lead to incorrect results due to broadcasting. Please ensure they have the same size.\n",
      "  return F.mse_loss(input, target, reduction=self.reduction)\n",
      "42it [00:01, 32.36it/s]\n",
      "4it [00:00, 39.39it/s]"
     ]
    },
    {
     "name": "stdout",
     "output_type": "stream",
     "text": [
      "Epoch  0 :  55.88609865307808\n"
     ]
    },
    {
     "name": "stderr",
     "output_type": "stream",
     "text": [
      "42it [00:01, 33.51it/s]\n",
      "4it [00:00, 34.71it/s]"
     ]
    },
    {
     "name": "stdout",
     "output_type": "stream",
     "text": [
      "Epoch  1 :  44.7178785353899\n"
     ]
    },
    {
     "name": "stderr",
     "output_type": "stream",
     "text": [
      "42it [00:01, 37.27it/s]\n",
      "4it [00:00, 38.44it/s]"
     ]
    },
    {
     "name": "stdout",
     "output_type": "stream",
     "text": [
      "Epoch  2 :  36.619838565588\n"
     ]
    },
    {
     "name": "stderr",
     "output_type": "stream",
     "text": [
      "42it [00:00, 42.53it/s]\n",
      "5it [00:00, 42.75it/s]"
     ]
    },
    {
     "name": "stdout",
     "output_type": "stream",
     "text": [
      "Epoch  3 :  30.95650824904442\n"
     ]
    },
    {
     "name": "stderr",
     "output_type": "stream",
     "text": [
      "42it [00:00, 43.00it/s]\n",
      "5it [00:00, 42.20it/s]"
     ]
    },
    {
     "name": "stdout",
     "output_type": "stream",
     "text": [
      "Epoch  4 :  27.295804038643837\n"
     ]
    },
    {
     "name": "stderr",
     "output_type": "stream",
     "text": [
      "42it [00:01, 41.92it/s]\n",
      "4it [00:00, 39.36it/s]"
     ]
    },
    {
     "name": "stdout",
     "output_type": "stream",
     "text": [
      "Epoch  5 :  23.863416850566864\n"
     ]
    },
    {
     "name": "stderr",
     "output_type": "stream",
     "text": [
      "42it [00:00, 42.61it/s]\n",
      "4it [00:00, 36.56it/s]"
     ]
    },
    {
     "name": "stdout",
     "output_type": "stream",
     "text": [
      "Epoch  6 :  19.975028082728386\n"
     ]
    },
    {
     "name": "stderr",
     "output_type": "stream",
     "text": [
      "42it [00:01, 40.87it/s]\n",
      "4it [00:00, 36.83it/s]"
     ]
    },
    {
     "name": "stdout",
     "output_type": "stream",
     "text": [
      "Epoch  7 :  16.741982743144035\n"
     ]
    },
    {
     "name": "stderr",
     "output_type": "stream",
     "text": [
      "42it [00:01, 41.76it/s]\n",
      "4it [00:00, 35.78it/s]"
     ]
    },
    {
     "name": "stdout",
     "output_type": "stream",
     "text": [
      "Epoch  8 :  12.11042856425047\n"
     ]
    },
    {
     "name": "stderr",
     "output_type": "stream",
     "text": [
      "42it [00:00, 42.28it/s]\n",
      "5it [00:00, 42.06it/s]"
     ]
    },
    {
     "name": "stdout",
     "output_type": "stream",
     "text": [
      "Epoch  9 :  8.872009828686714\n"
     ]
    },
    {
     "name": "stderr",
     "output_type": "stream",
     "text": [
      "42it [00:00, 43.34it/s]\n",
      "5it [00:00, 42.72it/s]"
     ]
    },
    {
     "name": "stdout",
     "output_type": "stream",
     "text": [
      "Epoch  10 :  6.704477097839117\n"
     ]
    },
    {
     "name": "stderr",
     "output_type": "stream",
     "text": [
      "42it [00:00, 43.50it/s]\n",
      "4it [00:00, 37.63it/s]"
     ]
    },
    {
     "name": "stdout",
     "output_type": "stream",
     "text": [
      "Epoch  11 :  4.603839857503772\n"
     ]
    },
    {
     "name": "stderr",
     "output_type": "stream",
     "text": [
      "42it [00:01, 41.43it/s]\n",
      "5it [00:00, 42.17it/s]"
     ]
    },
    {
     "name": "stdout",
     "output_type": "stream",
     "text": [
      "Epoch  12 :  3.5119284614920616\n"
     ]
    },
    {
     "name": "stderr",
     "output_type": "stream",
     "text": [
      "42it [00:00, 42.94it/s]\n",
      "4it [00:00, 35.06it/s]"
     ]
    },
    {
     "name": "stdout",
     "output_type": "stream",
     "text": [
      "Epoch  13 :  2.8970023840665817\n"
     ]
    },
    {
     "name": "stderr",
     "output_type": "stream",
     "text": [
      "42it [00:01, 41.96it/s]\n",
      "5it [00:00, 42.86it/s]"
     ]
    },
    {
     "name": "stdout",
     "output_type": "stream",
     "text": [
      "Epoch  14 :  2.514661295339465\n"
     ]
    },
    {
     "name": "stderr",
     "output_type": "stream",
     "text": [
      "42it [00:00, 43.72it/s]\n",
      "5it [00:00, 43.34it/s]"
     ]
    },
    {
     "name": "stdout",
     "output_type": "stream",
     "text": [
      "Epoch  15 :  2.542091293260455\n"
     ]
    },
    {
     "name": "stderr",
     "output_type": "stream",
     "text": [
      "42it [00:00, 43.24it/s]\n",
      "5it [00:00, 42.35it/s]"
     ]
    },
    {
     "name": "stdout",
     "output_type": "stream",
     "text": [
      "Epoch  16 :  2.0937602277845144\n"
     ]
    },
    {
     "name": "stderr",
     "output_type": "stream",
     "text": [
      "42it [00:00, 43.59it/s]\n",
      "5it [00:00, 43.39it/s]"
     ]
    },
    {
     "name": "stdout",
     "output_type": "stream",
     "text": [
      "Epoch  17 :  2.003259601071477\n"
     ]
    },
    {
     "name": "stderr",
     "output_type": "stream",
     "text": [
      "42it [00:00, 43.78it/s]\n",
      "5it [00:00, 43.42it/s]"
     ]
    },
    {
     "name": "stdout",
     "output_type": "stream",
     "text": [
      "Epoch  18 :  2.0038127806037664\n"
     ]
    },
    {
     "name": "stderr",
     "output_type": "stream",
     "text": [
      "42it [00:00, 43.79it/s]\n",
      "5it [00:00, 43.32it/s]"
     ]
    },
    {
     "name": "stdout",
     "output_type": "stream",
     "text": [
      "Epoch  19 :  1.953280983492732\n"
     ]
    },
    {
     "name": "stderr",
     "output_type": "stream",
     "text": [
      "42it [00:00, 43.40it/s]\n",
      "5it [00:00, 41.86it/s]"
     ]
    },
    {
     "name": "stdout",
     "output_type": "stream",
     "text": [
      "Epoch  20 :  1.95004827901721\n"
     ]
    },
    {
     "name": "stderr",
     "output_type": "stream",
     "text": [
      "42it [00:00, 43.24it/s]\n",
      "5it [00:00, 42.52it/s]"
     ]
    },
    {
     "name": "stdout",
     "output_type": "stream",
     "text": [
      "Epoch  21 :  1.6030670199543238\n"
     ]
    },
    {
     "name": "stderr",
     "output_type": "stream",
     "text": [
      "42it [00:00, 42.43it/s]\n",
      "5it [00:00, 42.32it/s]"
     ]
    },
    {
     "name": "stdout",
     "output_type": "stream",
     "text": [
      "Epoch  22 :  1.9624422751367092\n"
     ]
    },
    {
     "name": "stderr",
     "output_type": "stream",
     "text": [
      "42it [00:00, 43.56it/s]\n",
      "5it [00:00, 43.93it/s]"
     ]
    },
    {
     "name": "stdout",
     "output_type": "stream",
     "text": [
      "Epoch  23 :  1.7550257574766874\n"
     ]
    },
    {
     "name": "stderr",
     "output_type": "stream",
     "text": [
      "42it [00:00, 43.44it/s]\n",
      "5it [00:00, 43.73it/s]"
     ]
    },
    {
     "name": "stdout",
     "output_type": "stream",
     "text": [
      "Epoch  24 :  1.5606283098459244\n"
     ]
    },
    {
     "name": "stderr",
     "output_type": "stream",
     "text": [
      "42it [00:00, 43.57it/s]\n",
      "5it [00:00, 43.65it/s]"
     ]
    },
    {
     "name": "stdout",
     "output_type": "stream",
     "text": [
      "Epoch  25 :  1.476726384833455\n"
     ]
    },
    {
     "name": "stderr",
     "output_type": "stream",
     "text": [
      "42it [00:00, 43.53it/s]\n",
      "5it [00:00, 43.52it/s]"
     ]
    },
    {
     "name": "stdout",
     "output_type": "stream",
     "text": [
      "Epoch  26 :  1.5850130124017596\n"
     ]
    },
    {
     "name": "stderr",
     "output_type": "stream",
     "text": [
      "42it [00:00, 43.44it/s]\n",
      "5it [00:00, 43.30it/s]"
     ]
    },
    {
     "name": "stdout",
     "output_type": "stream",
     "text": [
      "Epoch  27 :  1.4278069911524653\n"
     ]
    },
    {
     "name": "stderr",
     "output_type": "stream",
     "text": [
      "42it [00:00, 43.77it/s]\n",
      "5it [00:00, 41.16it/s]"
     ]
    },
    {
     "name": "stdout",
     "output_type": "stream",
     "text": [
      "Epoch  28 :  1.4091881448403\n"
     ]
    },
    {
     "name": "stderr",
     "output_type": "stream",
     "text": [
      "42it [00:00, 42.83it/s]\n",
      "4it [00:00, 33.02it/s]"
     ]
    },
    {
     "name": "stdout",
     "output_type": "stream",
     "text": [
      "Epoch  29 :  1.3488715831190348\n"
     ]
    },
    {
     "name": "stderr",
     "output_type": "stream",
     "text": [
      "42it [00:01, 39.32it/s]\n",
      "5it [00:00, 40.80it/s]"
     ]
    },
    {
     "name": "stdout",
     "output_type": "stream",
     "text": [
      "Epoch  30 :  1.5402878490276635\n"
     ]
    },
    {
     "name": "stderr",
     "output_type": "stream",
     "text": [
      "42it [00:01, 40.97it/s]\n",
      "4it [00:00, 39.17it/s]"
     ]
    },
    {
     "name": "stdout",
     "output_type": "stream",
     "text": [
      "Epoch  31 :  1.4501406932249665\n"
     ]
    },
    {
     "name": "stderr",
     "output_type": "stream",
     "text": [
      "42it [00:01, 40.06it/s]\n",
      "5it [00:00, 40.50it/s]"
     ]
    },
    {
     "name": "stdout",
     "output_type": "stream",
     "text": [
      "Epoch  32 :  1.3387029515579343\n"
     ]
    },
    {
     "name": "stderr",
     "output_type": "stream",
     "text": [
      "42it [00:01, 40.53it/s]\n",
      "4it [00:00, 39.64it/s]"
     ]
    },
    {
     "name": "stdout",
     "output_type": "stream",
     "text": [
      "Epoch  33 :  1.4095885045826435\n"
     ]
    },
    {
     "name": "stderr",
     "output_type": "stream",
     "text": [
      "42it [00:01, 41.78it/s]\n",
      "5it [00:00, 43.10it/s]"
     ]
    },
    {
     "name": "stdout",
     "output_type": "stream",
     "text": [
      "Epoch  34 :  1.3157192030921578\n"
     ]
    },
    {
     "name": "stderr",
     "output_type": "stream",
     "text": [
      "42it [00:01, 41.86it/s]\n",
      "4it [00:00, 39.63it/s]"
     ]
    },
    {
     "name": "stdout",
     "output_type": "stream",
     "text": [
      "Epoch  35 :  1.4466370800510049\n"
     ]
    },
    {
     "name": "stderr",
     "output_type": "stream",
     "text": [
      "42it [00:01, 40.60it/s]\n",
      "4it [00:00, 38.91it/s]"
     ]
    },
    {
     "name": "stdout",
     "output_type": "stream",
     "text": [
      "Epoch  36 :  1.1207901882007718\n"
     ]
    },
    {
     "name": "stderr",
     "output_type": "stream",
     "text": [
      "42it [00:01, 39.70it/s]\n",
      "4it [00:00, 39.97it/s]"
     ]
    },
    {
     "name": "stdout",
     "output_type": "stream",
     "text": [
      "Epoch  37 :  1.2200515493750572\n"
     ]
    },
    {
     "name": "stderr",
     "output_type": "stream",
     "text": [
      "42it [00:01, 39.90it/s]\n",
      "4it [00:00, 37.62it/s]"
     ]
    },
    {
     "name": "stdout",
     "output_type": "stream",
     "text": [
      "Epoch  38 :  1.3474986776709557\n"
     ]
    },
    {
     "name": "stderr",
     "output_type": "stream",
     "text": [
      "42it [00:01, 39.93it/s]\n",
      "4it [00:00, 39.19it/s]"
     ]
    },
    {
     "name": "stdout",
     "output_type": "stream",
     "text": [
      "Epoch  39 :  1.1093518384732306\n"
     ]
    },
    {
     "name": "stderr",
     "output_type": "stream",
     "text": [
      "42it [00:01, 40.96it/s]\n",
      "4it [00:00, 39.52it/s]"
     ]
    },
    {
     "name": "stdout",
     "output_type": "stream",
     "text": [
      "Epoch  40 :  1.2919494369998574\n"
     ]
    },
    {
     "name": "stderr",
     "output_type": "stream",
     "text": [
      "42it [00:00, 42.29it/s]\n",
      "4it [00:00, 34.91it/s]"
     ]
    },
    {
     "name": "stdout",
     "output_type": "stream",
     "text": [
      "Epoch  41 :  1.3431517854332924\n"
     ]
    },
    {
     "name": "stderr",
     "output_type": "stream",
     "text": [
      "42it [00:01, 40.28it/s]\n",
      "4it [00:00, 36.85it/s]"
     ]
    },
    {
     "name": "stdout",
     "output_type": "stream",
     "text": [
      "Epoch  42 :  1.0593924671411514\n"
     ]
    },
    {
     "name": "stderr",
     "output_type": "stream",
     "text": [
      "42it [00:01, 41.35it/s]\n",
      "5it [00:00, 42.44it/s]"
     ]
    },
    {
     "name": "stdout",
     "output_type": "stream",
     "text": [
      "Epoch  43 :  1.1168773584067822\n"
     ]
    },
    {
     "name": "stderr",
     "output_type": "stream",
     "text": [
      "42it [00:01, 41.45it/s]\n",
      "4it [00:00, 39.13it/s]"
     ]
    },
    {
     "name": "stdout",
     "output_type": "stream",
     "text": [
      "Epoch  44 :  1.1545786941424012\n"
     ]
    },
    {
     "name": "stderr",
     "output_type": "stream",
     "text": [
      "42it [00:00, 42.43it/s]\n",
      "5it [00:00, 43.11it/s]"
     ]
    },
    {
     "name": "stdout",
     "output_type": "stream",
     "text": [
      "Epoch  45 :  1.0756850857287645\n"
     ]
    },
    {
     "name": "stderr",
     "output_type": "stream",
     "text": [
      "42it [00:01, 40.35it/s]\n",
      "4it [00:00, 38.80it/s]"
     ]
    },
    {
     "name": "stdout",
     "output_type": "stream",
     "text": [
      "Epoch  46 :  1.072226857766509\n"
     ]
    },
    {
     "name": "stderr",
     "output_type": "stream",
     "text": [
      "42it [00:01, 39.12it/s]\n",
      "4it [00:00, 39.23it/s]"
     ]
    },
    {
     "name": "stdout",
     "output_type": "stream",
     "text": [
      "Epoch  47 :  1.11429557017982\n"
     ]
    },
    {
     "name": "stderr",
     "output_type": "stream",
     "text": [
      "42it [00:01, 41.22it/s]\n",
      "5it [00:00, 41.63it/s]"
     ]
    },
    {
     "name": "stdout",
     "output_type": "stream",
     "text": [
      "Epoch  48 :  1.0271339993923903\n"
     ]
    },
    {
     "name": "stderr",
     "output_type": "stream",
     "text": [
      "42it [00:01, 40.65it/s]\n",
      "8it [00:00, 39.88it/s]"
     ]
    },
    {
     "name": "stdout",
     "output_type": "stream",
     "text": [
      "Epoch  49 :  1.1018964070826769\n"
     ]
    },
    {
     "name": "stderr",
     "output_type": "stream",
     "text": [
      "42it [00:01, 41.98it/s]\n",
      "5it [00:00, 42.07it/s]"
     ]
    },
    {
     "name": "stdout",
     "output_type": "stream",
     "text": [
      "Epoch  50 :  1.1427149511873722\n"
     ]
    },
    {
     "name": "stderr",
     "output_type": "stream",
     "text": [
      "42it [00:01, 39.27it/s]\n",
      "4it [00:00, 34.73it/s]"
     ]
    },
    {
     "name": "stdout",
     "output_type": "stream",
     "text": [
      "Epoch  51 :  1.1078779743984342\n"
     ]
    },
    {
     "name": "stderr",
     "output_type": "stream",
     "text": [
      "42it [00:01, 41.17it/s]\n",
      "5it [00:00, 41.42it/s]"
     ]
    },
    {
     "name": "stdout",
     "output_type": "stream",
     "text": [
      "Epoch  52 :  1.0933271488174796\n"
     ]
    },
    {
     "name": "stderr",
     "output_type": "stream",
     "text": [
      "42it [00:01, 39.40it/s]\n",
      "4it [00:00, 38.67it/s]"
     ]
    },
    {
     "name": "stdout",
     "output_type": "stream",
     "text": [
      "Epoch  53 :  0.9614111036062241\n"
     ]
    },
    {
     "name": "stderr",
     "output_type": "stream",
     "text": [
      "42it [00:01, 40.41it/s]\n",
      "5it [00:00, 42.50it/s]"
     ]
    },
    {
     "name": "stdout",
     "output_type": "stream",
     "text": [
      "Epoch  54 :  0.9827394979074597\n"
     ]
    },
    {
     "name": "stderr",
     "output_type": "stream",
     "text": [
      "42it [00:00, 43.01it/s]\n",
      "5it [00:00, 42.53it/s]"
     ]
    },
    {
     "name": "stdout",
     "output_type": "stream",
     "text": [
      "Epoch  55 :  0.8633527550846338\n"
     ]
    },
    {
     "name": "stderr",
     "output_type": "stream",
     "text": [
      "42it [00:00, 43.26it/s]\n",
      "5it [00:00, 43.00it/s]"
     ]
    },
    {
     "name": "stdout",
     "output_type": "stream",
     "text": [
      "Epoch  56 :  0.9103375095874071\n"
     ]
    },
    {
     "name": "stderr",
     "output_type": "stream",
     "text": [
      "42it [00:01, 40.54it/s]\n",
      "5it [00:00, 41.24it/s]"
     ]
    },
    {
     "name": "stdout",
     "output_type": "stream",
     "text": [
      "Epoch  57 :  0.995463827624917\n"
     ]
    },
    {
     "name": "stderr",
     "output_type": "stream",
     "text": [
      "42it [00:01, 41.74it/s]\n",
      "5it [00:00, 41.16it/s]"
     ]
    },
    {
     "name": "stdout",
     "output_type": "stream",
     "text": [
      "Epoch  58 :  0.9400144843384624\n"
     ]
    },
    {
     "name": "stderr",
     "output_type": "stream",
     "text": [
      "42it [00:01, 41.64it/s]\n",
      "4it [00:00, 34.35it/s]"
     ]
    },
    {
     "name": "stdout",
     "output_type": "stream",
     "text": [
      "Epoch  59 :  0.9832228519953787\n"
     ]
    },
    {
     "name": "stderr",
     "output_type": "stream",
     "text": [
      "42it [00:01, 40.78it/s]\n",
      "5it [00:00, 41.26it/s]"
     ]
    },
    {
     "name": "stdout",
     "output_type": "stream",
     "text": [
      "Epoch  60 :  0.8868562653660774\n"
     ]
    },
    {
     "name": "stderr",
     "output_type": "stream",
     "text": [
      "42it [00:01, 41.16it/s]\n",
      "5it [00:00, 41.20it/s]"
     ]
    },
    {
     "name": "stdout",
     "output_type": "stream",
     "text": [
      "Epoch  61 :  0.9293682333081961\n"
     ]
    },
    {
     "name": "stderr",
     "output_type": "stream",
     "text": [
      "42it [00:01, 38.23it/s]\n",
      "4it [00:00, 39.75it/s]"
     ]
    },
    {
     "name": "stdout",
     "output_type": "stream",
     "text": [
      "Epoch  62 :  0.907146630808711\n"
     ]
    },
    {
     "name": "stderr",
     "output_type": "stream",
     "text": [
      "42it [00:01, 41.74it/s]\n",
      "5it [00:00, 40.47it/s]"
     ]
    },
    {
     "name": "stdout",
     "output_type": "stream",
     "text": [
      "Epoch  63 :  0.9393111295066774\n"
     ]
    },
    {
     "name": "stderr",
     "output_type": "stream",
     "text": [
      "42it [00:01, 41.13it/s]\n",
      "5it [00:00, 41.73it/s]"
     ]
    },
    {
     "name": "stdout",
     "output_type": "stream",
     "text": [
      "Epoch  64 :  0.9731687339954078\n"
     ]
    },
    {
     "name": "stderr",
     "output_type": "stream",
     "text": [
      "42it [00:01, 40.62it/s]\n",
      "4it [00:00, 35.22it/s]"
     ]
    },
    {
     "name": "stdout",
     "output_type": "stream",
     "text": [
      "Epoch  65 :  0.8248755591921508\n"
     ]
    },
    {
     "name": "stderr",
     "output_type": "stream",
     "text": [
      "42it [00:01, 40.76it/s]\n",
      "4it [00:00, 32.93it/s]"
     ]
    },
    {
     "name": "stdout",
     "output_type": "stream",
     "text": [
      "Epoch  66 :  0.9100934443995357\n"
     ]
    },
    {
     "name": "stderr",
     "output_type": "stream",
     "text": [
      "42it [00:01, 39.09it/s]\n",
      "4it [00:00, 39.68it/s]"
     ]
    },
    {
     "name": "stdout",
     "output_type": "stream",
     "text": [
      "Epoch  67 :  0.8118168688379228\n"
     ]
    },
    {
     "name": "stderr",
     "output_type": "stream",
     "text": [
      "42it [00:01, 39.75it/s]\n",
      "4it [00:00, 39.87it/s]"
     ]
    },
    {
     "name": "stdout",
     "output_type": "stream",
     "text": [
      "Epoch  68 :  0.9404263757169247\n"
     ]
    },
    {
     "name": "stderr",
     "output_type": "stream",
     "text": [
      "42it [00:01, 39.44it/s]\n",
      "4it [00:00, 39.31it/s]"
     ]
    },
    {
     "name": "stdout",
     "output_type": "stream",
     "text": [
      "Epoch  69 :  0.7904653125442564\n"
     ]
    },
    {
     "name": "stderr",
     "output_type": "stream",
     "text": [
      "42it [00:01, 39.65it/s]\n",
      "4it [00:00, 39.53it/s]"
     ]
    },
    {
     "name": "stdout",
     "output_type": "stream",
     "text": [
      "Epoch  70 :  0.8161874306388199\n"
     ]
    },
    {
     "name": "stderr",
     "output_type": "stream",
     "text": [
      "42it [00:01, 40.06it/s]\n",
      "5it [00:00, 41.74it/s]"
     ]
    },
    {
     "name": "stdout",
     "output_type": "stream",
     "text": [
      "Epoch  71 :  0.7883638376370072\n"
     ]
    },
    {
     "name": "stderr",
     "output_type": "stream",
     "text": [
      "42it [00:00, 43.01it/s]\n",
      "5it [00:00, 42.72it/s]"
     ]
    },
    {
     "name": "stdout",
     "output_type": "stream",
     "text": [
      "Epoch  72 :  0.9657486113719642\n"
     ]
    },
    {
     "name": "stderr",
     "output_type": "stream",
     "text": [
      "42it [00:01, 41.87it/s]\n",
      "5it [00:00, 42.28it/s]"
     ]
    },
    {
     "name": "stdout",
     "output_type": "stream",
     "text": [
      "Epoch  73 :  0.8471525320783257\n"
     ]
    },
    {
     "name": "stderr",
     "output_type": "stream",
     "text": [
      "42it [00:00, 43.08it/s]\n",
      "5it [00:00, 42.95it/s]"
     ]
    },
    {
     "name": "stdout",
     "output_type": "stream",
     "text": [
      "Epoch  74 :  0.8479609312489629\n"
     ]
    },
    {
     "name": "stderr",
     "output_type": "stream",
     "text": [
      "42it [00:00, 43.20it/s]\n",
      "5it [00:00, 43.16it/s]"
     ]
    },
    {
     "name": "stdout",
     "output_type": "stream",
     "text": [
      "Epoch  75 :  0.7567363674752414\n"
     ]
    },
    {
     "name": "stderr",
     "output_type": "stream",
     "text": [
      "42it [00:00, 43.00it/s]\n",
      "5it [00:00, 42.66it/s]"
     ]
    },
    {
     "name": "stdout",
     "output_type": "stream",
     "text": [
      "Epoch  76 :  0.8920704005286098\n"
     ]
    },
    {
     "name": "stderr",
     "output_type": "stream",
     "text": [
      "42it [00:01, 41.29it/s]\n",
      "4it [00:00, 36.18it/s]"
     ]
    },
    {
     "name": "stdout",
     "output_type": "stream",
     "text": [
      "Epoch  77 :  0.7989081875421107\n"
     ]
    },
    {
     "name": "stderr",
     "output_type": "stream",
     "text": [
      "42it [00:01, 40.13it/s]\n",
      "5it [00:00, 42.06it/s]"
     ]
    },
    {
     "name": "stdout",
     "output_type": "stream",
     "text": [
      "Epoch  78 :  0.8487789337523282\n"
     ]
    },
    {
     "name": "stderr",
     "output_type": "stream",
     "text": [
      "42it [00:01, 41.28it/s]\n",
      "5it [00:00, 42.90it/s]"
     ]
    },
    {
     "name": "stdout",
     "output_type": "stream",
     "text": [
      "Epoch  79 :  0.7307331594638526\n"
     ]
    },
    {
     "name": "stderr",
     "output_type": "stream",
     "text": [
      "42it [00:00, 42.44it/s]\n",
      "5it [00:00, 42.50it/s]"
     ]
    },
    {
     "name": "stdout",
     "output_type": "stream",
     "text": [
      "Epoch  80 :  0.7158227399922907\n"
     ]
    },
    {
     "name": "stderr",
     "output_type": "stream",
     "text": [
      "42it [00:01, 41.67it/s]\n",
      "4it [00:00, 38.45it/s]"
     ]
    },
    {
     "name": "stdout",
     "output_type": "stream",
     "text": [
      "Epoch  81 :  0.908860030118376\n"
     ]
    },
    {
     "name": "stderr",
     "output_type": "stream",
     "text": [
      "42it [00:01, 40.73it/s]\n",
      "5it [00:00, 41.01it/s]"
     ]
    },
    {
     "name": "stdout",
     "output_type": "stream",
     "text": [
      "Epoch  82 :  0.7961733876727521\n"
     ]
    },
    {
     "name": "stderr",
     "output_type": "stream",
     "text": [
      "42it [00:01, 41.44it/s]\n",
      "5it [00:00, 41.60it/s]"
     ]
    },
    {
     "name": "stdout",
     "output_type": "stream",
     "text": [
      "Epoch  83 :  0.7577468417584896\n"
     ]
    },
    {
     "name": "stderr",
     "output_type": "stream",
     "text": [
      "42it [00:01, 41.30it/s]\n",
      "4it [00:00, 39.51it/s]"
     ]
    },
    {
     "name": "stdout",
     "output_type": "stream",
     "text": [
      "Epoch  84 :  0.7535980525426567\n"
     ]
    },
    {
     "name": "stderr",
     "output_type": "stream",
     "text": [
      "42it [00:01, 41.17it/s]\n",
      "5it [00:00, 41.08it/s]"
     ]
    },
    {
     "name": "stdout",
     "output_type": "stream",
     "text": [
      "Epoch  85 :  0.7643105168826878\n"
     ]
    },
    {
     "name": "stderr",
     "output_type": "stream",
     "text": [
      "42it [00:01, 40.50it/s]\n",
      "5it [00:00, 41.55it/s]"
     ]
    },
    {
     "name": "stdout",
     "output_type": "stream",
     "text": [
      "Epoch  86 :  0.6086850087158382\n"
     ]
    },
    {
     "name": "stderr",
     "output_type": "stream",
     "text": [
      "42it [00:01, 41.30it/s]\n",
      "5it [00:00, 41.10it/s]"
     ]
    },
    {
     "name": "stdout",
     "output_type": "stream",
     "text": [
      "Epoch  87 :  0.7510976532939821\n"
     ]
    },
    {
     "name": "stderr",
     "output_type": "stream",
     "text": [
      "42it [00:01, 41.39it/s]\n",
      "4it [00:00, 38.73it/s]"
     ]
    },
    {
     "name": "stdout",
     "output_type": "stream",
     "text": [
      "Epoch  88 :  0.7332241898402572\n"
     ]
    },
    {
     "name": "stderr",
     "output_type": "stream",
     "text": [
      "42it [00:01, 40.85it/s]\n",
      "5it [00:00, 40.51it/s]"
     ]
    },
    {
     "name": "stdout",
     "output_type": "stream",
     "text": [
      "Epoch  89 :  0.6635853799525648\n"
     ]
    },
    {
     "name": "stderr",
     "output_type": "stream",
     "text": [
      "42it [00:01, 41.38it/s]\n",
      "5it [00:00, 40.83it/s]"
     ]
    },
    {
     "name": "stdout",
     "output_type": "stream",
     "text": [
      "Epoch  90 :  0.8020281428471208\n"
     ]
    },
    {
     "name": "stderr",
     "output_type": "stream",
     "text": [
      "42it [00:01, 41.22it/s]\n",
      "4it [00:00, 39.44it/s]"
     ]
    },
    {
     "name": "stdout",
     "output_type": "stream",
     "text": [
      "Epoch  91 :  0.6948452750220895\n"
     ]
    },
    {
     "name": "stderr",
     "output_type": "stream",
     "text": [
      "42it [00:01, 41.08it/s]\n",
      "4it [00:00, 38.77it/s]"
     ]
    },
    {
     "name": "stdout",
     "output_type": "stream",
     "text": [
      "Epoch  92 :  0.6754214242100716\n"
     ]
    },
    {
     "name": "stderr",
     "output_type": "stream",
     "text": [
      "42it [00:00, 42.32it/s]\n",
      "5it [00:00, 41.53it/s]"
     ]
    },
    {
     "name": "stdout",
     "output_type": "stream",
     "text": [
      "Epoch  93 :  0.6079415511339903\n"
     ]
    },
    {
     "name": "stderr",
     "output_type": "stream",
     "text": [
      "42it [00:00, 42.64it/s]\n",
      "4it [00:00, 37.79it/s]"
     ]
    },
    {
     "name": "stdout",
     "output_type": "stream",
     "text": [
      "Epoch  94 :  0.6381394993513823\n"
     ]
    },
    {
     "name": "stderr",
     "output_type": "stream",
     "text": [
      "42it [00:00, 42.23it/s]\n",
      "4it [00:00, 39.60it/s]"
     ]
    },
    {
     "name": "stdout",
     "output_type": "stream",
     "text": [
      "Epoch  95 :  0.6466371032875031\n"
     ]
    },
    {
     "name": "stderr",
     "output_type": "stream",
     "text": [
      "42it [00:01, 38.94it/s]\n",
      "4it [00:00, 37.74it/s]"
     ]
    },
    {
     "name": "stdout",
     "output_type": "stream",
     "text": [
      "Epoch  96 :  0.7608210584148765\n"
     ]
    },
    {
     "name": "stderr",
     "output_type": "stream",
     "text": [
      "42it [00:01, 34.45it/s]\n",
      "4it [00:00, 39.42it/s]"
     ]
    },
    {
     "name": "stdout",
     "output_type": "stream",
     "text": [
      "Epoch  97 :  0.6773190759122372\n"
     ]
    },
    {
     "name": "stderr",
     "output_type": "stream",
     "text": [
      "42it [00:01, 41.32it/s]\n",
      "4it [00:00, 34.96it/s]"
     ]
    },
    {
     "name": "stdout",
     "output_type": "stream",
     "text": [
      "Epoch  98 :  0.5841328483074903\n"
     ]
    },
    {
     "name": "stderr",
     "output_type": "stream",
     "text": [
      "42it [00:01, 38.33it/s]\n",
      "4it [00:00, 38.98it/s]"
     ]
    },
    {
     "name": "stdout",
     "output_type": "stream",
     "text": [
      "Epoch  99 :  0.6079353457316756\n"
     ]
    },
    {
     "name": "stderr",
     "output_type": "stream",
     "text": [
      "42it [00:01, 39.03it/s]\n",
      "5it [00:00, 42.37it/s]"
     ]
    },
    {
     "name": "stdout",
     "output_type": "stream",
     "text": [
      "Epoch  100 :  0.5690587640274316\n"
     ]
    },
    {
     "name": "stderr",
     "output_type": "stream",
     "text": [
      "42it [00:01, 41.81it/s]\n",
      "5it [00:00, 42.17it/s]"
     ]
    },
    {
     "name": "stdout",
     "output_type": "stream",
     "text": [
      "Epoch  101 :  0.7309436097275466\n"
     ]
    },
    {
     "name": "stderr",
     "output_type": "stream",
     "text": [
      "42it [00:00, 42.11it/s]\n",
      "5it [00:00, 42.17it/s]"
     ]
    },
    {
     "name": "stdout",
     "output_type": "stream",
     "text": [
      "Epoch  102 :  0.5068829928059131\n"
     ]
    },
    {
     "name": "stderr",
     "output_type": "stream",
     "text": [
      "42it [00:00, 42.29it/s]\n",
      "5it [00:00, 41.78it/s]"
     ]
    },
    {
     "name": "stdout",
     "output_type": "stream",
     "text": [
      "Epoch  103 :  0.7238034354522824\n"
     ]
    },
    {
     "name": "stderr",
     "output_type": "stream",
     "text": [
      "42it [00:00, 42.00it/s]\n",
      "5it [00:00, 41.04it/s]"
     ]
    },
    {
     "name": "stdout",
     "output_type": "stream",
     "text": [
      "Epoch  104 :  0.6378224247600883\n"
     ]
    },
    {
     "name": "stderr",
     "output_type": "stream",
     "text": [
      "42it [00:01, 41.78it/s]\n",
      "4it [00:00, 37.65it/s]"
     ]
    },
    {
     "name": "stdout",
     "output_type": "stream",
     "text": [
      "Epoch  105 :  0.6332738178316504\n"
     ]
    },
    {
     "name": "stderr",
     "output_type": "stream",
     "text": [
      "42it [00:01, 37.69it/s]\n",
      "5it [00:00, 41.89it/s]"
     ]
    },
    {
     "name": "stdout",
     "output_type": "stream",
     "text": [
      "Epoch  106 :  0.540040161460638\n"
     ]
    },
    {
     "name": "stderr",
     "output_type": "stream",
     "text": [
      "42it [00:00, 43.01it/s]\n",
      "5it [00:00, 43.08it/s]"
     ]
    },
    {
     "name": "stdout",
     "output_type": "stream",
     "text": [
      "Epoch  107 :  0.6111020483076572\n"
     ]
    },
    {
     "name": "stderr",
     "output_type": "stream",
     "text": [
      "42it [00:00, 43.10it/s]\n",
      "5it [00:00, 43.16it/s]"
     ]
    },
    {
     "name": "stdout",
     "output_type": "stream",
     "text": [
      "Epoch  108 :  0.500549266114831\n"
     ]
    },
    {
     "name": "stderr",
     "output_type": "stream",
     "text": [
      "42it [00:01, 39.62it/s]\n",
      "4it [00:00, 37.91it/s]"
     ]
    },
    {
     "name": "stdout",
     "output_type": "stream",
     "text": [
      "Epoch  109 :  0.5583362323231995\n"
     ]
    },
    {
     "name": "stderr",
     "output_type": "stream",
     "text": [
      "42it [00:01, 39.90it/s]\n",
      "5it [00:00, 41.35it/s]"
     ]
    },
    {
     "name": "stdout",
     "output_type": "stream",
     "text": [
      "Epoch  110 :  0.5455470122396946\n"
     ]
    },
    {
     "name": "stderr",
     "output_type": "stream",
     "text": [
      "42it [00:01, 41.54it/s]\n",
      "5it [00:00, 41.39it/s]"
     ]
    },
    {
     "name": "stdout",
     "output_type": "stream",
     "text": [
      "Epoch  111 :  0.5797173641622066\n"
     ]
    },
    {
     "name": "stderr",
     "output_type": "stream",
     "text": [
      "42it [00:01, 41.63it/s]\n",
      "4it [00:00, 39.34it/s]"
     ]
    },
    {
     "name": "stdout",
     "output_type": "stream",
     "text": [
      "Epoch  112 :  0.4794791585300118\n"
     ]
    },
    {
     "name": "stderr",
     "output_type": "stream",
     "text": [
      "42it [00:01, 41.99it/s]\n",
      "5it [00:00, 41.56it/s]"
     ]
    },
    {
     "name": "stdout",
     "output_type": "stream",
     "text": [
      "Epoch  113 :  0.7088212301023304\n"
     ]
    },
    {
     "name": "stderr",
     "output_type": "stream",
     "text": [
      "42it [00:01, 41.90it/s]\n",
      "5it [00:00, 42.00it/s]"
     ]
    },
    {
     "name": "stdout",
     "output_type": "stream",
     "text": [
      "Epoch  114 :  0.5353252715431154\n"
     ]
    },
    {
     "name": "stderr",
     "output_type": "stream",
     "text": [
      "42it [00:00, 42.28it/s]\n",
      "5it [00:00, 42.19it/s]"
     ]
    },
    {
     "name": "stdout",
     "output_type": "stream",
     "text": [
      "Epoch  115 :  0.53024827176705\n"
     ]
    },
    {
     "name": "stderr",
     "output_type": "stream",
     "text": [
      "42it [00:01, 41.24it/s]\n",
      "5it [00:00, 40.76it/s]"
     ]
    },
    {
     "name": "stdout",
     "output_type": "stream",
     "text": [
      "Epoch  116 :  0.5311391311697662\n"
     ]
    },
    {
     "name": "stderr",
     "output_type": "stream",
     "text": [
      "42it [00:01, 41.08it/s]\n",
      "5it [00:00, 40.62it/s]"
     ]
    },
    {
     "name": "stdout",
     "output_type": "stream",
     "text": [
      "Epoch  117 :  0.5460217958316207\n"
     ]
    },
    {
     "name": "stderr",
     "output_type": "stream",
     "text": [
      "42it [00:01, 41.69it/s]\n",
      "5it [00:00, 41.61it/s]"
     ]
    },
    {
     "name": "stdout",
     "output_type": "stream",
     "text": [
      "Epoch  118 :  0.5778505078051239\n"
     ]
    },
    {
     "name": "stderr",
     "output_type": "stream",
     "text": [
      "42it [00:01, 40.92it/s]\n",
      "4it [00:00, 38.66it/s]"
     ]
    },
    {
     "name": "stdout",
     "output_type": "stream",
     "text": [
      "Epoch  119 :  0.4984408961609006\n"
     ]
    },
    {
     "name": "stderr",
     "output_type": "stream",
     "text": [
      "42it [00:01, 41.44it/s]\n",
      "5it [00:00, 41.95it/s]"
     ]
    },
    {
     "name": "stdout",
     "output_type": "stream",
     "text": [
      "Epoch  120 :  0.5636646386701614\n"
     ]
    },
    {
     "name": "stderr",
     "output_type": "stream",
     "text": [
      "42it [00:00, 42.09it/s]\n",
      "5it [00:00, 40.99it/s]"
     ]
    },
    {
     "name": "stdout",
     "output_type": "stream",
     "text": [
      "Epoch  121 :  0.4718024586327374\n"
     ]
    },
    {
     "name": "stderr",
     "output_type": "stream",
     "text": [
      "42it [00:01, 41.44it/s]\n",
      "5it [00:00, 41.12it/s]"
     ]
    },
    {
     "name": "stdout",
     "output_type": "stream",
     "text": [
      "Epoch  122 :  0.5672969459556043\n"
     ]
    },
    {
     "name": "stderr",
     "output_type": "stream",
     "text": [
      "42it [00:01, 39.32it/s]\n",
      "4it [00:00, 39.08it/s]"
     ]
    },
    {
     "name": "stdout",
     "output_type": "stream",
     "text": [
      "Epoch  123 :  0.4200179517501965\n"
     ]
    },
    {
     "name": "stderr",
     "output_type": "stream",
     "text": [
      "42it [00:01, 39.21it/s]\n",
      "4it [00:00, 37.97it/s]"
     ]
    },
    {
     "name": "stdout",
     "output_type": "stream",
     "text": [
      "Epoch  124 :  0.510371656389907\n"
     ]
    },
    {
     "name": "stderr",
     "output_type": "stream",
     "text": [
      "42it [00:01, 39.00it/s]\n",
      "4it [00:00, 39.21it/s]"
     ]
    },
    {
     "name": "stdout",
     "output_type": "stream",
     "text": [
      "Epoch  125 :  0.5256253501866013\n"
     ]
    },
    {
     "name": "stderr",
     "output_type": "stream",
     "text": [
      "42it [00:01, 39.31it/s]\n",
      "4it [00:00, 39.09it/s]"
     ]
    },
    {
     "name": "stdout",
     "output_type": "stream",
     "text": [
      "Epoch  126 :  0.4459758182056248\n"
     ]
    },
    {
     "name": "stderr",
     "output_type": "stream",
     "text": [
      "42it [00:01, 39.25it/s]\n",
      "4it [00:00, 39.00it/s]"
     ]
    },
    {
     "name": "stdout",
     "output_type": "stream",
     "text": [
      "Epoch  127 :  0.5063441677484661\n"
     ]
    },
    {
     "name": "stderr",
     "output_type": "stream",
     "text": [
      "42it [00:01, 40.89it/s]\n",
      "4it [00:00, 38.84it/s]"
     ]
    },
    {
     "name": "stdout",
     "output_type": "stream",
     "text": [
      "Epoch  128 :  0.4289296694332734\n"
     ]
    },
    {
     "name": "stderr",
     "output_type": "stream",
     "text": [
      "42it [00:01, 41.99it/s]\n",
      "4it [00:00, 39.88it/s]"
     ]
    },
    {
     "name": "stdout",
     "output_type": "stream",
     "text": [
      "Epoch  129 :  0.5449616457335651\n"
     ]
    },
    {
     "name": "stderr",
     "output_type": "stream",
     "text": [
      "42it [00:00, 42.15it/s]\n",
      "4it [00:00, 33.85it/s]"
     ]
    },
    {
     "name": "stdout",
     "output_type": "stream",
     "text": [
      "Epoch  130 :  0.4873136463575065\n"
     ]
    },
    {
     "name": "stderr",
     "output_type": "stream",
     "text": [
      "42it [00:01, 41.40it/s]\n",
      "4it [00:00, 34.66it/s]"
     ]
    },
    {
     "name": "stdout",
     "output_type": "stream",
     "text": [
      "Epoch  131 :  0.47507174336351454\n"
     ]
    },
    {
     "name": "stderr",
     "output_type": "stream",
     "text": [
      "42it [00:01, 40.41it/s]\n",
      "3it [00:00, 29.90it/s]"
     ]
    },
    {
     "name": "stdout",
     "output_type": "stream",
     "text": [
      "Epoch  132 :  0.4816525806672871\n"
     ]
    },
    {
     "name": "stderr",
     "output_type": "stream",
     "text": [
      "42it [00:01, 40.21it/s]\n",
      "4it [00:00, 39.92it/s]"
     ]
    },
    {
     "name": "stdout",
     "output_type": "stream",
     "text": [
      "Epoch  133 :  0.5445091987494379\n"
     ]
    },
    {
     "name": "stderr",
     "output_type": "stream",
     "text": [
      "42it [00:01, 41.50it/s]\n",
      "4it [00:00, 39.58it/s]"
     ]
    },
    {
     "name": "stdout",
     "output_type": "stream",
     "text": [
      "Epoch  134 :  0.5270432527177036\n"
     ]
    },
    {
     "name": "stderr",
     "output_type": "stream",
     "text": [
      "42it [00:01, 39.10it/s]\n",
      "4it [00:00, 39.10it/s]"
     ]
    },
    {
     "name": "stdout",
     "output_type": "stream",
     "text": [
      "Epoch  135 :  0.5308261313475668\n"
     ]
    },
    {
     "name": "stderr",
     "output_type": "stream",
     "text": [
      "42it [00:01, 39.42it/s]\n",
      "4it [00:00, 38.83it/s]"
     ]
    },
    {
     "name": "stdout",
     "output_type": "stream",
     "text": [
      "Epoch  136 :  0.48523764591664076\n"
     ]
    },
    {
     "name": "stderr",
     "output_type": "stream",
     "text": [
      "42it [00:01, 38.94it/s]\n",
      "4it [00:00, 37.54it/s]"
     ]
    },
    {
     "name": "stdout",
     "output_type": "stream",
     "text": [
      "Epoch  137 :  0.4468107793945819\n"
     ]
    },
    {
     "name": "stderr",
     "output_type": "stream",
     "text": [
      "42it [00:01, 40.00it/s]\n",
      "5it [00:00, 41.40it/s]"
     ]
    },
    {
     "name": "stdout",
     "output_type": "stream",
     "text": [
      "Epoch  138 :  0.4503000006079674\n"
     ]
    },
    {
     "name": "stderr",
     "output_type": "stream",
     "text": [
      "42it [00:01, 40.93it/s]\n",
      "5it [00:00, 40.99it/s]"
     ]
    },
    {
     "name": "stdout",
     "output_type": "stream",
     "text": [
      "Epoch  139 :  0.4628262117039412\n"
     ]
    },
    {
     "name": "stderr",
     "output_type": "stream",
     "text": [
      "42it [00:01, 39.66it/s]\n",
      "4it [00:00, 38.87it/s]"
     ]
    },
    {
     "name": "stdout",
     "output_type": "stream",
     "text": [
      "Epoch  140 :  0.4886815713252872\n"
     ]
    },
    {
     "name": "stderr",
     "output_type": "stream",
     "text": [
      "42it [00:01, 40.60it/s]\n",
      "5it [00:00, 40.69it/s]"
     ]
    },
    {
     "name": "stdout",
     "output_type": "stream",
     "text": [
      "Epoch  141 :  0.4343140125274658\n"
     ]
    },
    {
     "name": "stderr",
     "output_type": "stream",
     "text": [
      "42it [00:01, 40.64it/s]\n",
      "4it [00:00, 36.01it/s]"
     ]
    },
    {
     "name": "stdout",
     "output_type": "stream",
     "text": [
      "Epoch  142 :  0.4421073740813881\n"
     ]
    },
    {
     "name": "stderr",
     "output_type": "stream",
     "text": [
      "42it [00:01, 41.30it/s]\n",
      "5it [00:00, 41.80it/s]"
     ]
    },
    {
     "name": "stdout",
     "output_type": "stream",
     "text": [
      "Epoch  143 :  0.5683875081595033\n"
     ]
    },
    {
     "name": "stderr",
     "output_type": "stream",
     "text": [
      "42it [00:01, 41.16it/s]\n",
      "4it [00:00, 32.47it/s]"
     ]
    },
    {
     "name": "stdout",
     "output_type": "stream",
     "text": [
      "Epoch  144 :  0.3861445130314678\n"
     ]
    },
    {
     "name": "stderr",
     "output_type": "stream",
     "text": [
      "42it [00:01, 37.85it/s]\n",
      "4it [00:00, 38.50it/s]"
     ]
    },
    {
     "name": "stdout",
     "output_type": "stream",
     "text": [
      "Epoch  145 :  0.49185107462108135\n"
     ]
    },
    {
     "name": "stderr",
     "output_type": "stream",
     "text": [
      "42it [00:01, 38.67it/s]\n",
      "4it [00:00, 38.42it/s]"
     ]
    },
    {
     "name": "stdout",
     "output_type": "stream",
     "text": [
      "Epoch  146 :  0.5400952014606446\n"
     ]
    },
    {
     "name": "stderr",
     "output_type": "stream",
     "text": [
      "42it [00:01, 38.68it/s]\n",
      "4it [00:00, 38.81it/s]"
     ]
    },
    {
     "name": "stdout",
     "output_type": "stream",
     "text": [
      "Epoch  147 :  0.47980808140709996\n"
     ]
    },
    {
     "name": "stderr",
     "output_type": "stream",
     "text": [
      "42it [00:01, 39.03it/s]\n",
      "4it [00:00, 39.10it/s]"
     ]
    },
    {
     "name": "stdout",
     "output_type": "stream",
     "text": [
      "Epoch  148 :  0.5129077951423824\n"
     ]
    },
    {
     "name": "stderr",
     "output_type": "stream",
     "text": [
      "42it [00:01, 38.58it/s]\n",
      "4it [00:00, 37.61it/s]"
     ]
    },
    {
     "name": "stdout",
     "output_type": "stream",
     "text": [
      "Epoch  149 :  0.4666510559618473\n"
     ]
    },
    {
     "name": "stderr",
     "output_type": "stream",
     "text": [
      "42it [00:01, 38.94it/s]\n",
      "4it [00:00, 37.62it/s]"
     ]
    },
    {
     "name": "stdout",
     "output_type": "stream",
     "text": [
      "Epoch  150 :  0.4044528256636113\n"
     ]
    },
    {
     "name": "stderr",
     "output_type": "stream",
     "text": [
      "42it [00:01, 38.42it/s]\n",
      "4it [00:00, 38.27it/s]"
     ]
    },
    {
     "name": "stdout",
     "output_type": "stream",
     "text": [
      "Epoch  151 :  0.52091308333911\n"
     ]
    },
    {
     "name": "stderr",
     "output_type": "stream",
     "text": [
      "42it [00:01, 38.75it/s]\n",
      "4it [00:00, 36.42it/s]"
     ]
    },
    {
     "name": "stdout",
     "output_type": "stream",
     "text": [
      "Epoch  152 :  0.5015208509285003\n"
     ]
    },
    {
     "name": "stderr",
     "output_type": "stream",
     "text": [
      "42it [00:01, 37.89it/s]\n",
      "4it [00:00, 37.74it/s]"
     ]
    },
    {
     "name": "stdout",
     "output_type": "stream",
     "text": [
      "Epoch  153 :  0.39751969766803086\n"
     ]
    },
    {
     "name": "stderr",
     "output_type": "stream",
     "text": [
      "42it [00:01, 38.94it/s]\n",
      "4it [00:00, 38.44it/s]"
     ]
    },
    {
     "name": "stdout",
     "output_type": "stream",
     "text": [
      "Epoch  154 :  0.4387285124976188\n"
     ]
    },
    {
     "name": "stderr",
     "output_type": "stream",
     "text": [
      "42it [00:01, 39.23it/s]\n",
      "4it [00:00, 38.93it/s]"
     ]
    },
    {
     "name": "stdout",
     "output_type": "stream",
     "text": [
      "Epoch  155 :  0.45149502088315785\n"
     ]
    },
    {
     "name": "stderr",
     "output_type": "stream",
     "text": [
      "42it [00:01, 39.20it/s]\n",
      "4it [00:00, 39.34it/s]"
     ]
    },
    {
     "name": "stdout",
     "output_type": "stream",
     "text": [
      "Epoch  156 :  0.4611929659731686\n"
     ]
    },
    {
     "name": "stderr",
     "output_type": "stream",
     "text": [
      "42it [00:01, 41.16it/s]\n",
      "5it [00:00, 41.41it/s]"
     ]
    },
    {
     "name": "stdout",
     "output_type": "stream",
     "text": [
      "Epoch  157 :  0.43723924783989787\n"
     ]
    },
    {
     "name": "stderr",
     "output_type": "stream",
     "text": [
      "42it [00:01, 41.42it/s]\n",
      "5it [00:00, 37.97it/s]"
     ]
    },
    {
     "name": "stdout",
     "output_type": "stream",
     "text": [
      "Epoch  158 :  0.560476710088551\n"
     ]
    },
    {
     "name": "stderr",
     "output_type": "stream",
     "text": [
      "42it [00:01, 41.83it/s]\n",
      "4it [00:00, 32.25it/s]"
     ]
    },
    {
     "name": "stdout",
     "output_type": "stream",
     "text": [
      "Epoch  159 :  0.40829465351998806\n"
     ]
    },
    {
     "name": "stderr",
     "output_type": "stream",
     "text": [
      "42it [00:01, 37.55it/s]\n",
      "4it [00:00, 38.60it/s]"
     ]
    },
    {
     "name": "stdout",
     "output_type": "stream",
     "text": [
      "Epoch  160 :  0.4649627205217257\n"
     ]
    },
    {
     "name": "stderr",
     "output_type": "stream",
     "text": [
      "42it [00:01, 37.93it/s]\n",
      "3it [00:00, 29.21it/s]"
     ]
    },
    {
     "name": "stdout",
     "output_type": "stream",
     "text": [
      "Epoch  161 :  0.4887554523302242\n"
     ]
    },
    {
     "name": "stderr",
     "output_type": "stream",
     "text": [
      "42it [00:01, 36.12it/s]\n",
      "5it [00:00, 41.19it/s]"
     ]
    },
    {
     "name": "stdout",
     "output_type": "stream",
     "text": [
      "Epoch  162 :  0.3765483577735722\n"
     ]
    },
    {
     "name": "stderr",
     "output_type": "stream",
     "text": [
      "42it [00:01, 41.19it/s]\n",
      "5it [00:00, 40.58it/s]"
     ]
    },
    {
     "name": "stdout",
     "output_type": "stream",
     "text": [
      "Epoch  163 :  0.4513160774949938\n"
     ]
    },
    {
     "name": "stderr",
     "output_type": "stream",
     "text": [
      "42it [00:01, 40.84it/s]\n",
      "5it [00:00, 41.44it/s]"
     ]
    },
    {
     "name": "stdout",
     "output_type": "stream",
     "text": [
      "Epoch  164 :  0.48364919098094106\n"
     ]
    },
    {
     "name": "stderr",
     "output_type": "stream",
     "text": [
      "42it [00:00, 42.15it/s]\n",
      "5it [00:00, 41.09it/s]"
     ]
    },
    {
     "name": "stdout",
     "output_type": "stream",
     "text": [
      "Epoch  165 :  0.4184701091144234\n"
     ]
    },
    {
     "name": "stderr",
     "output_type": "stream",
     "text": [
      "42it [00:00, 42.36it/s]\n",
      "5it [00:00, 42.40it/s]"
     ]
    },
    {
     "name": "stdout",
     "output_type": "stream",
     "text": [
      "Epoch  166 :  0.44128572125919163\n"
     ]
    },
    {
     "name": "stderr",
     "output_type": "stream",
     "text": [
      "42it [00:00, 42.61it/s]\n",
      "5it [00:00, 40.93it/s]"
     ]
    },
    {
     "name": "stdout",
     "output_type": "stream",
     "text": [
      "Epoch  167 :  0.5099258162081242\n"
     ]
    },
    {
     "name": "stderr",
     "output_type": "stream",
     "text": [
      "42it [00:00, 42.62it/s]\n",
      "5it [00:00, 42.11it/s]"
     ]
    },
    {
     "name": "stdout",
     "output_type": "stream",
     "text": [
      "Epoch  168 :  0.408640087232925\n"
     ]
    },
    {
     "name": "stderr",
     "output_type": "stream",
     "text": [
      "42it [00:01, 40.88it/s]\n",
      "5it [00:00, 40.77it/s]"
     ]
    },
    {
     "name": "stdout",
     "output_type": "stream",
     "text": [
      "Epoch  169 :  0.4214641307480633\n"
     ]
    },
    {
     "name": "stderr",
     "output_type": "stream",
     "text": [
      "42it [00:01, 39.34it/s]\n",
      "4it [00:00, 38.50it/s]"
     ]
    },
    {
     "name": "stdout",
     "output_type": "stream",
     "text": [
      "Epoch  170 :  0.43359811732079834\n"
     ]
    },
    {
     "name": "stderr",
     "output_type": "stream",
     "text": [
      "42it [00:01, 39.24it/s]\n",
      "4it [00:00, 38.83it/s]"
     ]
    },
    {
     "name": "stdout",
     "output_type": "stream",
     "text": [
      "Epoch  171 :  0.40178844844922423\n"
     ]
    },
    {
     "name": "stderr",
     "output_type": "stream",
     "text": [
      "42it [00:01, 38.41it/s]\n",
      "5it [00:00, 42.65it/s]"
     ]
    },
    {
     "name": "stdout",
     "output_type": "stream",
     "text": [
      "Epoch  172 :  0.4527370317373425\n"
     ]
    },
    {
     "name": "stderr",
     "output_type": "stream",
     "text": [
      "42it [00:00, 42.09it/s]\n",
      "4it [00:00, 36.13it/s]"
     ]
    },
    {
     "name": "stdout",
     "output_type": "stream",
     "text": [
      "Epoch  173 :  0.46593600418418646\n"
     ]
    },
    {
     "name": "stderr",
     "output_type": "stream",
     "text": [
      "42it [00:01, 41.42it/s]\n",
      "5it [00:00, 40.82it/s]"
     ]
    },
    {
     "name": "stdout",
     "output_type": "stream",
     "text": [
      "Epoch  174 :  0.4789596743648872\n"
     ]
    },
    {
     "name": "stderr",
     "output_type": "stream",
     "text": [
      "42it [00:01, 41.95it/s]\n",
      "4it [00:00, 38.90it/s]"
     ]
    },
    {
     "name": "stdout",
     "output_type": "stream",
     "text": [
      "Epoch  175 :  0.3897717581130564\n"
     ]
    },
    {
     "name": "stderr",
     "output_type": "stream",
     "text": [
      "42it [00:01, 41.52it/s]\n",
      "5it [00:00, 40.58it/s]"
     ]
    },
    {
     "name": "stdout",
     "output_type": "stream",
     "text": [
      "Epoch  176 :  0.3397833264898509\n"
     ]
    },
    {
     "name": "stderr",
     "output_type": "stream",
     "text": [
      "42it [00:01, 40.86it/s]\n",
      "5it [00:00, 41.06it/s]"
     ]
    },
    {
     "name": "stdout",
     "output_type": "stream",
     "text": [
      "Epoch  177 :  0.41519295307807624\n"
     ]
    },
    {
     "name": "stderr",
     "output_type": "stream",
     "text": [
      "42it [00:01, 41.59it/s]\n",
      "5it [00:00, 41.27it/s]"
     ]
    },
    {
     "name": "stdout",
     "output_type": "stream",
     "text": [
      "Epoch  178 :  0.4035196222830564\n"
     ]
    },
    {
     "name": "stderr",
     "output_type": "stream",
     "text": [
      "42it [00:01, 41.78it/s]\n",
      "5it [00:00, 41.46it/s]"
     ]
    },
    {
     "name": "stdout",
     "output_type": "stream",
     "text": [
      "Epoch  179 :  0.436681573279202\n"
     ]
    },
    {
     "name": "stderr",
     "output_type": "stream",
     "text": [
      "42it [00:01, 41.90it/s]\n",
      "4it [00:00, 39.95it/s]"
     ]
    },
    {
     "name": "stdout",
     "output_type": "stream",
     "text": [
      "Epoch  180 :  0.41716837603598833\n"
     ]
    },
    {
     "name": "stderr",
     "output_type": "stream",
     "text": [
      "42it [00:01, 41.20it/s]\n",
      "5it [00:00, 40.99it/s]"
     ]
    },
    {
     "name": "stdout",
     "output_type": "stream",
     "text": [
      "Epoch  181 :  0.40166022232733667\n"
     ]
    },
    {
     "name": "stderr",
     "output_type": "stream",
     "text": [
      "42it [00:01, 41.51it/s]\n",
      "5it [00:00, 40.94it/s]"
     ]
    },
    {
     "name": "stdout",
     "output_type": "stream",
     "text": [
      "Epoch  182 :  0.39709209254942834\n"
     ]
    },
    {
     "name": "stderr",
     "output_type": "stream",
     "text": [
      "42it [00:01, 41.70it/s]\n",
      "5it [00:00, 40.87it/s]"
     ]
    },
    {
     "name": "stdout",
     "output_type": "stream",
     "text": [
      "Epoch  183 :  0.4630474429577589\n"
     ]
    },
    {
     "name": "stderr",
     "output_type": "stream",
     "text": [
      "42it [00:01, 41.74it/s]\n",
      "5it [00:00, 41.22it/s]"
     ]
    },
    {
     "name": "stdout",
     "output_type": "stream",
     "text": [
      "Epoch  184 :  0.435102405725047\n"
     ]
    },
    {
     "name": "stderr",
     "output_type": "stream",
     "text": [
      "42it [00:01, 41.73it/s]\n",
      "5it [00:00, 41.55it/s]"
     ]
    },
    {
     "name": "stdout",
     "output_type": "stream",
     "text": [
      "Epoch  185 :  0.3481305339373648\n"
     ]
    },
    {
     "name": "stderr",
     "output_type": "stream",
     "text": [
      "42it [00:01, 41.84it/s]\n",
      "4it [00:00, 33.96it/s]"
     ]
    },
    {
     "name": "stdout",
     "output_type": "stream",
     "text": [
      "Epoch  186 :  0.4418907752260566\n"
     ]
    },
    {
     "name": "stderr",
     "output_type": "stream",
     "text": [
      "42it [00:01, 40.59it/s]\n",
      "5it [00:00, 41.25it/s]"
     ]
    },
    {
     "name": "stdout",
     "output_type": "stream",
     "text": [
      "Epoch  187 :  0.39419520273804665\n"
     ]
    },
    {
     "name": "stderr",
     "output_type": "stream",
     "text": [
      "42it [00:01, 41.68it/s]\n",
      "5it [00:00, 40.90it/s]"
     ]
    },
    {
     "name": "stdout",
     "output_type": "stream",
     "text": [
      "Epoch  188 :  0.47583387582562864\n"
     ]
    },
    {
     "name": "stderr",
     "output_type": "stream",
     "text": [
      "42it [00:01, 41.39it/s]\n",
      "4it [00:00, 39.60it/s]"
     ]
    },
    {
     "name": "stdout",
     "output_type": "stream",
     "text": [
      "Epoch  189 :  0.4147492472548038\n"
     ]
    },
    {
     "name": "stderr",
     "output_type": "stream",
     "text": [
      "42it [00:01, 41.75it/s]\n",
      "4it [00:00, 39.57it/s]"
     ]
    },
    {
     "name": "stdout",
     "output_type": "stream",
     "text": [
      "Epoch  190 :  0.42751381429843605\n"
     ]
    },
    {
     "name": "stderr",
     "output_type": "stream",
     "text": [
      "42it [00:00, 42.63it/s]\n",
      "5it [00:00, 40.63it/s]"
     ]
    },
    {
     "name": "stdout",
     "output_type": "stream",
     "text": [
      "Epoch  191 :  0.472391395829618\n"
     ]
    },
    {
     "name": "stderr",
     "output_type": "stream",
     "text": [
      "42it [00:01, 38.69it/s]\n",
      "5it [00:00, 42.14it/s]"
     ]
    },
    {
     "name": "stdout",
     "output_type": "stream",
     "text": [
      "Epoch  192 :  0.3896658271551132\n"
     ]
    },
    {
     "name": "stderr",
     "output_type": "stream",
     "text": [
      "42it [00:00, 42.45it/s]\n",
      "5it [00:00, 43.27it/s]"
     ]
    },
    {
     "name": "stdout",
     "output_type": "stream",
     "text": [
      "Epoch  193 :  0.43665347481146455\n"
     ]
    },
    {
     "name": "stderr",
     "output_type": "stream",
     "text": [
      "42it [00:00, 43.17it/s]\n",
      "4it [00:00, 36.13it/s]"
     ]
    },
    {
     "name": "stdout",
     "output_type": "stream",
     "text": [
      "Epoch  194 :  0.4031182255130261\n"
     ]
    },
    {
     "name": "stderr",
     "output_type": "stream",
     "text": [
      "42it [00:01, 37.82it/s]\n",
      "4it [00:00, 39.85it/s]"
     ]
    },
    {
     "name": "stdout",
     "output_type": "stream",
     "text": [
      "Epoch  195 :  0.39014509809203446\n"
     ]
    },
    {
     "name": "stderr",
     "output_type": "stream",
     "text": [
      "42it [00:01, 38.97it/s]\n",
      "5it [00:00, 41.89it/s]"
     ]
    },
    {
     "name": "stdout",
     "output_type": "stream",
     "text": [
      "Epoch  196 :  0.4054482881911099\n"
     ]
    },
    {
     "name": "stderr",
     "output_type": "stream",
     "text": [
      "42it [00:01, 41.21it/s]\n",
      "5it [00:00, 41.39it/s]"
     ]
    },
    {
     "name": "stdout",
     "output_type": "stream",
     "text": [
      "Epoch  197 :  0.3742962887044996\n"
     ]
    },
    {
     "name": "stderr",
     "output_type": "stream",
     "text": [
      "42it [00:01, 41.60it/s]\n",
      "4it [00:00, 39.25it/s]"
     ]
    },
    {
     "name": "stdout",
     "output_type": "stream",
     "text": [
      "Epoch  198 :  0.379846484400332\n"
     ]
    },
    {
     "name": "stderr",
     "output_type": "stream",
     "text": [
      "42it [00:01, 39.93it/s]\n",
      "4it [00:00, 38.72it/s]"
     ]
    },
    {
     "name": "stdout",
     "output_type": "stream",
     "text": [
      "Epoch  199 :  0.39121926040388644\n"
     ]
    },
    {
     "name": "stderr",
     "output_type": "stream",
     "text": [
      "42it [00:01, 41.17it/s]\n",
      "4it [00:00, 39.62it/s]"
     ]
    },
    {
     "name": "stdout",
     "output_type": "stream",
     "text": [
      "Epoch  200 :  0.4187365802936256\n"
     ]
    },
    {
     "name": "stderr",
     "output_type": "stream",
     "text": [
      "42it [00:01, 40.47it/s]\n",
      "5it [00:00, 41.79it/s]"
     ]
    },
    {
     "name": "stdout",
     "output_type": "stream",
     "text": [
      "Epoch  201 :  0.40933575306553394\n"
     ]
    },
    {
     "name": "stderr",
     "output_type": "stream",
     "text": [
      "42it [00:01, 40.15it/s]\n",
      "5it [00:00, 40.81it/s]"
     ]
    },
    {
     "name": "stdout",
     "output_type": "stream",
     "text": [
      "Epoch  202 :  0.3971410016529262\n"
     ]
    },
    {
     "name": "stderr",
     "output_type": "stream",
     "text": [
      "42it [00:01, 39.92it/s]\n",
      "5it [00:00, 41.34it/s]"
     ]
    },
    {
     "name": "stdout",
     "output_type": "stream",
     "text": [
      "Epoch  203 :  0.40531337552238256\n"
     ]
    },
    {
     "name": "stderr",
     "output_type": "stream",
     "text": [
      "42it [00:01, 41.19it/s]\n",
      "5it [00:00, 39.12it/s]"
     ]
    },
    {
     "name": "stdout",
     "output_type": "stream",
     "text": [
      "Epoch  204 :  0.38433070678729564\n"
     ]
    },
    {
     "name": "stderr",
     "output_type": "stream",
     "text": [
      "42it [00:01, 39.31it/s]\n",
      "4it [00:00, 38.04it/s]"
     ]
    },
    {
     "name": "stdout",
     "output_type": "stream",
     "text": [
      "Epoch  205 :  0.35325328237377107\n"
     ]
    },
    {
     "name": "stderr",
     "output_type": "stream",
     "text": [
      "42it [00:01, 40.67it/s]\n",
      "4it [00:00, 37.63it/s]"
     ]
    },
    {
     "name": "stdout",
     "output_type": "stream",
     "text": [
      "Epoch  206 :  0.45311177684925497\n"
     ]
    },
    {
     "name": "stderr",
     "output_type": "stream",
     "text": [
      "42it [00:01, 40.84it/s]\n",
      "4it [00:00, 39.96it/s]"
     ]
    },
    {
     "name": "stdout",
     "output_type": "stream",
     "text": [
      "Epoch  207 :  0.34292394760996103\n"
     ]
    },
    {
     "name": "stderr",
     "output_type": "stream",
     "text": [
      "42it [00:01, 41.65it/s]\n",
      "5it [00:00, 41.16it/s]"
     ]
    },
    {
     "name": "stdout",
     "output_type": "stream",
     "text": [
      "Epoch  208 :  0.42142663267441094\n"
     ]
    },
    {
     "name": "stderr",
     "output_type": "stream",
     "text": [
      "42it [00:01, 41.74it/s]\n",
      "4it [00:00, 38.39it/s]"
     ]
    },
    {
     "name": "stdout",
     "output_type": "stream",
     "text": [
      "Epoch  209 :  0.3114628627663478\n"
     ]
    },
    {
     "name": "stderr",
     "output_type": "stream",
     "text": [
      "42it [00:01, 40.98it/s]\n",
      "3it [00:00, 26.50it/s]"
     ]
    },
    {
     "name": "stdout",
     "output_type": "stream",
     "text": [
      "Epoch  210 :  0.3848344392608851\n"
     ]
    },
    {
     "name": "stderr",
     "output_type": "stream",
     "text": [
      "42it [00:01, 37.81it/s]\n",
      "5it [00:00, 42.51it/s]"
     ]
    },
    {
     "name": "stdout",
     "output_type": "stream",
     "text": [
      "Epoch  211 :  0.3867236690130085\n"
     ]
    },
    {
     "name": "stderr",
     "output_type": "stream",
     "text": [
      "42it [00:01, 39.29it/s]\n",
      "4it [00:00, 37.13it/s]"
     ]
    },
    {
     "name": "stdout",
     "output_type": "stream",
     "text": [
      "Epoch  212 :  0.3640656692441553\n"
     ]
    },
    {
     "name": "stderr",
     "output_type": "stream",
     "text": [
      "42it [00:00, 42.51it/s]\n",
      "5it [00:00, 42.54it/s]"
     ]
    },
    {
     "name": "stdout",
     "output_type": "stream",
     "text": [
      "Epoch  213 :  0.3552086408017203\n"
     ]
    },
    {
     "name": "stderr",
     "output_type": "stream",
     "text": [
      "42it [00:01, 41.60it/s]\n",
      "5it [00:00, 42.24it/s]"
     ]
    },
    {
     "name": "stdout",
     "output_type": "stream",
     "text": [
      "Epoch  214 :  0.3257010403322056\n"
     ]
    },
    {
     "name": "stderr",
     "output_type": "stream",
     "text": [
      "42it [00:01, 41.23it/s]\n",
      "5it [00:00, 41.77it/s]"
     ]
    },
    {
     "name": "stdout",
     "output_type": "stream",
     "text": [
      "Epoch  215 :  0.3765602703206241\n"
     ]
    },
    {
     "name": "stderr",
     "output_type": "stream",
     "text": [
      "42it [00:01, 41.89it/s]\n",
      "4it [00:00, 39.17it/s]"
     ]
    },
    {
     "name": "stdout",
     "output_type": "stream",
     "text": [
      "Epoch  216 :  0.3260306502925232\n"
     ]
    },
    {
     "name": "stderr",
     "output_type": "stream",
     "text": [
      "42it [00:01, 41.46it/s]\n",
      "4it [00:00, 38.92it/s]"
     ]
    },
    {
     "name": "stdout",
     "output_type": "stream",
     "text": [
      "Epoch  217 :  0.3833331656642258\n"
     ]
    },
    {
     "name": "stderr",
     "output_type": "stream",
     "text": [
      "42it [00:01, 41.74it/s]\n",
      "5it [00:00, 41.19it/s]"
     ]
    },
    {
     "name": "stdout",
     "output_type": "stream",
     "text": [
      "Epoch  218 :  0.32547237968537956\n"
     ]
    },
    {
     "name": "stderr",
     "output_type": "stream",
     "text": [
      "42it [00:00, 42.52it/s]\n",
      "5it [00:00, 40.93it/s]"
     ]
    },
    {
     "name": "stdout",
     "output_type": "stream",
     "text": [
      "Epoch  219 :  0.3875755708431825\n"
     ]
    },
    {
     "name": "stderr",
     "output_type": "stream",
     "text": [
      "42it [00:01, 41.72it/s]\n",
      "4it [00:00, 36.55it/s]"
     ]
    },
    {
     "name": "stdout",
     "output_type": "stream",
     "text": [
      "Epoch  220 :  0.35369119863025844\n"
     ]
    },
    {
     "name": "stderr",
     "output_type": "stream",
     "text": [
      "42it [00:00, 42.07it/s]\n",
      "5it [00:00, 41.97it/s]"
     ]
    },
    {
     "name": "stdout",
     "output_type": "stream",
     "text": [
      "Epoch  221 :  0.4170155057217926\n"
     ]
    },
    {
     "name": "stderr",
     "output_type": "stream",
     "text": [
      "42it [00:00, 42.57it/s]\n",
      "5it [00:00, 42.03it/s]"
     ]
    },
    {
     "name": "stdout",
     "output_type": "stream",
     "text": [
      "Epoch  222 :  0.33720819593872875\n"
     ]
    },
    {
     "name": "stderr",
     "output_type": "stream",
     "text": [
      "42it [00:00, 42.11it/s]\n",
      "5it [00:00, 39.58it/s]"
     ]
    },
    {
     "name": "stdout",
     "output_type": "stream",
     "text": [
      "Epoch  223 :  0.37143649044446647\n"
     ]
    },
    {
     "name": "stderr",
     "output_type": "stream",
     "text": [
      "42it [00:01, 41.43it/s]\n",
      "4it [00:00, 38.37it/s]"
     ]
    },
    {
     "name": "stdout",
     "output_type": "stream",
     "text": [
      "Epoch  224 :  0.3741115762386471\n"
     ]
    },
    {
     "name": "stderr",
     "output_type": "stream",
     "text": [
      "42it [00:01, 38.34it/s]\n",
      "4it [00:00, 37.86it/s]"
     ]
    },
    {
     "name": "stdout",
     "output_type": "stream",
     "text": [
      "Epoch  225 :  0.3161886294838041\n"
     ]
    },
    {
     "name": "stderr",
     "output_type": "stream",
     "text": [
      "42it [00:01, 40.55it/s]\n",
      "5it [00:00, 41.09it/s]"
     ]
    },
    {
     "name": "stdout",
     "output_type": "stream",
     "text": [
      "Epoch  226 :  0.3956291126087308\n"
     ]
    },
    {
     "name": "stderr",
     "output_type": "stream",
     "text": [
      "42it [00:01, 40.48it/s]\n",
      "5it [00:00, 40.95it/s]"
     ]
    },
    {
     "name": "stdout",
     "output_type": "stream",
     "text": [
      "Epoch  227 :  0.43840032804291695\n"
     ]
    },
    {
     "name": "stderr",
     "output_type": "stream",
     "text": [
      "42it [00:01, 41.24it/s]\n",
      "4it [00:00, 35.37it/s]"
     ]
    },
    {
     "name": "stdout",
     "output_type": "stream",
     "text": [
      "Epoch  228 :  0.3923014556057751\n"
     ]
    },
    {
     "name": "stderr",
     "output_type": "stream",
     "text": [
      "42it [00:01, 40.82it/s]\n",
      "4it [00:00, 35.06it/s]"
     ]
    },
    {
     "name": "stdout",
     "output_type": "stream",
     "text": [
      "Epoch  229 :  0.45160480204503983\n"
     ]
    },
    {
     "name": "stderr",
     "output_type": "stream",
     "text": [
      "42it [00:01, 41.28it/s]\n",
      "5it [00:00, 42.53it/s]"
     ]
    },
    {
     "name": "stdout",
     "output_type": "stream",
     "text": [
      "Epoch  230 :  0.38885041524190456\n"
     ]
    },
    {
     "name": "stderr",
     "output_type": "stream",
     "text": [
      "42it [00:00, 42.44it/s]\n",
      "4it [00:00, 36.55it/s]"
     ]
    },
    {
     "name": "stdout",
     "output_type": "stream",
     "text": [
      "Epoch  231 :  0.3796100022736937\n"
     ]
    },
    {
     "name": "stderr",
     "output_type": "stream",
     "text": [
      "42it [00:01, 40.94it/s]\n",
      "5it [00:00, 40.63it/s]"
     ]
    },
    {
     "name": "stdout",
     "output_type": "stream",
     "text": [
      "Epoch  232 :  0.38281850051134825\n"
     ]
    },
    {
     "name": "stderr",
     "output_type": "stream",
     "text": [
      "42it [00:01, 41.51it/s]\n",
      "5it [00:00, 40.64it/s]"
     ]
    },
    {
     "name": "stdout",
     "output_type": "stream",
     "text": [
      "Epoch  233 :  0.303529305732809\n"
     ]
    },
    {
     "name": "stderr",
     "output_type": "stream",
     "text": [
      "42it [00:01, 39.27it/s]\n",
      "4it [00:00, 38.91it/s]"
     ]
    },
    {
     "name": "stdout",
     "output_type": "stream",
     "text": [
      "Epoch  234 :  0.4536534515209496\n"
     ]
    },
    {
     "name": "stderr",
     "output_type": "stream",
     "text": [
      "42it [00:01, 38.47it/s]\n",
      "4it [00:00, 38.98it/s]"
     ]
    },
    {
     "name": "stdout",
     "output_type": "stream",
     "text": [
      "Epoch  235 :  0.2701772077707574\n"
     ]
    },
    {
     "name": "stderr",
     "output_type": "stream",
     "text": [
      "42it [00:01, 39.17it/s]\n",
      "5it [00:00, 42.15it/s]"
     ]
    },
    {
     "name": "stdout",
     "output_type": "stream",
     "text": [
      "Epoch  236 :  0.35920479497872293\n"
     ]
    },
    {
     "name": "stderr",
     "output_type": "stream",
     "text": [
      "42it [00:01, 41.52it/s]\n",
      "5it [00:00, 41.44it/s]"
     ]
    },
    {
     "name": "stdout",
     "output_type": "stream",
     "text": [
      "Epoch  237 :  0.4136385937454179\n"
     ]
    },
    {
     "name": "stderr",
     "output_type": "stream",
     "text": [
      "42it [00:01, 40.89it/s]\n",
      "4it [00:00, 39.91it/s]"
     ]
    },
    {
     "name": "stdout",
     "output_type": "stream",
     "text": [
      "Epoch  238 :  0.31518769706599414\n"
     ]
    },
    {
     "name": "stderr",
     "output_type": "stream",
     "text": [
      "42it [00:01, 41.41it/s]\n",
      "5it [00:00, 40.66it/s]"
     ]
    },
    {
     "name": "stdout",
     "output_type": "stream",
     "text": [
      "Epoch  239 :  0.36967037874273956\n"
     ]
    },
    {
     "name": "stderr",
     "output_type": "stream",
     "text": [
      "42it [00:01, 41.48it/s]\n",
      "4it [00:00, 39.70it/s]"
     ]
    },
    {
     "name": "stdout",
     "output_type": "stream",
     "text": [
      "Epoch  240 :  0.400808246107772\n"
     ]
    },
    {
     "name": "stderr",
     "output_type": "stream",
     "text": [
      "42it [00:01, 40.80it/s]\n",
      "5it [00:00, 41.42it/s]"
     ]
    },
    {
     "name": "stdout",
     "output_type": "stream",
     "text": [
      "Epoch  241 :  0.4097353736869991\n"
     ]
    },
    {
     "name": "stderr",
     "output_type": "stream",
     "text": [
      "42it [00:00, 42.08it/s]\n",
      "5it [00:00, 41.21it/s]"
     ]
    },
    {
     "name": "stdout",
     "output_type": "stream",
     "text": [
      "Epoch  242 :  0.4052486247383058\n"
     ]
    },
    {
     "name": "stderr",
     "output_type": "stream",
     "text": [
      "42it [00:00, 42.15it/s]\n",
      "5it [00:00, 41.05it/s]"
     ]
    },
    {
     "name": "stdout",
     "output_type": "stream",
     "text": [
      "Epoch  243 :  0.3899608905194327\n"
     ]
    },
    {
     "name": "stderr",
     "output_type": "stream",
     "text": [
      "42it [00:01, 41.09it/s]\n",
      "4it [00:00, 34.13it/s]"
     ]
    },
    {
     "name": "stdout",
     "output_type": "stream",
     "text": [
      "Epoch  244 :  0.4500509998179041\n"
     ]
    },
    {
     "name": "stderr",
     "output_type": "stream",
     "text": [
      "42it [00:01, 37.42it/s]\n",
      "4it [00:00, 34.52it/s]"
     ]
    },
    {
     "name": "stdout",
     "output_type": "stream",
     "text": [
      "Epoch  245 :  0.3747003034222871\n"
     ]
    },
    {
     "name": "stderr",
     "output_type": "stream",
     "text": [
      "42it [00:01, 38.51it/s]\n",
      "4it [00:00, 38.11it/s]"
     ]
    },
    {
     "name": "stdout",
     "output_type": "stream",
     "text": [
      "Epoch  246 :  0.3843677176628262\n"
     ]
    },
    {
     "name": "stderr",
     "output_type": "stream",
     "text": [
      "42it [00:01, 39.41it/s]\n",
      "4it [00:00, 38.31it/s]"
     ]
    },
    {
     "name": "stdout",
     "output_type": "stream",
     "text": [
      "Epoch  247 :  0.36856164049822837\n"
     ]
    },
    {
     "name": "stderr",
     "output_type": "stream",
     "text": [
      "42it [00:01, 38.33it/s]\n",
      "4it [00:00, 33.70it/s]"
     ]
    },
    {
     "name": "stdout",
     "output_type": "stream",
     "text": [
      "Epoch  248 :  0.3167981015285477\n"
     ]
    },
    {
     "name": "stderr",
     "output_type": "stream",
     "text": [
      "42it [00:01, 37.15it/s]\n",
      "5it [00:00, 42.58it/s]"
     ]
    },
    {
     "name": "stdout",
     "output_type": "stream",
     "text": [
      "Epoch  249 :  0.3737629421520978\n"
     ]
    },
    {
     "name": "stderr",
     "output_type": "stream",
     "text": [
      "42it [00:01, 41.84it/s]\n",
      "5it [00:00, 40.92it/s]"
     ]
    },
    {
     "name": "stdout",
     "output_type": "stream",
     "text": [
      "Epoch  250 :  0.3228593053063378\n"
     ]
    },
    {
     "name": "stderr",
     "output_type": "stream",
     "text": [
      "42it [00:01, 41.81it/s]\n",
      "5it [00:00, 40.76it/s]"
     ]
    },
    {
     "name": "stdout",
     "output_type": "stream",
     "text": [
      "Epoch  251 :  0.3501212678384036\n"
     ]
    },
    {
     "name": "stderr",
     "output_type": "stream",
     "text": [
      "42it [00:01, 41.86it/s]\n",
      "5it [00:00, 41.67it/s]"
     ]
    },
    {
     "name": "stdout",
     "output_type": "stream",
     "text": [
      "Epoch  252 :  0.35096251778304577\n"
     ]
    },
    {
     "name": "stderr",
     "output_type": "stream",
     "text": [
      "42it [00:01, 41.96it/s]\n",
      "5it [00:00, 41.73it/s]"
     ]
    },
    {
     "name": "stdout",
     "output_type": "stream",
     "text": [
      "Epoch  253 :  0.3954211693489924\n"
     ]
    },
    {
     "name": "stderr",
     "output_type": "stream",
     "text": [
      "42it [00:00, 42.03it/s]\n",
      "5it [00:00, 41.20it/s]"
     ]
    },
    {
     "name": "stdout",
     "output_type": "stream",
     "text": [
      "Epoch  254 :  0.41160323680378497\n"
     ]
    },
    {
     "name": "stderr",
     "output_type": "stream",
     "text": [
      "42it [00:01, 41.74it/s]\n",
      "4it [00:00, 38.32it/s]"
     ]
    },
    {
     "name": "stdout",
     "output_type": "stream",
     "text": [
      "Epoch  255 :  0.38009593775495887\n"
     ]
    },
    {
     "name": "stderr",
     "output_type": "stream",
     "text": [
      "42it [00:01, 40.88it/s]\n",
      "4it [00:00, 38.97it/s]"
     ]
    },
    {
     "name": "stdout",
     "output_type": "stream",
     "text": [
      "Epoch  256 :  0.39623628288973123\n"
     ]
    },
    {
     "name": "stderr",
     "output_type": "stream",
     "text": [
      "42it [00:01, 40.69it/s]\n",
      "4it [00:00, 39.72it/s]"
     ]
    },
    {
     "name": "stdout",
     "output_type": "stream",
     "text": [
      "Epoch  257 :  0.35945578664541245\n"
     ]
    },
    {
     "name": "stderr",
     "output_type": "stream",
     "text": [
      "42it [00:01, 39.59it/s]\n",
      "5it [00:00, 41.00it/s]"
     ]
    },
    {
     "name": "stdout",
     "output_type": "stream",
     "text": [
      "Epoch  258 :  0.36767179844900966\n"
     ]
    },
    {
     "name": "stderr",
     "output_type": "stream",
     "text": [
      "42it [00:01, 40.92it/s]\n",
      "5it [00:00, 40.86it/s]"
     ]
    },
    {
     "name": "stdout",
     "output_type": "stream",
     "text": [
      "Epoch  259 :  0.3398082045605406\n"
     ]
    },
    {
     "name": "stderr",
     "output_type": "stream",
     "text": [
      "42it [00:01, 39.66it/s]\n",
      "4it [00:00, 38.17it/s]"
     ]
    },
    {
     "name": "stdout",
     "output_type": "stream",
     "text": [
      "Epoch  260 :  0.34570376155897975\n"
     ]
    },
    {
     "name": "stderr",
     "output_type": "stream",
     "text": [
      "42it [00:01, 39.53it/s]\n",
      "5it [00:00, 40.64it/s]"
     ]
    },
    {
     "name": "stdout",
     "output_type": "stream",
     "text": [
      "Epoch  261 :  0.37831144174560905\n"
     ]
    },
    {
     "name": "stderr",
     "output_type": "stream",
     "text": [
      "42it [00:01, 40.78it/s]\n",
      "4it [00:00, 39.76it/s]"
     ]
    },
    {
     "name": "stdout",
     "output_type": "stream",
     "text": [
      "Epoch  262 :  0.3759725440759212\n"
     ]
    },
    {
     "name": "stderr",
     "output_type": "stream",
     "text": [
      "42it [00:01, 40.93it/s]\n",
      "4it [00:00, 39.00it/s]"
     ]
    },
    {
     "name": "stdout",
     "output_type": "stream",
     "text": [
      "Epoch  263 :  0.34611615806352347\n"
     ]
    },
    {
     "name": "stderr",
     "output_type": "stream",
     "text": [
      "42it [00:01, 40.46it/s]\n",
      "5it [00:00, 40.80it/s]"
     ]
    },
    {
     "name": "stdout",
     "output_type": "stream",
     "text": [
      "Epoch  264 :  0.33667855139356107\n"
     ]
    },
    {
     "name": "stderr",
     "output_type": "stream",
     "text": [
      "42it [00:01, 40.72it/s]\n",
      "4it [00:00, 37.89it/s]"
     ]
    },
    {
     "name": "stdout",
     "output_type": "stream",
     "text": [
      "Epoch  265 :  0.32131996331736445\n"
     ]
    },
    {
     "name": "stderr",
     "output_type": "stream",
     "text": [
      "42it [00:01, 40.48it/s]\n",
      "4it [00:00, 39.89it/s]"
     ]
    },
    {
     "name": "stdout",
     "output_type": "stream",
     "text": [
      "Epoch  266 :  0.3070631835144013\n"
     ]
    },
    {
     "name": "stderr",
     "output_type": "stream",
     "text": [
      "42it [00:01, 40.45it/s]\n",
      "4it [00:00, 34.86it/s]"
     ]
    },
    {
     "name": "stdout",
     "output_type": "stream",
     "text": [
      "Epoch  267 :  0.3605452114716172\n"
     ]
    },
    {
     "name": "stderr",
     "output_type": "stream",
     "text": [
      "42it [00:01, 40.17it/s]\n",
      "4it [00:00, 39.86it/s]"
     ]
    },
    {
     "name": "stdout",
     "output_type": "stream",
     "text": [
      "Epoch  268 :  0.3754080511862412\n"
     ]
    },
    {
     "name": "stderr",
     "output_type": "stream",
     "text": [
      "42it [00:01, 40.44it/s]\n",
      "4it [00:00, 37.69it/s]"
     ]
    },
    {
     "name": "stdout",
     "output_type": "stream",
     "text": [
      "Epoch  269 :  0.2976049280259758\n"
     ]
    },
    {
     "name": "stderr",
     "output_type": "stream",
     "text": [
      "42it [00:01, 38.70it/s]\n",
      "4it [00:00, 38.43it/s]"
     ]
    },
    {
     "name": "stdout",
     "output_type": "stream",
     "text": [
      "Epoch  270 :  0.4400396504206583\n"
     ]
    },
    {
     "name": "stderr",
     "output_type": "stream",
     "text": [
      "42it [00:01, 38.17it/s]\n",
      "4it [00:00, 37.84it/s]"
     ]
    },
    {
     "name": "stdout",
     "output_type": "stream",
     "text": [
      "Epoch  271 :  0.3718518568202853\n"
     ]
    },
    {
     "name": "stderr",
     "output_type": "stream",
     "text": [
      "42it [00:01, 38.48it/s]\n",
      "4it [00:00, 38.49it/s]"
     ]
    },
    {
     "name": "stdout",
     "output_type": "stream",
     "text": [
      "Epoch  272 :  0.3713237887714058\n"
     ]
    },
    {
     "name": "stderr",
     "output_type": "stream",
     "text": [
      "42it [00:01, 39.83it/s]\n",
      "4it [00:00, 31.90it/s]"
     ]
    },
    {
     "name": "stdout",
     "output_type": "stream",
     "text": [
      "Epoch  273 :  0.38212979794479907\n"
     ]
    },
    {
     "name": "stderr",
     "output_type": "stream",
     "text": [
      "42it [00:01, 40.06it/s]\n",
      "5it [00:00, 40.61it/s]"
     ]
    },
    {
     "name": "stdout",
     "output_type": "stream",
     "text": [
      "Epoch  274 :  0.34798806090839207\n"
     ]
    },
    {
     "name": "stderr",
     "output_type": "stream",
     "text": [
      "42it [00:01, 40.24it/s]\n",
      "4it [00:00, 38.74it/s]"
     ]
    },
    {
     "name": "stdout",
     "output_type": "stream",
     "text": [
      "Epoch  275 :  0.3596613093977794\n"
     ]
    },
    {
     "name": "stderr",
     "output_type": "stream",
     "text": [
      "42it [00:01, 40.18it/s]\n",
      "4it [00:00, 39.08it/s]"
     ]
    },
    {
     "name": "stdout",
     "output_type": "stream",
     "text": [
      "Epoch  276 :  0.36380474804900587\n"
     ]
    },
    {
     "name": "stderr",
     "output_type": "stream",
     "text": [
      "42it [00:01, 39.04it/s]\n",
      "4it [00:00, 38.42it/s]"
     ]
    },
    {
     "name": "stdout",
     "output_type": "stream",
     "text": [
      "Epoch  277 :  0.35787185770459473\n"
     ]
    },
    {
     "name": "stderr",
     "output_type": "stream",
     "text": [
      "42it [00:01, 39.36it/s]\n",
      "4it [00:00, 38.46it/s]"
     ]
    },
    {
     "name": "stdout",
     "output_type": "stream",
     "text": [
      "Epoch  278 :  0.31373891059774905\n"
     ]
    },
    {
     "name": "stderr",
     "output_type": "stream",
     "text": [
      "42it [00:01, 37.60it/s]\n",
      "4it [00:00, 36.57it/s]"
     ]
    },
    {
     "name": "stdout",
     "output_type": "stream",
     "text": [
      "Epoch  279 :  0.32156141963787377\n"
     ]
    },
    {
     "name": "stderr",
     "output_type": "stream",
     "text": [
      "42it [00:01, 40.78it/s]\n",
      "5it [00:00, 40.68it/s]"
     ]
    },
    {
     "name": "stdout",
     "output_type": "stream",
     "text": [
      "Epoch  280 :  0.317270663799718\n"
     ]
    },
    {
     "name": "stderr",
     "output_type": "stream",
     "text": [
      "42it [00:01, 39.99it/s]\n",
      "5it [00:00, 40.36it/s]"
     ]
    },
    {
     "name": "stdout",
     "output_type": "stream",
     "text": [
      "Epoch  281 :  0.40350088791456074\n"
     ]
    },
    {
     "name": "stderr",
     "output_type": "stream",
     "text": [
      "42it [00:01, 40.62it/s]\n",
      "5it [00:00, 40.51it/s]"
     ]
    },
    {
     "name": "stdout",
     "output_type": "stream",
     "text": [
      "Epoch  282 :  0.38402872218284756\n"
     ]
    },
    {
     "name": "stderr",
     "output_type": "stream",
     "text": [
      "42it [00:01, 40.81it/s]\n",
      "4it [00:00, 38.88it/s]"
     ]
    },
    {
     "name": "stdout",
     "output_type": "stream",
     "text": [
      "Epoch  283 :  0.35395382228307426\n"
     ]
    },
    {
     "name": "stderr",
     "output_type": "stream",
     "text": [
      "42it [00:01, 41.70it/s]\n",
      "5it [00:00, 41.96it/s]"
     ]
    },
    {
     "name": "stdout",
     "output_type": "stream",
     "text": [
      "Epoch  284 :  0.3414133167825639\n"
     ]
    },
    {
     "name": "stderr",
     "output_type": "stream",
     "text": [
      "42it [00:00, 42.10it/s]\n",
      "5it [00:00, 40.97it/s]"
     ]
    },
    {
     "name": "stdout",
     "output_type": "stream",
     "text": [
      "Epoch  285 :  0.3455211848486215\n"
     ]
    },
    {
     "name": "stderr",
     "output_type": "stream",
     "text": [
      "42it [00:01, 40.51it/s]\n",
      "4it [00:00, 37.90it/s]"
     ]
    },
    {
     "name": "stdout",
     "output_type": "stream",
     "text": [
      "Epoch  286 :  0.305737457703799\n"
     ]
    },
    {
     "name": "stderr",
     "output_type": "stream",
     "text": [
      "42it [00:01, 40.97it/s]\n",
      "5it [00:00, 40.48it/s]"
     ]
    },
    {
     "name": "stdout",
     "output_type": "stream",
     "text": [
      "Epoch  287 :  0.3754448734689504\n"
     ]
    },
    {
     "name": "stderr",
     "output_type": "stream",
     "text": [
      "42it [00:01, 40.74it/s]\n",
      "5it [00:00, 40.47it/s]"
     ]
    },
    {
     "name": "stdout",
     "output_type": "stream",
     "text": [
      "Epoch  288 :  0.34926653909496963\n"
     ]
    },
    {
     "name": "stderr",
     "output_type": "stream",
     "text": [
      "42it [00:01, 40.99it/s]\n",
      "5it [00:00, 40.49it/s]"
     ]
    },
    {
     "name": "stdout",
     "output_type": "stream",
     "text": [
      "Epoch  289 :  0.3161862550769001\n"
     ]
    },
    {
     "name": "stderr",
     "output_type": "stream",
     "text": [
      "42it [00:01, 40.79it/s]\n",
      "4it [00:00, 39.99it/s]"
     ]
    },
    {
     "name": "stdout",
     "output_type": "stream",
     "text": [
      "Epoch  290 :  0.38117252092342824\n"
     ]
    },
    {
     "name": "stderr",
     "output_type": "stream",
     "text": [
      "42it [00:01, 41.11it/s]\n",
      "4it [00:00, 38.59it/s]"
     ]
    },
    {
     "name": "stdout",
     "output_type": "stream",
     "text": [
      "Epoch  291 :  0.2998957614181563\n"
     ]
    },
    {
     "name": "stderr",
     "output_type": "stream",
     "text": [
      "42it [00:01, 40.80it/s]\n",
      "4it [00:00, 39.15it/s]"
     ]
    },
    {
     "name": "stdout",
     "output_type": "stream",
     "text": [
      "Epoch  292 :  0.3564174650236964\n"
     ]
    },
    {
     "name": "stderr",
     "output_type": "stream",
     "text": [
      "42it [00:01, 39.64it/s]\n",
      "5it [00:00, 40.39it/s]"
     ]
    },
    {
     "name": "stdout",
     "output_type": "stream",
     "text": [
      "Epoch  293 :  0.3213337598135695\n"
     ]
    },
    {
     "name": "stderr",
     "output_type": "stream",
     "text": [
      "42it [00:01, 38.16it/s]\n",
      "4it [00:00, 39.03it/s]"
     ]
    },
    {
     "name": "stdout",
     "output_type": "stream",
     "text": [
      "Epoch  294 :  0.3147794856922701\n"
     ]
    },
    {
     "name": "stderr",
     "output_type": "stream",
     "text": [
      "42it [00:01, 38.47it/s]\n",
      "4it [00:00, 38.13it/s]"
     ]
    },
    {
     "name": "stdout",
     "output_type": "stream",
     "text": [
      "Epoch  295 :  0.2932412949157879\n"
     ]
    },
    {
     "name": "stderr",
     "output_type": "stream",
     "text": [
      "42it [00:01, 39.69it/s]\n",
      "5it [00:00, 41.35it/s]"
     ]
    },
    {
     "name": "stdout",
     "output_type": "stream",
     "text": [
      "Epoch  296 :  0.37051240575965494\n"
     ]
    },
    {
     "name": "stderr",
     "output_type": "stream",
     "text": [
      "42it [00:01, 41.81it/s]\n",
      "5it [00:00, 40.92it/s]"
     ]
    },
    {
     "name": "stdout",
     "output_type": "stream",
     "text": [
      "Epoch  297 :  0.3390878109494224\n"
     ]
    },
    {
     "name": "stderr",
     "output_type": "stream",
     "text": [
      "42it [00:01, 41.35it/s]\n",
      "4it [00:00, 32.56it/s]"
     ]
    },
    {
     "name": "stdout",
     "output_type": "stream",
     "text": [
      "Epoch  298 :  0.3470527328317985\n"
     ]
    },
    {
     "name": "stderr",
     "output_type": "stream",
     "text": [
      "42it [00:01, 40.68it/s]\n",
      "5it [00:00, 42.09it/s]"
     ]
    },
    {
     "name": "stdout",
     "output_type": "stream",
     "text": [
      "Epoch  299 :  0.30805841786786914\n"
     ]
    },
    {
     "name": "stderr",
     "output_type": "stream",
     "text": [
      "42it [00:00, 42.16it/s]\n",
      "5it [00:00, 41.58it/s]"
     ]
    },
    {
     "name": "stdout",
     "output_type": "stream",
     "text": [
      "Epoch  300 :  0.32555517100263387\n"
     ]
    },
    {
     "name": "stderr",
     "output_type": "stream",
     "text": [
      "42it [00:01, 41.95it/s]\n",
      "4it [00:00, 39.93it/s]"
     ]
    },
    {
     "name": "stdout",
     "output_type": "stream",
     "text": [
      "Epoch  301 :  0.35190677701029927\n"
     ]
    },
    {
     "name": "stderr",
     "output_type": "stream",
     "text": [
      "42it [00:01, 41.96it/s]\n",
      "5it [00:00, 42.15it/s]"
     ]
    },
    {
     "name": "stdout",
     "output_type": "stream",
     "text": [
      "Epoch  302 :  0.3672822705702856\n"
     ]
    },
    {
     "name": "stderr",
     "output_type": "stream",
     "text": [
      "42it [00:01, 41.47it/s]\n",
      "4it [00:00, 39.56it/s]"
     ]
    },
    {
     "name": "stdout",
     "output_type": "stream",
     "text": [
      "Epoch  303 :  0.3442194703966379\n"
     ]
    },
    {
     "name": "stderr",
     "output_type": "stream",
     "text": [
      "42it [00:01, 40.34it/s]\n",
      "5it [00:00, 40.72it/s]"
     ]
    },
    {
     "name": "stdout",
     "output_type": "stream",
     "text": [
      "Epoch  304 :  0.3068981615360826\n"
     ]
    },
    {
     "name": "stderr",
     "output_type": "stream",
     "text": [
      "42it [00:01, 40.97it/s]\n",
      "4it [00:00, 38.84it/s]"
     ]
    },
    {
     "name": "stdout",
     "output_type": "stream",
     "text": [
      "Epoch  305 :  0.363345104502514\n"
     ]
    },
    {
     "name": "stderr",
     "output_type": "stream",
     "text": [
      "42it [00:01, 38.86it/s]\n",
      "4it [00:00, 37.60it/s]"
     ]
    },
    {
     "name": "stdout",
     "output_type": "stream",
     "text": [
      "Epoch  306 :  0.3250992624089122\n"
     ]
    },
    {
     "name": "stderr",
     "output_type": "stream",
     "text": [
      "42it [00:01, 38.41it/s]\n",
      "4it [00:00, 37.44it/s]"
     ]
    },
    {
     "name": "stdout",
     "output_type": "stream",
     "text": [
      "Epoch  307 :  0.34773995936848223\n"
     ]
    },
    {
     "name": "stderr",
     "output_type": "stream",
     "text": [
      "42it [00:01, 37.61it/s]\n",
      "4it [00:00, 37.38it/s]"
     ]
    },
    {
     "name": "stdout",
     "output_type": "stream",
     "text": [
      "Epoch  308 :  0.44865372008644044\n"
     ]
    },
    {
     "name": "stderr",
     "output_type": "stream",
     "text": [
      "42it [00:01, 36.78it/s]\n",
      "4it [00:00, 33.93it/s]"
     ]
    },
    {
     "name": "stdout",
     "output_type": "stream",
     "text": [
      "Epoch  309 :  0.3862289603566751\n"
     ]
    },
    {
     "name": "stderr",
     "output_type": "stream",
     "text": [
      "42it [00:01, 39.86it/s]\n",
      "4it [00:00, 37.17it/s]"
     ]
    },
    {
     "name": "stdout",
     "output_type": "stream",
     "text": [
      "Epoch  310 :  0.3295626536710188\n"
     ]
    },
    {
     "name": "stderr",
     "output_type": "stream",
     "text": [
      "42it [00:01, 41.53it/s]\n",
      "4it [00:00, 34.36it/s]"
     ]
    },
    {
     "name": "stdout",
     "output_type": "stream",
     "text": [
      "Epoch  311 :  0.3492932264925912\n"
     ]
    },
    {
     "name": "stderr",
     "output_type": "stream",
     "text": [
      "42it [00:01, 40.89it/s]\n",
      "5it [00:00, 42.07it/s]"
     ]
    },
    {
     "name": "stdout",
     "output_type": "stream",
     "text": [
      "Epoch  312 :  0.3137205019593239\n"
     ]
    },
    {
     "name": "stderr",
     "output_type": "stream",
     "text": [
      "42it [00:01, 41.84it/s]\n",
      "5it [00:00, 40.68it/s]"
     ]
    },
    {
     "name": "stdout",
     "output_type": "stream",
     "text": [
      "Epoch  313 :  0.34530009515583515\n"
     ]
    },
    {
     "name": "stderr",
     "output_type": "stream",
     "text": [
      "42it [00:01, 41.15it/s]\n",
      "4it [00:00, 39.44it/s]"
     ]
    },
    {
     "name": "stdout",
     "output_type": "stream",
     "text": [
      "Epoch  314 :  0.33166828111279756\n"
     ]
    },
    {
     "name": "stderr",
     "output_type": "stream",
     "text": [
      "42it [00:01, 40.57it/s]\n",
      "5it [00:00, 40.43it/s]"
     ]
    },
    {
     "name": "stdout",
     "output_type": "stream",
     "text": [
      "Epoch  315 :  0.32404910563491285\n"
     ]
    },
    {
     "name": "stderr",
     "output_type": "stream",
     "text": [
      "42it [00:01, 40.43it/s]\n",
      "4it [00:00, 37.87it/s]"
     ]
    },
    {
     "name": "stdout",
     "output_type": "stream",
     "text": [
      "Epoch  316 :  0.39397297345567495\n"
     ]
    },
    {
     "name": "stderr",
     "output_type": "stream",
     "text": [
      "42it [00:01, 38.40it/s]\n",
      "4it [00:00, 38.39it/s]"
     ]
    },
    {
     "name": "stdout",
     "output_type": "stream",
     "text": [
      "Epoch  317 :  0.34885498019866645\n"
     ]
    },
    {
     "name": "stderr",
     "output_type": "stream",
     "text": [
      "42it [00:01, 38.46it/s]\n",
      "4it [00:00, 37.85it/s]"
     ]
    },
    {
     "name": "stdout",
     "output_type": "stream",
     "text": [
      "Epoch  318 :  0.3974209836451337\n"
     ]
    },
    {
     "name": "stderr",
     "output_type": "stream",
     "text": [
      "42it [00:01, 37.56it/s]\n",
      "4it [00:00, 38.00it/s]"
     ]
    },
    {
     "name": "stdout",
     "output_type": "stream",
     "text": [
      "Epoch  319 :  0.36489117390010506\n"
     ]
    },
    {
     "name": "stderr",
     "output_type": "stream",
     "text": [
      "42it [00:01, 38.85it/s]\n",
      "4it [00:00, 38.28it/s]"
     ]
    },
    {
     "name": "stdout",
     "output_type": "stream",
     "text": [
      "Epoch  320 :  0.33927402063272893\n"
     ]
    },
    {
     "name": "stderr",
     "output_type": "stream",
     "text": [
      "42it [00:01, 38.96it/s]\n",
      "4it [00:00, 37.06it/s]"
     ]
    },
    {
     "name": "stdout",
     "output_type": "stream",
     "text": [
      "Epoch  321 :  0.31892905675340444\n"
     ]
    },
    {
     "name": "stderr",
     "output_type": "stream",
     "text": [
      "42it [00:01, 38.83it/s]\n",
      "4it [00:00, 36.70it/s]"
     ]
    },
    {
     "name": "stdout",
     "output_type": "stream",
     "text": [
      "Epoch  322 :  0.31233840249478817\n"
     ]
    },
    {
     "name": "stderr",
     "output_type": "stream",
     "text": [
      "42it [00:01, 38.47it/s]\n",
      "4it [00:00, 38.08it/s]"
     ]
    },
    {
     "name": "stdout",
     "output_type": "stream",
     "text": [
      "Epoch  323 :  0.33131398539990187\n"
     ]
    },
    {
     "name": "stderr",
     "output_type": "stream",
     "text": [
      "42it [00:01, 38.82it/s]\n",
      "4it [00:00, 38.18it/s]"
     ]
    },
    {
     "name": "stdout",
     "output_type": "stream",
     "text": [
      "Epoch  324 :  0.356632195180282\n"
     ]
    },
    {
     "name": "stderr",
     "output_type": "stream",
     "text": [
      "42it [00:01, 39.69it/s]\n",
      "4it [00:00, 39.70it/s]"
     ]
    },
    {
     "name": "stdout",
     "output_type": "stream",
     "text": [
      "Epoch  325 :  0.317394444020465\n"
     ]
    },
    {
     "name": "stderr",
     "output_type": "stream",
     "text": [
      "42it [00:01, 40.13it/s]\n",
      "5it [00:00, 41.31it/s]"
     ]
    },
    {
     "name": "stdout",
     "output_type": "stream",
     "text": [
      "Epoch  326 :  0.34504198154900223\n"
     ]
    },
    {
     "name": "stderr",
     "output_type": "stream",
     "text": [
      "42it [00:01, 39.93it/s]\n",
      "4it [00:00, 36.62it/s]"
     ]
    },
    {
     "name": "stdout",
     "output_type": "stream",
     "text": [
      "Epoch  327 :  0.3293291291920468\n"
     ]
    },
    {
     "name": "stderr",
     "output_type": "stream",
     "text": [
      "42it [00:01, 40.58it/s]\n",
      "5it [00:00, 42.10it/s]"
     ]
    },
    {
     "name": "stdout",
     "output_type": "stream",
     "text": [
      "Epoch  328 :  0.32432050246279687\n"
     ]
    },
    {
     "name": "stderr",
     "output_type": "stream",
     "text": [
      "42it [00:01, 40.62it/s]\n",
      "4it [00:00, 39.63it/s]"
     ]
    },
    {
     "name": "stdout",
     "output_type": "stream",
     "text": [
      "Epoch  329 :  0.3407132155261934\n"
     ]
    },
    {
     "name": "stderr",
     "output_type": "stream",
     "text": [
      "42it [00:01, 40.12it/s]\n",
      "4it [00:00, 39.16it/s]"
     ]
    },
    {
     "name": "stdout",
     "output_type": "stream",
     "text": [
      "Epoch  330 :  0.3801674849819392\n"
     ]
    },
    {
     "name": "stderr",
     "output_type": "stream",
     "text": [
      "42it [00:01, 39.82it/s]\n",
      "5it [00:00, 40.57it/s]"
     ]
    },
    {
     "name": "stdout",
     "output_type": "stream",
     "text": [
      "Epoch  331 :  0.36241713364142925\n"
     ]
    },
    {
     "name": "stderr",
     "output_type": "stream",
     "text": [
      "42it [00:01, 39.81it/s]\n",
      "5it [00:00, 40.90it/s]"
     ]
    },
    {
     "name": "stdout",
     "output_type": "stream",
     "text": [
      "Epoch  332 :  0.30739577335771173\n"
     ]
    },
    {
     "name": "stderr",
     "output_type": "stream",
     "text": [
      "42it [00:01, 41.98it/s]\n",
      "5it [00:00, 41.94it/s]"
     ]
    },
    {
     "name": "stdout",
     "output_type": "stream",
     "text": [
      "Epoch  333 :  0.318323906394653\n"
     ]
    },
    {
     "name": "stderr",
     "output_type": "stream",
     "text": [
      "42it [00:00, 42.11it/s]\n",
      "5it [00:00, 41.06it/s]"
     ]
    },
    {
     "name": "stdout",
     "output_type": "stream",
     "text": [
      "Epoch  334 :  0.36734911566600204\n"
     ]
    },
    {
     "name": "stderr",
     "output_type": "stream",
     "text": [
      "42it [00:00, 42.19it/s]\n",
      "4it [00:00, 39.39it/s]"
     ]
    },
    {
     "name": "stdout",
     "output_type": "stream",
     "text": [
      "Epoch  335 :  0.39844808587804437\n"
     ]
    },
    {
     "name": "stderr",
     "output_type": "stream",
     "text": [
      "42it [00:01, 41.50it/s]\n",
      "5it [00:00, 41.92it/s]"
     ]
    },
    {
     "name": "stdout",
     "output_type": "stream",
     "text": [
      "Epoch  336 :  0.33905500057153404\n"
     ]
    },
    {
     "name": "stderr",
     "output_type": "stream",
     "text": [
      "42it [00:01, 41.89it/s]\n",
      "4it [00:00, 31.84it/s]"
     ]
    },
    {
     "name": "stdout",
     "output_type": "stream",
     "text": [
      "Epoch  337 :  0.3223159480839968\n"
     ]
    },
    {
     "name": "stderr",
     "output_type": "stream",
     "text": [
      "42it [00:01, 39.62it/s]\n",
      "4it [00:00, 37.96it/s]"
     ]
    },
    {
     "name": "stdout",
     "output_type": "stream",
     "text": [
      "Epoch  338 :  0.31642867461778224\n"
     ]
    },
    {
     "name": "stderr",
     "output_type": "stream",
     "text": [
      "42it [00:01, 40.62it/s]\n",
      "5it [00:00, 40.73it/s]"
     ]
    },
    {
     "name": "stdout",
     "output_type": "stream",
     "text": [
      "Epoch  339 :  0.4069964635418728\n"
     ]
    },
    {
     "name": "stderr",
     "output_type": "stream",
     "text": [
      "42it [00:01, 39.45it/s]\n",
      "4it [00:00, 38.63it/s]"
     ]
    },
    {
     "name": "stdout",
     "output_type": "stream",
     "text": [
      "Epoch  340 :  0.34734833356924355\n"
     ]
    },
    {
     "name": "stderr",
     "output_type": "stream",
     "text": [
      "42it [00:01, 39.99it/s]\n",
      "4it [00:00, 35.45it/s]"
     ]
    },
    {
     "name": "stdout",
     "output_type": "stream",
     "text": [
      "Epoch  341 :  0.3218676340766251\n"
     ]
    },
    {
     "name": "stderr",
     "output_type": "stream",
     "text": [
      "42it [00:01, 34.56it/s]\n",
      "4it [00:00, 39.50it/s]"
     ]
    },
    {
     "name": "stdout",
     "output_type": "stream",
     "text": [
      "Epoch  342 :  0.30658650712575763\n"
     ]
    },
    {
     "name": "stderr",
     "output_type": "stream",
     "text": [
      "42it [00:01, 40.92it/s]\n",
      "4it [00:00, 39.95it/s]"
     ]
    },
    {
     "name": "stdout",
     "output_type": "stream",
     "text": [
      "Epoch  343 :  0.3512321423040703\n"
     ]
    },
    {
     "name": "stderr",
     "output_type": "stream",
     "text": [
      "42it [00:01, 40.59it/s]\n",
      "5it [00:00, 40.38it/s]"
     ]
    },
    {
     "name": "stdout",
     "output_type": "stream",
     "text": [
      "Epoch  344 :  0.32315065315924585\n"
     ]
    },
    {
     "name": "stderr",
     "output_type": "stream",
     "text": [
      "42it [00:01, 40.23it/s]\n",
      "4it [00:00, 38.42it/s]"
     ]
    },
    {
     "name": "stdout",
     "output_type": "stream",
     "text": [
      "Epoch  345 :  0.30384314816910774\n"
     ]
    },
    {
     "name": "stderr",
     "output_type": "stream",
     "text": [
      "42it [00:01, 40.28it/s]\n",
      "4it [00:00, 39.46it/s]"
     ]
    },
    {
     "name": "stdout",
     "output_type": "stream",
     "text": [
      "Epoch  346 :  0.3435698691755533\n"
     ]
    },
    {
     "name": "stderr",
     "output_type": "stream",
     "text": [
      "42it [00:01, 39.68it/s]\n",
      "5it [00:00, 41.10it/s]"
     ]
    },
    {
     "name": "stdout",
     "output_type": "stream",
     "text": [
      "Epoch  347 :  0.33607906656106934\n"
     ]
    },
    {
     "name": "stderr",
     "output_type": "stream",
     "text": [
      "42it [00:01, 40.56it/s]\n",
      "4it [00:00, 37.00it/s]"
     ]
    },
    {
     "name": "stdout",
     "output_type": "stream",
     "text": [
      "Epoch  348 :  0.3297539166524075\n"
     ]
    },
    {
     "name": "stderr",
     "output_type": "stream",
     "text": [
      "42it [00:01, 40.67it/s]\n",
      "4it [00:00, 39.05it/s]"
     ]
    },
    {
     "name": "stdout",
     "output_type": "stream",
     "text": [
      "Epoch  349 :  0.3186714007752016\n"
     ]
    },
    {
     "name": "stderr",
     "output_type": "stream",
     "text": [
      "42it [00:01, 41.07it/s]\n",
      "4it [00:00, 33.44it/s]"
     ]
    },
    {
     "name": "stdout",
     "output_type": "stream",
     "text": [
      "Epoch  350 :  0.32571235997602344\n"
     ]
    },
    {
     "name": "stderr",
     "output_type": "stream",
     "text": [
      "42it [00:01, 39.35it/s]\n",
      "4it [00:00, 39.96it/s]"
     ]
    },
    {
     "name": "stdout",
     "output_type": "stream",
     "text": [
      "Epoch  351 :  0.339197114109993\n"
     ]
    },
    {
     "name": "stderr",
     "output_type": "stream",
     "text": [
      "42it [00:01, 40.07it/s]\n",
      "4it [00:00, 38.55it/s]"
     ]
    },
    {
     "name": "stdout",
     "output_type": "stream",
     "text": [
      "Epoch  352 :  0.3897952763363719\n"
     ]
    },
    {
     "name": "stderr",
     "output_type": "stream",
     "text": [
      "42it [00:01, 40.16it/s]\n",
      "5it [00:00, 40.34it/s]"
     ]
    },
    {
     "name": "stdout",
     "output_type": "stream",
     "text": [
      "Epoch  353 :  0.3469257600372657\n"
     ]
    },
    {
     "name": "stderr",
     "output_type": "stream",
     "text": [
      "42it [00:01, 39.27it/s]\n",
      "4it [00:00, 38.78it/s]"
     ]
    },
    {
     "name": "stdout",
     "output_type": "stream",
     "text": [
      "Epoch  354 :  0.2933423141948879\n"
     ]
    },
    {
     "name": "stderr",
     "output_type": "stream",
     "text": [
      "42it [00:01, 39.31it/s]\n",
      "4it [00:00, 39.04it/s]"
     ]
    },
    {
     "name": "stdout",
     "output_type": "stream",
     "text": [
      "Epoch  355 :  0.3170647529186681\n"
     ]
    },
    {
     "name": "stderr",
     "output_type": "stream",
     "text": [
      "42it [00:01, 40.59it/s]\n",
      "4it [00:00, 39.86it/s]"
     ]
    },
    {
     "name": "stdout",
     "output_type": "stream",
     "text": [
      "Epoch  356 :  0.3573453666176647\n"
     ]
    },
    {
     "name": "stderr",
     "output_type": "stream",
     "text": [
      "42it [00:01, 40.67it/s]\n",
      "4it [00:00, 38.74it/s]"
     ]
    },
    {
     "name": "stdout",
     "output_type": "stream",
     "text": [
      "Epoch  357 :  0.36082697135861963\n"
     ]
    },
    {
     "name": "stderr",
     "output_type": "stream",
     "text": [
      "42it [00:01, 41.41it/s]\n",
      "5it [00:00, 41.24it/s]"
     ]
    },
    {
     "name": "stdout",
     "output_type": "stream",
     "text": [
      "Epoch  358 :  0.32725919503718615\n"
     ]
    },
    {
     "name": "stderr",
     "output_type": "stream",
     "text": [
      "42it [00:01, 41.65it/s]\n",
      "5it [00:00, 41.08it/s]"
     ]
    },
    {
     "name": "stdout",
     "output_type": "stream",
     "text": [
      "Epoch  359 :  0.40268050972372293\n"
     ]
    },
    {
     "name": "stderr",
     "output_type": "stream",
     "text": [
      "42it [00:01, 41.41it/s]\n",
      "5it [00:00, 41.32it/s]"
     ]
    },
    {
     "name": "stdout",
     "output_type": "stream",
     "text": [
      "Epoch  360 :  0.35482227650936693\n"
     ]
    },
    {
     "name": "stderr",
     "output_type": "stream",
     "text": [
      "42it [00:01, 41.80it/s]\n",
      "5it [00:00, 42.09it/s]"
     ]
    },
    {
     "name": "stdout",
     "output_type": "stream",
     "text": [
      "Epoch  361 :  0.29242272849660367\n"
     ]
    },
    {
     "name": "stderr",
     "output_type": "stream",
     "text": [
      "42it [00:01, 41.79it/s]\n",
      "5it [00:00, 41.57it/s]"
     ]
    },
    {
     "name": "stdout",
     "output_type": "stream",
     "text": [
      "Epoch  362 :  0.32978989370167255\n"
     ]
    },
    {
     "name": "stderr",
     "output_type": "stream",
     "text": [
      "42it [00:01, 40.89it/s]\n",
      "5it [00:00, 40.37it/s]"
     ]
    },
    {
     "name": "stdout",
     "output_type": "stream",
     "text": [
      "Epoch  363 :  0.339540324290283\n"
     ]
    },
    {
     "name": "stderr",
     "output_type": "stream",
     "text": [
      "42it [00:01, 40.69it/s]\n",
      "4it [00:00, 39.91it/s]"
     ]
    },
    {
     "name": "stdout",
     "output_type": "stream",
     "text": [
      "Epoch  364 :  0.3061026830691844\n"
     ]
    },
    {
     "name": "stderr",
     "output_type": "stream",
     "text": [
      "42it [00:01, 39.82it/s]\n",
      "4it [00:00, 39.06it/s]"
     ]
    },
    {
     "name": "stdout",
     "output_type": "stream",
     "text": [
      "Epoch  365 :  0.3030383362201974\n"
     ]
    },
    {
     "name": "stderr",
     "output_type": "stream",
     "text": [
      "42it [00:01, 40.45it/s]\n",
      "5it [00:00, 41.86it/s]"
     ]
    },
    {
     "name": "stdout",
     "output_type": "stream",
     "text": [
      "Epoch  366 :  0.36522587679792196\n"
     ]
    },
    {
     "name": "stderr",
     "output_type": "stream",
     "text": [
      "42it [00:01, 41.87it/s]\n",
      "5it [00:00, 41.28it/s]"
     ]
    },
    {
     "name": "stdout",
     "output_type": "stream",
     "text": [
      "Epoch  367 :  0.36455973773263395\n"
     ]
    },
    {
     "name": "stderr",
     "output_type": "stream",
     "text": [
      "42it [00:01, 41.62it/s]\n",
      "5it [00:00, 42.09it/s]"
     ]
    },
    {
     "name": "stdout",
     "output_type": "stream",
     "text": [
      "Epoch  368 :  0.36852275615092367\n"
     ]
    },
    {
     "name": "stderr",
     "output_type": "stream",
     "text": [
      "42it [00:01, 41.98it/s]\n",
      "5it [00:00, 41.63it/s]"
     ]
    },
    {
     "name": "stdout",
     "output_type": "stream",
     "text": [
      "Epoch  369 :  0.3434304714901373\n"
     ]
    },
    {
     "name": "stderr",
     "output_type": "stream",
     "text": [
      "42it [00:01, 41.70it/s]\n",
      "5it [00:00, 41.85it/s]"
     ]
    },
    {
     "name": "stdout",
     "output_type": "stream",
     "text": [
      "Epoch  370 :  0.3416302762925625\n"
     ]
    },
    {
     "name": "stderr",
     "output_type": "stream",
     "text": [
      "42it [00:01, 41.69it/s]\n",
      "5it [00:00, 40.91it/s]"
     ]
    },
    {
     "name": "stdout",
     "output_type": "stream",
     "text": [
      "Epoch  371 :  0.3935484391404316\n"
     ]
    },
    {
     "name": "stderr",
     "output_type": "stream",
     "text": [
      "42it [00:00, 42.03it/s]\n",
      "5it [00:00, 40.82it/s]"
     ]
    },
    {
     "name": "stdout",
     "output_type": "stream",
     "text": [
      "Epoch  372 :  0.34697467740625143\n"
     ]
    },
    {
     "name": "stderr",
     "output_type": "stream",
     "text": [
      "42it [00:01, 41.51it/s]\n",
      "4it [00:00, 39.44it/s]"
     ]
    },
    {
     "name": "stdout",
     "output_type": "stream",
     "text": [
      "Epoch  373 :  0.31876719335559756\n"
     ]
    },
    {
     "name": "stderr",
     "output_type": "stream",
     "text": [
      "42it [00:01, 38.83it/s]\n",
      "4it [00:00, 33.53it/s]"
     ]
    },
    {
     "name": "stdout",
     "output_type": "stream",
     "text": [
      "Epoch  374 :  0.2838776606367901\n"
     ]
    },
    {
     "name": "stderr",
     "output_type": "stream",
     "text": [
      "42it [00:01, 37.56it/s]\n",
      "4it [00:00, 39.44it/s]"
     ]
    },
    {
     "name": "stdout",
     "output_type": "stream",
     "text": [
      "Epoch  375 :  0.3429417845327407\n"
     ]
    },
    {
     "name": "stderr",
     "output_type": "stream",
     "text": [
      "42it [00:01, 40.36it/s]\n",
      "4it [00:00, 35.43it/s]"
     ]
    },
    {
     "name": "stdout",
     "output_type": "stream",
     "text": [
      "Epoch  376 :  0.2883395724929869\n"
     ]
    },
    {
     "name": "stderr",
     "output_type": "stream",
     "text": [
      "42it [00:01, 40.30it/s]\n",
      "4it [00:00, 38.80it/s]"
     ]
    },
    {
     "name": "stdout",
     "output_type": "stream",
     "text": [
      "Epoch  377 :  0.36597318248823285\n"
     ]
    },
    {
     "name": "stderr",
     "output_type": "stream",
     "text": [
      "42it [00:01, 41.10it/s]\n",
      "4it [00:00, 35.69it/s]"
     ]
    },
    {
     "name": "stdout",
     "output_type": "stream",
     "text": [
      "Epoch  378 :  0.3029883506242186\n"
     ]
    },
    {
     "name": "stderr",
     "output_type": "stream",
     "text": [
      "42it [00:01, 39.84it/s]\n",
      "5it [00:00, 41.80it/s]"
     ]
    },
    {
     "name": "stdout",
     "output_type": "stream",
     "text": [
      "Epoch  379 :  0.3572129807434976\n"
     ]
    },
    {
     "name": "stderr",
     "output_type": "stream",
     "text": [
      "42it [00:01, 41.28it/s]\n",
      "4it [00:00, 37.72it/s]"
     ]
    },
    {
     "name": "stdout",
     "output_type": "stream",
     "text": [
      "Epoch  380 :  0.3681811372516677\n"
     ]
    },
    {
     "name": "stderr",
     "output_type": "stream",
     "text": [
      "42it [00:01, 40.44it/s]\n",
      "4it [00:00, 39.44it/s]"
     ]
    },
    {
     "name": "stdout",
     "output_type": "stream",
     "text": [
      "Epoch  381 :  0.2520251985406503\n"
     ]
    },
    {
     "name": "stderr",
     "output_type": "stream",
     "text": [
      "42it [00:01, 40.94it/s]\n",
      "5it [00:00, 41.15it/s]"
     ]
    },
    {
     "name": "stdout",
     "output_type": "stream",
     "text": [
      "Epoch  382 :  0.30171899357810616\n"
     ]
    },
    {
     "name": "stderr",
     "output_type": "stream",
     "text": [
      "42it [00:01, 40.45it/s]\n",
      "4it [00:00, 39.37it/s]"
     ]
    },
    {
     "name": "stdout",
     "output_type": "stream",
     "text": [
      "Epoch  383 :  0.35519750032108277\n"
     ]
    },
    {
     "name": "stderr",
     "output_type": "stream",
     "text": [
      "42it [00:01, 38.49it/s]\n",
      "4it [00:00, 37.15it/s]"
     ]
    },
    {
     "name": "stdout",
     "output_type": "stream",
     "text": [
      "Epoch  384 :  0.3125091615365818\n"
     ]
    },
    {
     "name": "stderr",
     "output_type": "stream",
     "text": [
      "42it [00:01, 37.55it/s]\n",
      "4it [00:00, 36.83it/s]"
     ]
    },
    {
     "name": "stdout",
     "output_type": "stream",
     "text": [
      "Epoch  385 :  0.336609945516102\n"
     ]
    },
    {
     "name": "stderr",
     "output_type": "stream",
     "text": [
      "42it [00:01, 37.96it/s]\n",
      "4it [00:00, 37.44it/s]"
     ]
    },
    {
     "name": "stdout",
     "output_type": "stream",
     "text": [
      "Epoch  386 :  0.30799441842827946\n"
     ]
    },
    {
     "name": "stderr",
     "output_type": "stream",
     "text": [
      "42it [00:01, 37.93it/s]\n",
      "4it [00:00, 38.24it/s]"
     ]
    },
    {
     "name": "stdout",
     "output_type": "stream",
     "text": [
      "Epoch  387 :  0.3190726322354749\n"
     ]
    },
    {
     "name": "stderr",
     "output_type": "stream",
     "text": [
      "42it [00:01, 38.75it/s]\n",
      "4it [00:00, 34.83it/s]"
     ]
    },
    {
     "name": "stdout",
     "output_type": "stream",
     "text": [
      "Epoch  388 :  0.3018302285345271\n"
     ]
    },
    {
     "name": "stderr",
     "output_type": "stream",
     "text": [
      "42it [00:01, 40.58it/s]\n",
      "4it [00:00, 33.59it/s]"
     ]
    },
    {
     "name": "stdout",
     "output_type": "stream",
     "text": [
      "Epoch  389 :  0.34383889148011804\n"
     ]
    },
    {
     "name": "stderr",
     "output_type": "stream",
     "text": [
      "42it [00:01, 38.77it/s]\n",
      "4it [00:00, 39.70it/s]"
     ]
    },
    {
     "name": "stdout",
     "output_type": "stream",
     "text": [
      "Epoch  390 :  0.3195635996526107\n"
     ]
    },
    {
     "name": "stderr",
     "output_type": "stream",
     "text": [
      "42it [00:01, 37.64it/s]\n",
      "5it [00:00, 41.99it/s]"
     ]
    },
    {
     "name": "stdout",
     "output_type": "stream",
     "text": [
      "Epoch  391 :  0.27367679588496685\n"
     ]
    },
    {
     "name": "stderr",
     "output_type": "stream",
     "text": [
      "42it [00:01, 40.74it/s]\n",
      "4it [00:00, 38.55it/s]"
     ]
    },
    {
     "name": "stdout",
     "output_type": "stream",
     "text": [
      "Epoch  392 :  0.308923322125338\n"
     ]
    },
    {
     "name": "stderr",
     "output_type": "stream",
     "text": [
      "42it [00:01, 41.02it/s]\n",
      "4it [00:00, 39.45it/s]"
     ]
    },
    {
     "name": "stdout",
     "output_type": "stream",
     "text": [
      "Epoch  393 :  0.3267176968511194\n"
     ]
    },
    {
     "name": "stderr",
     "output_type": "stream",
     "text": [
      "42it [00:01, 40.64it/s]\n",
      "5it [00:00, 41.20it/s]"
     ]
    },
    {
     "name": "stdout",
     "output_type": "stream",
     "text": [
      "Epoch  394 :  0.31571921263821423\n"
     ]
    },
    {
     "name": "stderr",
     "output_type": "stream",
     "text": [
      "42it [00:01, 41.77it/s]\n",
      "5it [00:00, 41.87it/s]"
     ]
    },
    {
     "name": "stdout",
     "output_type": "stream",
     "text": [
      "Epoch  395 :  0.3321064617484808\n"
     ]
    },
    {
     "name": "stderr",
     "output_type": "stream",
     "text": [
      "42it [00:01, 41.57it/s]\n",
      "4it [00:00, 39.96it/s]"
     ]
    },
    {
     "name": "stdout",
     "output_type": "stream",
     "text": [
      "Epoch  396 :  0.2690466355998069\n"
     ]
    },
    {
     "name": "stderr",
     "output_type": "stream",
     "text": [
      "42it [00:01, 41.28it/s]\n",
      "4it [00:00, 38.24it/s]"
     ]
    },
    {
     "name": "stdout",
     "output_type": "stream",
     "text": [
      "Epoch  397 :  0.3169310630764812\n"
     ]
    },
    {
     "name": "stderr",
     "output_type": "stream",
     "text": [
      "42it [00:01, 40.50it/s]\n",
      "5it [00:00, 40.75it/s]"
     ]
    },
    {
     "name": "stdout",
     "output_type": "stream",
     "text": [
      "Epoch  398 :  0.29678636183962226\n"
     ]
    },
    {
     "name": "stderr",
     "output_type": "stream",
     "text": [
      "42it [00:01, 41.26it/s]\n",
      "4it [00:00, 39.58it/s]"
     ]
    },
    {
     "name": "stdout",
     "output_type": "stream",
     "text": [
      "Epoch  399 :  0.36813521024305373\n"
     ]
    },
    {
     "name": "stderr",
     "output_type": "stream",
     "text": [
      "42it [00:01, 39.89it/s]\n",
      "4it [00:00, 38.61it/s]"
     ]
    },
    {
     "name": "stdout",
     "output_type": "stream",
     "text": [
      "Epoch  400 :  0.35383117862511426\n"
     ]
    },
    {
     "name": "stderr",
     "output_type": "stream",
     "text": [
      "42it [00:01, 40.76it/s]\n",
      "5it [00:00, 42.22it/s]"
     ]
    },
    {
     "name": "stdout",
     "output_type": "stream",
     "text": [
      "Epoch  401 :  0.2994003654457629\n"
     ]
    },
    {
     "name": "stderr",
     "output_type": "stream",
     "text": [
      "42it [00:01, 41.78it/s]\n",
      "5it [00:00, 42.14it/s]"
     ]
    },
    {
     "name": "stdout",
     "output_type": "stream",
     "text": [
      "Epoch  402 :  0.31958852987736464\n"
     ]
    },
    {
     "name": "stderr",
     "output_type": "stream",
     "text": [
      "42it [00:01, 41.31it/s]\n",
      "4it [00:00, 33.12it/s]"
     ]
    },
    {
     "name": "stdout",
     "output_type": "stream",
     "text": [
      "Epoch  403 :  0.3242800764273852\n"
     ]
    },
    {
     "name": "stderr",
     "output_type": "stream",
     "text": [
      "42it [00:01, 40.35it/s]\n",
      "4it [00:00, 39.89it/s]"
     ]
    },
    {
     "name": "stdout",
     "output_type": "stream",
     "text": [
      "Epoch  404 :  0.31176908616907895\n"
     ]
    },
    {
     "name": "stderr",
     "output_type": "stream",
     "text": [
      "42it [00:01, 41.50it/s]\n",
      "4it [00:00, 39.82it/s]"
     ]
    },
    {
     "name": "stdout",
     "output_type": "stream",
     "text": [
      "Epoch  405 :  0.32290640438441187\n"
     ]
    },
    {
     "name": "stderr",
     "output_type": "stream",
     "text": [
      "42it [00:01, 40.54it/s]\n",
      "4it [00:00, 39.37it/s]"
     ]
    },
    {
     "name": "stdout",
     "output_type": "stream",
     "text": [
      "Epoch  406 :  0.3313465634128079\n"
     ]
    },
    {
     "name": "stderr",
     "output_type": "stream",
     "text": [
      "42it [00:01, 34.37it/s]\n",
      "4it [00:00, 31.73it/s]"
     ]
    },
    {
     "name": "stdout",
     "output_type": "stream",
     "text": [
      "Epoch  407 :  0.37391867814585567\n"
     ]
    },
    {
     "name": "stderr",
     "output_type": "stream",
     "text": [
      "42it [00:01, 34.18it/s]\n",
      "4it [00:00, 34.07it/s]"
     ]
    },
    {
     "name": "stdout",
     "output_type": "stream",
     "text": [
      "Epoch  408 :  0.30729006498586386\n"
     ]
    },
    {
     "name": "stderr",
     "output_type": "stream",
     "text": [
      "42it [00:01, 39.95it/s]\n",
      "5it [00:00, 41.30it/s]"
     ]
    },
    {
     "name": "stdout",
     "output_type": "stream",
     "text": [
      "Epoch  409 :  0.27866119949612767\n"
     ]
    },
    {
     "name": "stderr",
     "output_type": "stream",
     "text": [
      "42it [00:01, 38.70it/s]\n",
      "4it [00:00, 33.24it/s]"
     ]
    },
    {
     "name": "stdout",
     "output_type": "stream",
     "text": [
      "Epoch  410 :  0.3333629162516445\n"
     ]
    },
    {
     "name": "stderr",
     "output_type": "stream",
     "text": [
      "42it [00:01, 37.32it/s]\n",
      "4it [00:00, 36.73it/s]"
     ]
    },
    {
     "name": "stdout",
     "output_type": "stream",
     "text": [
      "Epoch  411 :  0.3301430408610031\n"
     ]
    },
    {
     "name": "stderr",
     "output_type": "stream",
     "text": [
      "42it [00:01, 38.43it/s]\n",
      "4it [00:00, 35.24it/s]"
     ]
    },
    {
     "name": "stdout",
     "output_type": "stream",
     "text": [
      "Epoch  412 :  0.32822134596062824\n"
     ]
    },
    {
     "name": "stderr",
     "output_type": "stream",
     "text": [
      "42it [00:01, 38.08it/s]\n",
      "4it [00:00, 36.28it/s]"
     ]
    },
    {
     "name": "stdout",
     "output_type": "stream",
     "text": [
      "Epoch  413 :  0.34303783997893333\n"
     ]
    },
    {
     "name": "stderr",
     "output_type": "stream",
     "text": [
      "42it [00:01, 38.70it/s]\n",
      "4it [00:00, 38.64it/s]"
     ]
    },
    {
     "name": "stdout",
     "output_type": "stream",
     "text": [
      "Epoch  414 :  0.3436082674888894\n"
     ]
    },
    {
     "name": "stderr",
     "output_type": "stream",
     "text": [
      "42it [00:01, 38.79it/s]\n",
      "4it [00:00, 37.09it/s]"
     ]
    },
    {
     "name": "stdout",
     "output_type": "stream",
     "text": [
      "Epoch  415 :  0.3230035051237792\n"
     ]
    },
    {
     "name": "stderr",
     "output_type": "stream",
     "text": [
      "42it [00:01, 38.91it/s]\n",
      "4it [00:00, 39.05it/s]"
     ]
    },
    {
     "name": "stdout",
     "output_type": "stream",
     "text": [
      "Epoch  416 :  0.2746741084847599\n"
     ]
    },
    {
     "name": "stderr",
     "output_type": "stream",
     "text": [
      "42it [00:01, 38.72it/s]\n",
      "4it [00:00, 37.80it/s]"
     ]
    },
    {
     "name": "stdout",
     "output_type": "stream",
     "text": [
      "Epoch  417 :  0.3212908693822101\n"
     ]
    },
    {
     "name": "stderr",
     "output_type": "stream",
     "text": [
      "42it [00:01, 40.80it/s]\n",
      "5it [00:00, 41.11it/s]"
     ]
    },
    {
     "name": "stdout",
     "output_type": "stream",
     "text": [
      "Epoch  418 :  0.3028808361850679\n"
     ]
    },
    {
     "name": "stderr",
     "output_type": "stream",
     "text": [
      "42it [00:01, 41.11it/s]\n",
      "4it [00:00, 34.16it/s]"
     ]
    },
    {
     "name": "stdout",
     "output_type": "stream",
     "text": [
      "Epoch  419 :  0.3564656409434974\n"
     ]
    },
    {
     "name": "stderr",
     "output_type": "stream",
     "text": [
      "42it [00:01, 39.59it/s]\n",
      "4it [00:00, 36.05it/s]"
     ]
    },
    {
     "name": "stdout",
     "output_type": "stream",
     "text": [
      "Epoch  420 :  0.3136763304937631\n"
     ]
    },
    {
     "name": "stderr",
     "output_type": "stream",
     "text": [
      "42it [00:01, 38.22it/s]\n",
      "4it [00:00, 37.72it/s]"
     ]
    },
    {
     "name": "stdout",
     "output_type": "stream",
     "text": [
      "Epoch  421 :  0.31807232345454395\n"
     ]
    },
    {
     "name": "stderr",
     "output_type": "stream",
     "text": [
      "42it [00:01, 39.81it/s]\n",
      "5it [00:00, 40.21it/s]"
     ]
    },
    {
     "name": "stdout",
     "output_type": "stream",
     "text": [
      "Epoch  422 :  0.3676291447482072\n"
     ]
    },
    {
     "name": "stderr",
     "output_type": "stream",
     "text": [
      "42it [00:01, 39.47it/s]\n",
      "4it [00:00, 38.98it/s]"
     ]
    },
    {
     "name": "stdout",
     "output_type": "stream",
     "text": [
      "Epoch  423 :  0.34161596139892936\n"
     ]
    },
    {
     "name": "stderr",
     "output_type": "stream",
     "text": [
      "42it [00:01, 40.39it/s]\n",
      "5it [00:00, 40.44it/s]"
     ]
    },
    {
     "name": "stdout",
     "output_type": "stream",
     "text": [
      "Epoch  424 :  0.3327052340609953\n"
     ]
    },
    {
     "name": "stderr",
     "output_type": "stream",
     "text": [
      "42it [00:01, 40.47it/s]\n",
      "4it [00:00, 39.19it/s]"
     ]
    },
    {
     "name": "stdout",
     "output_type": "stream",
     "text": [
      "Epoch  425 :  0.3362451954744756\n"
     ]
    },
    {
     "name": "stderr",
     "output_type": "stream",
     "text": [
      "42it [00:01, 40.50it/s]\n",
      "4it [00:00, 38.37it/s]"
     ]
    },
    {
     "name": "stdout",
     "output_type": "stream",
     "text": [
      "Epoch  426 :  0.3347976675722748\n"
     ]
    },
    {
     "name": "stderr",
     "output_type": "stream",
     "text": [
      "42it [00:01, 40.26it/s]\n",
      "4it [00:00, 36.01it/s]"
     ]
    },
    {
     "name": "stdout",
     "output_type": "stream",
     "text": [
      "Epoch  427 :  0.2675371940713376\n"
     ]
    },
    {
     "name": "stderr",
     "output_type": "stream",
     "text": [
      "42it [00:01, 39.87it/s]\n",
      "5it [00:00, 40.66it/s]"
     ]
    },
    {
     "name": "stdout",
     "output_type": "stream",
     "text": [
      "Epoch  428 :  0.31493479653727263\n"
     ]
    },
    {
     "name": "stderr",
     "output_type": "stream",
     "text": [
      "42it [00:01, 40.61it/s]\n",
      "5it [00:00, 40.69it/s]"
     ]
    },
    {
     "name": "stdout",
     "output_type": "stream",
     "text": [
      "Epoch  429 :  0.37199814920313656\n"
     ]
    },
    {
     "name": "stderr",
     "output_type": "stream",
     "text": [
      "42it [00:01, 39.80it/s]\n",
      "4it [00:00, 37.95it/s]"
     ]
    },
    {
     "name": "stdout",
     "output_type": "stream",
     "text": [
      "Epoch  430 :  0.3528852212475613\n"
     ]
    },
    {
     "name": "stderr",
     "output_type": "stream",
     "text": [
      "42it [00:01, 39.82it/s]\n",
      "4it [00:00, 38.20it/s]"
     ]
    },
    {
     "name": "stdout",
     "output_type": "stream",
     "text": [
      "Epoch  431 :  0.3156654955819249\n"
     ]
    },
    {
     "name": "stderr",
     "output_type": "stream",
     "text": [
      "42it [00:01, 40.33it/s]\n",
      "4it [00:00, 39.14it/s]"
     ]
    },
    {
     "name": "stdout",
     "output_type": "stream",
     "text": [
      "Epoch  432 :  0.3354699300834909\n"
     ]
    },
    {
     "name": "stderr",
     "output_type": "stream",
     "text": [
      "42it [00:01, 40.40it/s]\n",
      "4it [00:00, 39.85it/s]"
     ]
    },
    {
     "name": "stdout",
     "output_type": "stream",
     "text": [
      "Epoch  433 :  0.2879987983033061\n"
     ]
    },
    {
     "name": "stderr",
     "output_type": "stream",
     "text": [
      "42it [00:01, 39.07it/s]\n",
      "4it [00:00, 37.83it/s]"
     ]
    },
    {
     "name": "stdout",
     "output_type": "stream",
     "text": [
      "Epoch  434 :  0.29977849521674216\n"
     ]
    },
    {
     "name": "stderr",
     "output_type": "stream",
     "text": [
      "42it [00:01, 38.74it/s]\n",
      "4it [00:00, 38.25it/s]"
     ]
    },
    {
     "name": "stdout",
     "output_type": "stream",
     "text": [
      "Epoch  435 :  0.40507383074145764\n"
     ]
    },
    {
     "name": "stderr",
     "output_type": "stream",
     "text": [
      "42it [00:01, 38.44it/s]\n",
      "4it [00:00, 38.14it/s]"
     ]
    },
    {
     "name": "stdout",
     "output_type": "stream",
     "text": [
      "Epoch  436 :  0.3574619513237849\n"
     ]
    },
    {
     "name": "stderr",
     "output_type": "stream",
     "text": [
      "42it [00:01, 40.63it/s]\n",
      "5it [00:00, 40.82it/s]"
     ]
    },
    {
     "name": "stdout",
     "output_type": "stream",
     "text": [
      "Epoch  437 :  0.22812812949996442\n"
     ]
    },
    {
     "name": "stderr",
     "output_type": "stream",
     "text": [
      "42it [00:01, 37.95it/s]\n",
      "4it [00:00, 38.98it/s]"
     ]
    },
    {
     "name": "stdout",
     "output_type": "stream",
     "text": [
      "Epoch  438 :  0.31281487771775573\n"
     ]
    },
    {
     "name": "stderr",
     "output_type": "stream",
     "text": [
      "42it [00:01, 39.80it/s]\n",
      "4it [00:00, 37.42it/s]"
     ]
    },
    {
     "name": "stdout",
     "output_type": "stream",
     "text": [
      "Epoch  439 :  0.3454579079989344\n"
     ]
    },
    {
     "name": "stderr",
     "output_type": "stream",
     "text": [
      "42it [00:01, 39.77it/s]\n",
      "4it [00:00, 34.16it/s]"
     ]
    },
    {
     "name": "stdout",
     "output_type": "stream",
     "text": [
      "Epoch  440 :  0.2990618993062526\n"
     ]
    },
    {
     "name": "stderr",
     "output_type": "stream",
     "text": [
      "42it [00:01, 37.50it/s]\n",
      "4it [00:00, 38.89it/s]"
     ]
    },
    {
     "name": "stdout",
     "output_type": "stream",
     "text": [
      "Epoch  441 :  0.3164752568118274\n"
     ]
    },
    {
     "name": "stderr",
     "output_type": "stream",
     "text": [
      "42it [00:01, 29.35it/s]\n",
      "5it [00:00, 41.66it/s]"
     ]
    },
    {
     "name": "stdout",
     "output_type": "stream",
     "text": [
      "Epoch  442 :  0.31534052814822644\n"
     ]
    },
    {
     "name": "stderr",
     "output_type": "stream",
     "text": [
      "42it [00:01, 39.39it/s]\n",
      "4it [00:00, 36.10it/s]"
     ]
    },
    {
     "name": "stdout",
     "output_type": "stream",
     "text": [
      "Epoch  443 :  0.27778008324094117\n"
     ]
    },
    {
     "name": "stderr",
     "output_type": "stream",
     "text": [
      "42it [00:01, 38.69it/s]\n",
      "5it [00:00, 41.17it/s]"
     ]
    },
    {
     "name": "stdout",
     "output_type": "stream",
     "text": [
      "Epoch  444 :  0.3158777978969738\n"
     ]
    },
    {
     "name": "stderr",
     "output_type": "stream",
     "text": [
      "42it [00:01, 40.52it/s]\n",
      "5it [00:00, 41.61it/s]"
     ]
    },
    {
     "name": "stdout",
     "output_type": "stream",
     "text": [
      "Epoch  445 :  0.3458989014616236\n"
     ]
    },
    {
     "name": "stderr",
     "output_type": "stream",
     "text": [
      "42it [00:01, 41.26it/s]\n",
      "5it [00:00, 41.22it/s]"
     ]
    },
    {
     "name": "stdout",
     "output_type": "stream",
     "text": [
      "Epoch  446 :  0.2964131530607119\n"
     ]
    },
    {
     "name": "stderr",
     "output_type": "stream",
     "text": [
      "42it [00:01, 41.49it/s]\n",
      "4it [00:00, 39.17it/s]"
     ]
    },
    {
     "name": "stdout",
     "output_type": "stream",
     "text": [
      "Epoch  447 :  0.3227066603722051\n"
     ]
    },
    {
     "name": "stderr",
     "output_type": "stream",
     "text": [
      "42it [00:01, 40.18it/s]\n",
      "4it [00:00, 38.49it/s]"
     ]
    },
    {
     "name": "stdout",
     "output_type": "stream",
     "text": [
      "Epoch  448 :  0.3534813941223547\n"
     ]
    },
    {
     "name": "stderr",
     "output_type": "stream",
     "text": [
      "42it [00:01, 39.20it/s]\n",
      "4it [00:00, 37.77it/s]"
     ]
    },
    {
     "name": "stdout",
     "output_type": "stream",
     "text": [
      "Epoch  449 :  0.32977866486180574\n"
     ]
    },
    {
     "name": "stderr",
     "output_type": "stream",
     "text": [
      "42it [00:01, 40.08it/s]\n",
      "5it [00:00, 40.18it/s]"
     ]
    },
    {
     "name": "stdout",
     "output_type": "stream",
     "text": [
      "Epoch  450 :  0.25995256390888244\n"
     ]
    },
    {
     "name": "stderr",
     "output_type": "stream",
     "text": [
      "42it [00:01, 40.60it/s]\n",
      "4it [00:00, 39.09it/s]"
     ]
    },
    {
     "name": "stdout",
     "output_type": "stream",
     "text": [
      "Epoch  451 :  0.3208594308234751\n"
     ]
    },
    {
     "name": "stderr",
     "output_type": "stream",
     "text": [
      "42it [00:01, 40.62it/s]\n",
      "5it [00:00, 40.48it/s]"
     ]
    },
    {
     "name": "stdout",
     "output_type": "stream",
     "text": [
      "Epoch  452 :  0.3499482332263142\n"
     ]
    },
    {
     "name": "stderr",
     "output_type": "stream",
     "text": [
      "42it [00:01, 40.36it/s]\n",
      "5it [00:00, 40.90it/s]"
     ]
    },
    {
     "name": "stdout",
     "output_type": "stream",
     "text": [
      "Epoch  453 :  0.32691655453527346\n"
     ]
    },
    {
     "name": "stderr",
     "output_type": "stream",
     "text": [
      "42it [00:01, 40.85it/s]\n",
      "4it [00:00, 39.86it/s]"
     ]
    },
    {
     "name": "stdout",
     "output_type": "stream",
     "text": [
      "Epoch  454 :  0.2832826264202595\n"
     ]
    },
    {
     "name": "stderr",
     "output_type": "stream",
     "text": [
      "42it [00:01, 40.71it/s]\n",
      "5it [00:00, 40.24it/s]"
     ]
    },
    {
     "name": "stdout",
     "output_type": "stream",
     "text": [
      "Epoch  455 :  0.2906459979712963\n"
     ]
    },
    {
     "name": "stderr",
     "output_type": "stream",
     "text": [
      "42it [00:01, 40.50it/s]\n",
      "4it [00:00, 38.64it/s]"
     ]
    },
    {
     "name": "stdout",
     "output_type": "stream",
     "text": [
      "Epoch  456 :  0.3394819116219878\n"
     ]
    },
    {
     "name": "stderr",
     "output_type": "stream",
     "text": [
      "42it [00:01, 40.37it/s]\n",
      "5it [00:00, 40.41it/s]"
     ]
    },
    {
     "name": "stdout",
     "output_type": "stream",
     "text": [
      "Epoch  457 :  0.3358877246500924\n"
     ]
    },
    {
     "name": "stderr",
     "output_type": "stream",
     "text": [
      "42it [00:01, 40.50it/s]\n",
      "5it [00:00, 40.48it/s]"
     ]
    },
    {
     "name": "stdout",
     "output_type": "stream",
     "text": [
      "Epoch  458 :  0.3045491985976696\n"
     ]
    },
    {
     "name": "stderr",
     "output_type": "stream",
     "text": [
      "42it [00:01, 40.08it/s]\n",
      "4it [00:00, 38.29it/s]"
     ]
    },
    {
     "name": "stdout",
     "output_type": "stream",
     "text": [
      "Epoch  459 :  0.27286542882211506\n"
     ]
    },
    {
     "name": "stderr",
     "output_type": "stream",
     "text": [
      "42it [00:01, 38.66it/s]\n",
      "4it [00:00, 37.34it/s]"
     ]
    },
    {
     "name": "stdout",
     "output_type": "stream",
     "text": [
      "Epoch  460 :  0.3051332706818357\n"
     ]
    },
    {
     "name": "stderr",
     "output_type": "stream",
     "text": [
      "42it [00:01, 38.43it/s]\n",
      "4it [00:00, 38.73it/s]"
     ]
    },
    {
     "name": "stdout",
     "output_type": "stream",
     "text": [
      "Epoch  461 :  0.3126766656059772\n"
     ]
    },
    {
     "name": "stderr",
     "output_type": "stream",
     "text": [
      "42it [00:01, 39.38it/s]\n",
      "4it [00:00, 39.73it/s]"
     ]
    },
    {
     "name": "stdout",
     "output_type": "stream",
     "text": [
      "Epoch  462 :  0.2966357234399766\n"
     ]
    },
    {
     "name": "stderr",
     "output_type": "stream",
     "text": [
      "42it [00:01, 40.10it/s]\n",
      "5it [00:00, 40.57it/s]"
     ]
    },
    {
     "name": "stdout",
     "output_type": "stream",
     "text": [
      "Epoch  463 :  0.32473961147479713\n"
     ]
    },
    {
     "name": "stderr",
     "output_type": "stream",
     "text": [
      "42it [00:01, 40.34it/s]\n",
      "4it [00:00, 39.89it/s]"
     ]
    },
    {
     "name": "stdout",
     "output_type": "stream",
     "text": [
      "Epoch  464 :  0.317362237139605\n"
     ]
    },
    {
     "name": "stderr",
     "output_type": "stream",
     "text": [
      "42it [00:01, 39.43it/s]\n",
      "4it [00:00, 39.06it/s]"
     ]
    },
    {
     "name": "stdout",
     "output_type": "stream",
     "text": [
      "Epoch  465 :  0.31524518819060177\n"
     ]
    },
    {
     "name": "stderr",
     "output_type": "stream",
     "text": [
      "42it [00:01, 40.76it/s]\n",
      "4it [00:00, 38.40it/s]"
     ]
    },
    {
     "name": "stdout",
     "output_type": "stream",
     "text": [
      "Epoch  466 :  0.30907904333435\n"
     ]
    },
    {
     "name": "stderr",
     "output_type": "stream",
     "text": [
      "42it [00:01, 39.68it/s]\n",
      "4it [00:00, 39.61it/s]"
     ]
    },
    {
     "name": "stdout",
     "output_type": "stream",
     "text": [
      "Epoch  467 :  0.31449363799765706\n"
     ]
    },
    {
     "name": "stderr",
     "output_type": "stream",
     "text": [
      "42it [00:01, 41.30it/s]\n",
      "4it [00:00, 37.94it/s]"
     ]
    },
    {
     "name": "stdout",
     "output_type": "stream",
     "text": [
      "Epoch  468 :  0.3539114884333685\n"
     ]
    },
    {
     "name": "stderr",
     "output_type": "stream",
     "text": [
      "42it [00:01, 40.93it/s]\n",
      "5it [00:00, 40.88it/s]"
     ]
    },
    {
     "name": "stdout",
     "output_type": "stream",
     "text": [
      "Epoch  469 :  0.3180280328961089\n"
     ]
    },
    {
     "name": "stderr",
     "output_type": "stream",
     "text": [
      "42it [00:01, 41.26it/s]\n",
      "5it [00:00, 40.47it/s]"
     ]
    },
    {
     "name": "stdout",
     "output_type": "stream",
     "text": [
      "Epoch  470 :  0.3202218784717843\n"
     ]
    },
    {
     "name": "stderr",
     "output_type": "stream",
     "text": [
      "42it [00:01, 40.93it/s]\n",
      "4it [00:00, 39.71it/s]"
     ]
    },
    {
     "name": "stdout",
     "output_type": "stream",
     "text": [
      "Epoch  471 :  0.32474105700384825\n"
     ]
    },
    {
     "name": "stderr",
     "output_type": "stream",
     "text": [
      "42it [00:01, 41.11it/s]\n",
      "4it [00:00, 38.61it/s]"
     ]
    },
    {
     "name": "stdout",
     "output_type": "stream",
     "text": [
      "Epoch  472 :  0.34622878790833056\n"
     ]
    },
    {
     "name": "stderr",
     "output_type": "stream",
     "text": [
      "42it [00:01, 39.24it/s]\n",
      "4it [00:00, 38.17it/s]"
     ]
    },
    {
     "name": "stdout",
     "output_type": "stream",
     "text": [
      "Epoch  473 :  0.33629741542972624\n"
     ]
    },
    {
     "name": "stderr",
     "output_type": "stream",
     "text": [
      "42it [00:01, 38.29it/s]\n",
      "4it [00:00, 28.99it/s]"
     ]
    },
    {
     "name": "stdout",
     "output_type": "stream",
     "text": [
      "Epoch  474 :  0.26811954379081726\n"
     ]
    },
    {
     "name": "stderr",
     "output_type": "stream",
     "text": [
      "42it [00:01, 36.85it/s]\n",
      "4it [00:00, 37.02it/s]"
     ]
    },
    {
     "name": "stdout",
     "output_type": "stream",
     "text": [
      "Epoch  475 :  0.32936910761054605\n"
     ]
    },
    {
     "name": "stderr",
     "output_type": "stream",
     "text": [
      "42it [00:01, 36.63it/s]\n",
      "4it [00:00, 34.09it/s]"
     ]
    },
    {
     "name": "stdout",
     "output_type": "stream",
     "text": [
      "Epoch  476 :  0.27879033039789647\n"
     ]
    },
    {
     "name": "stderr",
     "output_type": "stream",
     "text": [
      "42it [00:01, 35.86it/s]\n",
      "4it [00:00, 37.19it/s]"
     ]
    },
    {
     "name": "stdout",
     "output_type": "stream",
     "text": [
      "Epoch  477 :  0.31928428926039487\n"
     ]
    },
    {
     "name": "stderr",
     "output_type": "stream",
     "text": [
      "42it [00:01, 39.04it/s]\n",
      "5it [00:00, 40.19it/s]"
     ]
    },
    {
     "name": "stdout",
     "output_type": "stream",
     "text": [
      "Epoch  478 :  0.35125429707113653\n"
     ]
    },
    {
     "name": "stderr",
     "output_type": "stream",
     "text": [
      "42it [00:01, 39.62it/s]\n",
      "4it [00:00, 35.33it/s]"
     ]
    },
    {
     "name": "stdout",
     "output_type": "stream",
     "text": [
      "Epoch  479 :  0.30593490065075457\n"
     ]
    },
    {
     "name": "stderr",
     "output_type": "stream",
     "text": [
      "42it [00:01, 40.20it/s]\n",
      "4it [00:00, 39.38it/s]"
     ]
    },
    {
     "name": "stdout",
     "output_type": "stream",
     "text": [
      "Epoch  480 :  0.3083630041219294\n"
     ]
    },
    {
     "name": "stderr",
     "output_type": "stream",
     "text": [
      "42it [00:01, 39.82it/s]\n",
      "4it [00:00, 38.76it/s]"
     ]
    },
    {
     "name": "stdout",
     "output_type": "stream",
     "text": [
      "Epoch  481 :  0.274870204157196\n"
     ]
    },
    {
     "name": "stderr",
     "output_type": "stream",
     "text": [
      "42it [00:01, 37.28it/s]\n",
      "4it [00:00, 36.79it/s]"
     ]
    },
    {
     "name": "stdout",
     "output_type": "stream",
     "text": [
      "Epoch  482 :  0.2788894351106137\n"
     ]
    },
    {
     "name": "stderr",
     "output_type": "stream",
     "text": [
      "42it [00:01, 37.99it/s]\n",
      "4it [00:00, 38.20it/s]"
     ]
    },
    {
     "name": "stdout",
     "output_type": "stream",
     "text": [
      "Epoch  483 :  0.30382790707517415\n"
     ]
    },
    {
     "name": "stderr",
     "output_type": "stream",
     "text": [
      "42it [00:01, 38.59it/s]\n",
      "4it [00:00, 36.71it/s]"
     ]
    },
    {
     "name": "stdout",
     "output_type": "stream",
     "text": [
      "Epoch  484 :  0.3241732765454799\n"
     ]
    },
    {
     "name": "stderr",
     "output_type": "stream",
     "text": [
      "42it [00:01, 38.22it/s]\n",
      "4it [00:00, 37.46it/s]"
     ]
    },
    {
     "name": "stdout",
     "output_type": "stream",
     "text": [
      "Epoch  485 :  0.29642749833874404\n"
     ]
    },
    {
     "name": "stderr",
     "output_type": "stream",
     "text": [
      "42it [00:01, 38.04it/s]\n",
      "5it [00:00, 40.53it/s]"
     ]
    },
    {
     "name": "stdout",
     "output_type": "stream",
     "text": [
      "Epoch  486 :  0.32133181334938854\n"
     ]
    },
    {
     "name": "stderr",
     "output_type": "stream",
     "text": [
      "42it [00:01, 39.76it/s]\n",
      "4it [00:00, 36.35it/s]"
     ]
    },
    {
     "name": "stdout",
     "output_type": "stream",
     "text": [
      "Epoch  487 :  0.27366276318207383\n"
     ]
    },
    {
     "name": "stderr",
     "output_type": "stream",
     "text": [
      "42it [00:01, 41.18it/s]\n",
      "5it [00:00, 40.69it/s]"
     ]
    },
    {
     "name": "stdout",
     "output_type": "stream",
     "text": [
      "Epoch  488 :  0.25797876075375825\n"
     ]
    },
    {
     "name": "stderr",
     "output_type": "stream",
     "text": [
      "42it [00:01, 39.60it/s]\n",
      "4it [00:00, 38.96it/s]"
     ]
    },
    {
     "name": "stdout",
     "output_type": "stream",
     "text": [
      "Epoch  489 :  0.2676589066395536\n"
     ]
    },
    {
     "name": "stderr",
     "output_type": "stream",
     "text": [
      "42it [00:01, 40.70it/s]\n",
      "4it [00:00, 39.85it/s]"
     ]
    },
    {
     "name": "stdout",
     "output_type": "stream",
     "text": [
      "Epoch  490 :  0.34695153281791136\n"
     ]
    },
    {
     "name": "stderr",
     "output_type": "stream",
     "text": [
      "42it [00:01, 39.67it/s]\n",
      "4it [00:00, 37.61it/s]"
     ]
    },
    {
     "name": "stdout",
     "output_type": "stream",
     "text": [
      "Epoch  491 :  0.3628198520746082\n"
     ]
    },
    {
     "name": "stderr",
     "output_type": "stream",
     "text": [
      "42it [00:01, 39.85it/s]\n",
      "4it [00:00, 39.72it/s]"
     ]
    },
    {
     "name": "stdout",
     "output_type": "stream",
     "text": [
      "Epoch  492 :  0.2975957063026726\n"
     ]
    },
    {
     "name": "stderr",
     "output_type": "stream",
     "text": [
      "42it [00:01, 37.83it/s]\n",
      "4it [00:00, 38.88it/s]"
     ]
    },
    {
     "name": "stdout",
     "output_type": "stream",
     "text": [
      "Epoch  493 :  0.31751538859680295\n"
     ]
    },
    {
     "name": "stderr",
     "output_type": "stream",
     "text": [
      "42it [00:01, 38.47it/s]\n",
      "4it [00:00, 38.18it/s]"
     ]
    },
    {
     "name": "stdout",
     "output_type": "stream",
     "text": [
      "Epoch  494 :  0.30796335614286363\n"
     ]
    },
    {
     "name": "stderr",
     "output_type": "stream",
     "text": [
      "42it [00:01, 33.76it/s]\n",
      "3it [00:00, 29.25it/s]"
     ]
    },
    {
     "name": "stdout",
     "output_type": "stream",
     "text": [
      "Epoch  495 :  0.266003038152121\n"
     ]
    },
    {
     "name": "stderr",
     "output_type": "stream",
     "text": [
      "42it [00:01, 36.95it/s]\n",
      "4it [00:00, 36.98it/s]"
     ]
    },
    {
     "name": "stdout",
     "output_type": "stream",
     "text": [
      "Epoch  496 :  0.25335560960229486\n"
     ]
    },
    {
     "name": "stderr",
     "output_type": "stream",
     "text": [
      "42it [00:01, 38.20it/s]\n",
      "4it [00:00, 39.94it/s]"
     ]
    },
    {
     "name": "stdout",
     "output_type": "stream",
     "text": [
      "Epoch  497 :  0.28269362170249224\n"
     ]
    },
    {
     "name": "stderr",
     "output_type": "stream",
     "text": [
      "42it [00:01, 39.17it/s]\n",
      "5it [00:00, 40.26it/s]"
     ]
    },
    {
     "name": "stdout",
     "output_type": "stream",
     "text": [
      "Epoch  498 :  0.3224287733901292\n"
     ]
    },
    {
     "name": "stderr",
     "output_type": "stream",
     "text": [
      "42it [00:01, 40.41it/s]"
     ]
    },
    {
     "name": "stdout",
     "output_type": "stream",
     "text": [
      "Epoch  499 :  0.2933899314375594\n"
     ]
    },
    {
     "name": "stderr",
     "output_type": "stream",
     "text": [
      "\n"
     ]
    }
   ],
   "source": [
    "#Entrainement DU model\n",
    "model_btc=model(train_loader,500)"
   ]
  },
  {
   "cell_type": "code",
   "execution_count": 146,
   "metadata": {
    "scrolled": true
   },
   "outputs": [
    {
     "name": "stderr",
     "output_type": "stream",
     "text": [
      "4it [00:00, 37.27it/s]"
     ]
    },
    {
     "name": "stdout",
     "output_type": "stream",
     "text": [
      "tensor([[0.7447]], grad_fn=<AddmmBackward>)\n",
      "tensor([[0.7776]], grad_fn=<AddmmBackward>)\n",
      "tensor([[0.8247]], grad_fn=<AddmmBackward>)\n",
      "tensor([[0.8112]], grad_fn=<AddmmBackward>)\n",
      "tensor([[0.7721]], grad_fn=<AddmmBackward>)\n",
      "tensor([[0.9044]], grad_fn=<AddmmBackward>)\n",
      "tensor([[0.8636]], grad_fn=<AddmmBackward>)\n",
      "tensor([[0.9921]], grad_fn=<AddmmBackward>)\n",
      "tensor([[0.9908]], grad_fn=<AddmmBackward>)\n",
      "tensor([[0.9412]], grad_fn=<AddmmBackward>)\n",
      "tensor([[0.8775]], grad_fn=<AddmmBackward>)\n",
      "tensor([[0.8374]], grad_fn=<AddmmBackward>)\n",
      "tensor([[0.9821]], grad_fn=<AddmmBackward>)\n",
      "tensor([[0.9474]], grad_fn=<AddmmBackward>)\n",
      "tensor([[0.8257]], grad_fn=<AddmmBackward>)\n",
      "tensor([[0.8641]], grad_fn=<AddmmBackward>)\n",
      "tensor([[0.9295]], grad_fn=<AddmmBackward>)\n",
      "tensor([[0.8703]], grad_fn=<AddmmBackward>)\n",
      "tensor([[0.9259]], grad_fn=<AddmmBackward>)\n",
      "tensor([[1.0091]], grad_fn=<AddmmBackward>)\n",
      "tensor([[0.8766]], grad_fn=<AddmmBackward>)\n",
      "tensor([[0.8399]], grad_fn=<AddmmBackward>)\n",
      "tensor([[0.8504]], grad_fn=<AddmmBackward>)\n",
      "tensor([[0.8471]], grad_fn=<AddmmBackward>)\n",
      "tensor([[0.8298]], grad_fn=<AddmmBackward>)\n",
      "tensor([[0.9524]], grad_fn=<AddmmBackward>)\n",
      "tensor([[0.9571]], grad_fn=<AddmmBackward>)\n",
      "tensor([[0.7897]], grad_fn=<AddmmBackward>)\n",
      "tensor([[0.9713]], grad_fn=<AddmmBackward>)\n",
      "tensor([[0.9687]], grad_fn=<AddmmBackward>)\n",
      "tensor([[0.8752]], grad_fn=<AddmmBackward>)\n",
      "tensor([[1.0717]], grad_fn=<AddmmBackward>)\n",
      "tensor([[1.0764]], grad_fn=<AddmmBackward>)\n",
      "tensor([[1.0795]], grad_fn=<AddmmBackward>)\n",
      "tensor([[1.0626]], grad_fn=<AddmmBackward>)\n",
      "tensor([[1.1407]], grad_fn=<AddmmBackward>)\n",
      "tensor([[1.0027]], grad_fn=<AddmmBackward>)\n",
      "tensor([[1.0960]], grad_fn=<AddmmBackward>)\n",
      "tensor([[1.0951]], grad_fn=<AddmmBackward>)\n",
      "tensor([[1.0691]], grad_fn=<AddmmBackward>)\n",
      "tensor([[1.1231]], grad_fn=<AddmmBackward>)\n",
      "tensor([[1.2384]], grad_fn=<AddmmBackward>)\n",
      "tensor([[1.0174]], grad_fn=<AddmmBackward>)\n",
      "tensor([[1.2319]], grad_fn=<AddmmBackward>)\n",
      "tensor([[1.1515]], grad_fn=<AddmmBackward>)\n",
      "tensor([[1.0999]], grad_fn=<AddmmBackward>)\n",
      "tensor([[1.2355]], grad_fn=<AddmmBackward>)\n",
      "tensor([[0.9989]], grad_fn=<AddmmBackward>)\n",
      "tensor([[1.2062]], grad_fn=<AddmmBackward>)\n",
      "tensor([[1.0904]], grad_fn=<AddmmBackward>)\n",
      "tensor([[1.1091]], grad_fn=<AddmmBackward>)\n",
      "tensor([[1.1076]], grad_fn=<AddmmBackward>)\n",
      "tensor([[1.0897]], grad_fn=<AddmmBackward>)\n",
      "tensor([[1.1236]], grad_fn=<AddmmBackward>)\n",
      "tensor([[1.0932]], grad_fn=<AddmmBackward>)\n",
      "tensor([[1.1956]], grad_fn=<AddmmBackward>)\n",
      "tensor([[1.2267]], grad_fn=<AddmmBackward>)\n",
      "tensor([[1.2178]], grad_fn=<AddmmBackward>)\n",
      "tensor([[1.3245]], grad_fn=<AddmmBackward>)\n",
      "tensor([[1.4278]], grad_fn=<AddmmBackward>)\n",
      "tensor([[1.2809]], grad_fn=<AddmmBackward>)\n",
      "tensor([[1.3386]], grad_fn=<AddmmBackward>)\n",
      "tensor([[1.2887]], grad_fn=<AddmmBackward>)\n",
      "tensor([[1.4738]], grad_fn=<AddmmBackward>)\n",
      "tensor([[1.4774]], grad_fn=<AddmmBackward>)\n",
      "tensor([[1.4479]], grad_fn=<AddmmBackward>)\n",
      "tensor([[1.5034]], grad_fn=<AddmmBackward>)\n",
      "tensor([[1.5942]], grad_fn=<AddmmBackward>)\n",
      "tensor([[1.7755]], grad_fn=<AddmmBackward>)\n",
      "tensor([[1.6631]], grad_fn=<AddmmBackward>)\n",
      "tensor([[1.4210]], grad_fn=<AddmmBackward>)\n",
      "tensor([[1.5863]], grad_fn=<AddmmBackward>)\n",
      "tensor([[1.4755]], grad_fn=<AddmmBackward>)\n",
      "tensor([[1.5184]], grad_fn=<AddmmBackward>)\n",
      "tensor([[1.6197]], grad_fn=<AddmmBackward>)\n",
      "tensor([[1.5369]], grad_fn=<AddmmBackward>)\n",
      "tensor([[1.4128]], grad_fn=<AddmmBackward>)\n",
      "tensor([[1.4328]], grad_fn=<AddmmBackward>)\n",
      "tensor([[1.2785]], grad_fn=<AddmmBackward>)\n",
      "tensor([[1.2356]], grad_fn=<AddmmBackward>)\n",
      "tensor([[1.2193]], grad_fn=<AddmmBackward>)\n",
      "tensor([[1.0439]], grad_fn=<AddmmBackward>)\n",
      "tensor([[0.9782]], grad_fn=<AddmmBackward>)\n",
      "tensor([[1.1152]], grad_fn=<AddmmBackward>)\n",
      "tensor([[1.2947]], grad_fn=<AddmmBackward>)\n",
      "tensor([[1.3254]], grad_fn=<AddmmBackward>)\n",
      "tensor([[1.3484]], grad_fn=<AddmmBackward>)\n",
      "tensor([[1.1503]], grad_fn=<AddmmBackward>)\n",
      "tensor([[1.0906]], grad_fn=<AddmmBackward>)\n",
      "tensor([[1.1032]], grad_fn=<AddmmBackward>)\n",
      "tensor([[1.2056]], grad_fn=<AddmmBackward>)\n",
      "tensor([[1.2688]], grad_fn=<AddmmBackward>)\n",
      "tensor([[1.3639]], grad_fn=<AddmmBackward>)\n",
      "tensor([[1.3233]], grad_fn=<AddmmBackward>)\n",
      "tensor([[1.3898]], grad_fn=<AddmmBackward>)\n",
      "tensor([[1.2942]], grad_fn=<AddmmBackward>)\n",
      "tensor([[1.1337]], grad_fn=<AddmmBackward>)\n",
      "tensor([[1.1183]], grad_fn=<AddmmBackward>)\n",
      "tensor([[1.1858]], grad_fn=<AddmmBackward>)\n",
      "tensor([[1.2016]], grad_fn=<AddmmBackward>)\n",
      "tensor([[1.2331]], grad_fn=<AddmmBackward>)\n",
      "tensor([[1.1774]], grad_fn=<AddmmBackward>)\n",
      "tensor([[1.1205]], grad_fn=<AddmmBackward>)\n",
      "tensor([[1.2561]], grad_fn=<AddmmBackward>)\n",
      "tensor([[1.2283]], grad_fn=<AddmmBackward>)\n",
      "tensor([[1.2767]], grad_fn=<AddmmBackward>)\n",
      "tensor([[1.1697]], grad_fn=<AddmmBackward>)\n",
      "tensor([[1.2231]], grad_fn=<AddmmBackward>)\n",
      "tensor([[1.1690]], grad_fn=<AddmmBackward>)\n",
      "tensor([[1.0234]], grad_fn=<AddmmBackward>)\n",
      "tensor([[1.0479]], grad_fn=<AddmmBackward>)\n",
      "tensor([[1.0296]], grad_fn=<AddmmBackward>)\n",
      "tensor([[0.9416]], grad_fn=<AddmmBackward>)\n",
      "tensor([[0.9832]], grad_fn=<AddmmBackward>)\n",
      "tensor([[0.9446]], grad_fn=<AddmmBackward>)\n",
      "tensor([[1.0052]], grad_fn=<AddmmBackward>)\n",
      "tensor([[0.8711]], grad_fn=<AddmmBackward>)\n"
     ]
    },
    {
     "name": "stderr",
     "output_type": "stream",
     "text": [
      "\n"
     ]
    }
   ],
   "source": [
    "torch.manual_seed(42)\n",
    "torch.cuda.manual_seed(42)\n",
    "np.random.seed(42)\n",
    "torch.backends.cudnn.deterministic=True\n",
    "d=predict(model_btc,test_loader,scaler)"
   ]
  },
  {
   "cell_type": "code",
   "execution_count": 173,
   "metadata": {},
   "outputs": [
    {
     "name": "stdout",
     "output_type": "stream",
     "text": [
      "time\n",
      "2021-06-17    2392.312335\n",
      "2021-06-18    2286.965577\n",
      "2021-06-19    2003.033702\n",
      "2021-06-20    2050.834958\n",
      "2021-06-21    2015.185835\n",
      "2021-06-22    1843.696802\n",
      "2021-06-23    1924.633796\n",
      "2021-06-24    1849.514117\n",
      "2021-06-25    1967.527955\n",
      "2021-06-26    1706.269876\n",
      "dtype: float64 time\n",
      "2021-06-17    2372.31\n",
      "2021-06-18    2233.57\n",
      "2021-06-19    2166.61\n",
      "2021-06-20    2243.60\n",
      "2021-06-21    1887.89\n",
      "2021-06-22    1880.83\n",
      "2021-06-23    1968.56\n",
      "2021-06-24    1989.01\n",
      "2021-06-25    1810.27\n",
      "2021-06-26    1830.94\n",
      "Name: close, dtype: float64\n"
     ]
    }
   ],
   "source": [
    "realprice=test_data[\"close\"]\n",
    "predictedprice = pd.Series(d, index=realprice.index)\n",
    "#df = df.append(series_obj, ignore_index=True)\n",
    "print(predictedprice[-10:],realprice[-10:])"
   ]
  },
  {
   "cell_type": "code",
   "execution_count": 177,
   "metadata": {},
   "outputs": [
    {
     "data": {
      "text/plain": [
       "0.08156807220712342"
      ]
     },
     "execution_count": 177,
     "metadata": {},
     "output_type": "execute_result"
    }
   ],
   "source": [
    "#calcul pourcentage d'erreur\n",
    "pourcentage_error(list(predictedprice),list(realprice))\n",
    "## notre pourcentage d'erreur est de 8% pour l'eth \n"
   ]
  },
  {
   "cell_type": "code",
   "execution_count": 178,
   "metadata": {},
   "outputs": [
    {
     "data": {
      "image/png": "[encoded data removed]",
      "text/plain": [
       "<Figure size 1008x504 with 1 Axes>"
      ]
     },
     "metadata": {
      "needs_background": "light"
     },
     "output_type": "display_data"
    }
   ],
   "source": [
    "#plot du prix reel et du prix prédit\n",
    "plot_curves([test_data['close'], predictedprice], ['actual price', 'predict price'], title='eth')"
   ]
  },
  {
   "cell_type": "code",
   "execution_count": 180,
   "metadata": {},
   "outputs": [],
   "source": [
    "#sauvgarder notre data set et notre scaler\n",
    "from pickle import dump\n",
    "from pickle import load\n",
    "#torch.save(model_btc,\"/home/jbouhadoun/esgi/exp/model/model_btc.pth\")\n",
    "#dump(scaler, open('/home/jbouhadoun/esgi/exp/model/btc_scaler.pkl', 'wb'))\n"
   ]
  },
  {
   "cell_type": "code",
   "execution_count": null,
   "metadata": {},
   "outputs": [],
   "source": []
  },
  {
   "cell_type": "code",
   "execution_count": null,
   "metadata": {},
   "outputs": [],
   "source": []
  }
 ],
 "metadata": {
  "kernelspec": {
   "display_name": "nlp",
   "language": "python",
   "name": "nlp"
  },
  "language_info": {
   "codemirror_mode": {
    "name": "ipython",
    "version": 3
   },
   "file_extension": ".py",
   "mimetype": "text/x-python",
   "name": "python",
   "nbconvert_exporter": "python",
   "pygments_lexer": "ipython3",
   "version": "3.8.5"
  }
 },
 "nbformat": 4,
 "nbformat_minor": 4
}
