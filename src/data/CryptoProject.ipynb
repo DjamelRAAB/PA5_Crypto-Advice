{
 "cells": [
  {
   "cell_type": "code",
   "execution_count": 32,
   "metadata": {},
   "outputs": [],
   "source": [
    "import pandas as pd\n",
    "import numpy as np\n",
    "import matplotlib.pyplot as plt\n",
    "from datetime import datetime \n",
    "from sklearn import preprocessing\n",
    "\n",
    "import torch\n",
    "import torch.nn as nn\n",
    "from torch.optim import Adam\n",
    "import torch.utils.data as data_utils \n",
    "\n",
    "import cryptocompare"
   ]
  },
  {
   "cell_type": "code",
   "execution_count": 33,
   "metadata": {},
   "outputs": [],
   "source": [
    "class NeuralNet(nn.Module):\n",
    "    def __init__(self, \n",
    "                 activation_function = nn.ReLU,\n",
    "                 optimizer = Adam,\n",
    "                 dropout = 0.2\n",
    "                ):\n",
    "        super(NeuralNet, self).__init__()\n",
    "        input_dim = 5\n",
    "        hidden_dim = 100\n",
    "        output_dim = 1\n",
    "        self.lstm = nn.LSTM(input_dim, hidden_dim)\n",
    "        self.layers =[nn.Dropout(p = dropout)]\n",
    "        self.layers.append(nn.Linear(hidden_dim, output_dim))\n",
    "        self.layers = nn.Sequential(*self.layers)\n",
    "\n",
    "\n",
    "    def forward(self, x):\n",
    "        out, _ = self.lstm(x.view(len(x), 1 , -1))\n",
    "        out = self.layers(out.view(len(x), -1))\n",
    "        return out"
   ]
  },
  {
   "cell_type": "code",
   "execution_count": 34,
   "metadata": {},
   "outputs": [
    {
     "data": {
      "text/html": [
       "<div>\n",
       "<style scoped>\n",
       "    .dataframe tbody tr th:only-of-type {\n",
       "        vertical-align: middle;\n",
       "    }\n",
       "\n",
       "    .dataframe tbody tr th {\n",
       "        vertical-align: top;\n",
       "    }\n",
       "\n",
       "    .dataframe thead th {\n",
       "        text-align: right;\n",
       "    }\n",
       "</style>\n",
       "<table border=\"1\" class=\"dataframe\">\n",
       "  <thead>\n",
       "    <tr style=\"text-align: right;\">\n",
       "      <th></th>\n",
       "      <th>high</th>\n",
       "      <th>low</th>\n",
       "      <th>open</th>\n",
       "      <th>volumefrom</th>\n",
       "      <th>volumeto</th>\n",
       "      <th>close</th>\n",
       "      <th>conversionType</th>\n",
       "      <th>conversionSymbol</th>\n",
       "    </tr>\n",
       "    <tr>\n",
       "      <th>time</th>\n",
       "      <th></th>\n",
       "      <th></th>\n",
       "      <th></th>\n",
       "      <th></th>\n",
       "      <th></th>\n",
       "      <th></th>\n",
       "      <th></th>\n",
       "      <th></th>\n",
       "    </tr>\n",
       "  </thead>\n",
       "  <tbody>\n",
       "    <tr>\n",
       "      <th>2015-11-10</th>\n",
       "      <td>354.07</td>\n",
       "      <td>304.66</td>\n",
       "      <td>352.13</td>\n",
       "      <td>18512.46</td>\n",
       "      <td>6167808.23</td>\n",
       "      <td>315.33</td>\n",
       "      <td>direct</td>\n",
       "      <td></td>\n",
       "    </tr>\n",
       "    <tr>\n",
       "      <th>2015-11-11</th>\n",
       "      <td>319.04</td>\n",
       "      <td>277.11</td>\n",
       "      <td>315.33</td>\n",
       "      <td>25162.20</td>\n",
       "      <td>7414887.02</td>\n",
       "      <td>286.21</td>\n",
       "      <td>direct</td>\n",
       "      <td></td>\n",
       "    </tr>\n",
       "    <tr>\n",
       "      <th>2015-11-12</th>\n",
       "      <td>322.89</td>\n",
       "      <td>285.20</td>\n",
       "      <td>286.21</td>\n",
       "      <td>16081.06</td>\n",
       "      <td>4951233.18</td>\n",
       "      <td>309.10</td>\n",
       "      <td>direct</td>\n",
       "      <td></td>\n",
       "    </tr>\n",
       "    <tr>\n",
       "      <th>2015-11-13</th>\n",
       "      <td>318.11</td>\n",
       "      <td>301.81</td>\n",
       "      <td>309.10</td>\n",
       "      <td>6918.45</td>\n",
       "      <td>2152774.19</td>\n",
       "      <td>312.61</td>\n",
       "      <td>direct</td>\n",
       "      <td></td>\n",
       "    </tr>\n",
       "    <tr>\n",
       "      <th>2015-11-14</th>\n",
       "      <td>315.94</td>\n",
       "      <td>305.17</td>\n",
       "      <td>312.61</td>\n",
       "      <td>4047.36</td>\n",
       "      <td>1254658.50</td>\n",
       "      <td>309.63</td>\n",
       "      <td>direct</td>\n",
       "      <td></td>\n",
       "    </tr>\n",
       "  </tbody>\n",
       "</table>\n",
       "</div>"
      ],
      "text/plain": [
       "              high     low    open  volumefrom    volumeto   close  \\\n",
       "time                                                                 \n",
       "2015-11-10  354.07  304.66  352.13    18512.46  6167808.23  315.33   \n",
       "2015-11-11  319.04  277.11  315.33    25162.20  7414887.02  286.21   \n",
       "2015-11-12  322.89  285.20  286.21    16081.06  4951233.18  309.10   \n",
       "2015-11-13  318.11  301.81  309.10     6918.45  2152774.19  312.61   \n",
       "2015-11-14  315.94  305.17  312.61     4047.36  1254658.50  309.63   \n",
       "\n",
       "           conversionType conversionSymbol  \n",
       "time                                        \n",
       "2015-11-10         direct                   \n",
       "2015-11-11         direct                   \n",
       "2015-11-12         direct                   \n",
       "2015-11-13         direct                   \n",
       "2015-11-14         direct                   "
      ]
     },
     "execution_count": 34,
     "metadata": {},
     "output_type": "execute_result"
    }
   ],
   "source": [
    "data = cryptocompare.get_historical_price_day('BTC', 'EUR', limit=2000, exchange='CCCAGG', toTs=datetime.now())\n",
    "df = pd.DataFrame.from_dict(data)\n",
    "df = df.set_index('time')\n",
    "df.index = pd.to_datetime(df.index, unit='s')\n",
    "\n",
    "df.head()\n"
   ]
  },
  {
   "cell_type": "code",
   "execution_count": 35,
   "metadata": {},
   "outputs": [
    {
     "data": {
      "text/html": [
       "<div>\n",
       "<style scoped>\n",
       "    .dataframe tbody tr th:only-of-type {\n",
       "        vertical-align: middle;\n",
       "    }\n",
       "\n",
       "    .dataframe tbody tr th {\n",
       "        vertical-align: top;\n",
       "    }\n",
       "\n",
       "    .dataframe thead th {\n",
       "        text-align: right;\n",
       "    }\n",
       "</style>\n",
       "<table border=\"1\" class=\"dataframe\">\n",
       "  <thead>\n",
       "    <tr style=\"text-align: right;\">\n",
       "      <th></th>\n",
       "      <th>high</th>\n",
       "      <th>low</th>\n",
       "      <th>open</th>\n",
       "      <th>volumefrom</th>\n",
       "      <th>volumeto</th>\n",
       "      <th>close</th>\n",
       "    </tr>\n",
       "    <tr>\n",
       "      <th>time</th>\n",
       "      <th></th>\n",
       "      <th></th>\n",
       "      <th></th>\n",
       "      <th></th>\n",
       "      <th></th>\n",
       "      <th></th>\n",
       "    </tr>\n",
       "  </thead>\n",
       "  <tbody>\n",
       "    <tr>\n",
       "      <th>2015-11-10</th>\n",
       "      <td>354.07</td>\n",
       "      <td>304.66</td>\n",
       "      <td>352.13</td>\n",
       "      <td>18512.46</td>\n",
       "      <td>6167808.23</td>\n",
       "      <td>315.33</td>\n",
       "    </tr>\n",
       "    <tr>\n",
       "      <th>2015-11-11</th>\n",
       "      <td>319.04</td>\n",
       "      <td>277.11</td>\n",
       "      <td>315.33</td>\n",
       "      <td>25162.20</td>\n",
       "      <td>7414887.02</td>\n",
       "      <td>286.21</td>\n",
       "    </tr>\n",
       "    <tr>\n",
       "      <th>2015-11-12</th>\n",
       "      <td>322.89</td>\n",
       "      <td>285.20</td>\n",
       "      <td>286.21</td>\n",
       "      <td>16081.06</td>\n",
       "      <td>4951233.18</td>\n",
       "      <td>309.10</td>\n",
       "    </tr>\n",
       "    <tr>\n",
       "      <th>2015-11-13</th>\n",
       "      <td>318.11</td>\n",
       "      <td>301.81</td>\n",
       "      <td>309.10</td>\n",
       "      <td>6918.45</td>\n",
       "      <td>2152774.19</td>\n",
       "      <td>312.61</td>\n",
       "    </tr>\n",
       "    <tr>\n",
       "      <th>2015-11-14</th>\n",
       "      <td>315.94</td>\n",
       "      <td>305.17</td>\n",
       "      <td>312.61</td>\n",
       "      <td>4047.36</td>\n",
       "      <td>1254658.50</td>\n",
       "      <td>309.63</td>\n",
       "    </tr>\n",
       "  </tbody>\n",
       "</table>\n",
       "</div>"
      ],
      "text/plain": [
       "              high     low    open  volumefrom    volumeto   close\n",
       "time                                                              \n",
       "2015-11-10  354.07  304.66  352.13    18512.46  6167808.23  315.33\n",
       "2015-11-11  319.04  277.11  315.33    25162.20  7414887.02  286.21\n",
       "2015-11-12  322.89  285.20  286.21    16081.06  4951233.18  309.10\n",
       "2015-11-13  318.11  301.81  309.10     6918.45  2152774.19  312.61\n",
       "2015-11-14  315.94  305.17  312.61     4047.36  1254658.50  309.63"
      ]
     },
     "execution_count": 35,
     "metadata": {},
     "output_type": "execute_result"
    }
   ],
   "source": [
    "df = df.iloc[:, :6]\n",
    "df.head()"
   ]
  },
  {
   "cell_type": "code",
   "execution_count": 36,
   "metadata": {},
   "outputs": [],
   "source": [
    "def split_data(data, train_prop=0.8):\n",
    "    train_data = df.iloc[:int(train_prop * len(data))]\n",
    "    test_data = df.iloc[int(train_prop * len(data)):]\n",
    "    return train_data, test_data\n",
    "\n",
    "train_data, test_data = split_data(df, train_prop=0.8)\n"
   ]
  },
  {
   "cell_type": "code",
   "execution_count": 37,
   "metadata": {},
   "outputs": [
    {
     "data": {
      "image/png": "[encoded data removed]",
      "text/plain": [
       "<Figure size 1008x504 with 1 Axes>"
      ]
     },
     "metadata": {
      "needs_background": "light"
     },
     "output_type": "display_data"
    }
   ],
   "source": [
    "\n",
    "def plot_curves(to_plot, labels, title='', x_label='', y_label=''):\n",
    "    fig, ax = plt.subplots(1, figsize=(14, 7))\n",
    "    for i in range(len(to_plot)):\n",
    "        ax.plot(to_plot[i], label=labels[i])\n",
    "    \n",
    "    ax.set_xlabel(x_label)\n",
    "    ax.set_ylabel(y_label)\n",
    "    ax.set_title(title)\n",
    "    ax.legend()\n",
    "plot_curves([train_data['close'], test_data['close']], ['training', 'test'], title='')"
   ]
  },
  {
   "cell_type": "code",
   "execution_count": 38,
   "metadata": {},
   "outputs": [],
   "source": [
    "def normalize_data(dataframe):\n",
    "    x = dataframe.values\n",
    "    min_max_scaler = preprocessing.MinMaxScaler()\n",
    "    x_scaled = min_max_scaler.fit_transform(x)\n",
    "    normalized_df = pd.DataFrame(x_scaled, columns = dataframe.columns)\n",
    "    return normalized_df\n",
    "\n",
    "def denormalize_data(real_df, normalized_df):\n",
    "    x = real_df.values\n",
    "    min_max_scaler = preprocessing.MinMaxScaler()\n",
    "    x_scaled = min_max_scaler.fit_transform(x)\n",
    "    new_x = x_scaled* (min_max_scaler.data_max_-min_max_scaler.data_min_) + min_max_scaler.data_min_\n",
    "    return pd.DataFrame(new_x, columns = df.columns)\n",
    "    \n",
    "\n",
    "    "
   ]
  },
  {
   "cell_type": "code",
   "execution_count": 39,
   "metadata": {},
   "outputs": [
    {
     "data": {
      "text/html": [
       "<div>\n",
       "<style scoped>\n",
       "    .dataframe tbody tr th:only-of-type {\n",
       "        vertical-align: middle;\n",
       "    }\n",
       "\n",
       "    .dataframe tbody tr th {\n",
       "        vertical-align: top;\n",
       "    }\n",
       "\n",
       "    .dataframe thead th {\n",
       "        text-align: right;\n",
       "    }\n",
       "</style>\n",
       "<table border=\"1\" class=\"dataframe\">\n",
       "  <thead>\n",
       "    <tr style=\"text-align: right;\">\n",
       "      <th></th>\n",
       "      <th>high</th>\n",
       "      <th>low</th>\n",
       "      <th>open</th>\n",
       "      <th>volumefrom</th>\n",
       "      <th>volumeto</th>\n",
       "      <th>close</th>\n",
       "    </tr>\n",
       "    <tr>\n",
       "      <th>time</th>\n",
       "      <th></th>\n",
       "      <th></th>\n",
       "      <th></th>\n",
       "      <th></th>\n",
       "      <th></th>\n",
       "      <th></th>\n",
       "    </tr>\n",
       "  </thead>\n",
       "  <tbody>\n",
       "    <tr>\n",
       "      <th>2015-11-10</th>\n",
       "      <td>354.07</td>\n",
       "      <td>304.66</td>\n",
       "      <td>352.13</td>\n",
       "      <td>18512.46</td>\n",
       "      <td>6167808.23</td>\n",
       "      <td>315.33</td>\n",
       "    </tr>\n",
       "    <tr>\n",
       "      <th>2015-11-11</th>\n",
       "      <td>319.04</td>\n",
       "      <td>277.11</td>\n",
       "      <td>315.33</td>\n",
       "      <td>25162.20</td>\n",
       "      <td>7414887.02</td>\n",
       "      <td>286.21</td>\n",
       "    </tr>\n",
       "    <tr>\n",
       "      <th>2015-11-12</th>\n",
       "      <td>322.89</td>\n",
       "      <td>285.20</td>\n",
       "      <td>286.21</td>\n",
       "      <td>16081.06</td>\n",
       "      <td>4951233.18</td>\n",
       "      <td>309.10</td>\n",
       "    </tr>\n",
       "    <tr>\n",
       "      <th>2015-11-13</th>\n",
       "      <td>318.11</td>\n",
       "      <td>301.81</td>\n",
       "      <td>309.10</td>\n",
       "      <td>6918.45</td>\n",
       "      <td>2152774.19</td>\n",
       "      <td>312.61</td>\n",
       "    </tr>\n",
       "    <tr>\n",
       "      <th>2015-11-14</th>\n",
       "      <td>315.94</td>\n",
       "      <td>305.17</td>\n",
       "      <td>312.61</td>\n",
       "      <td>4047.36</td>\n",
       "      <td>1254658.50</td>\n",
       "      <td>309.63</td>\n",
       "    </tr>\n",
       "  </tbody>\n",
       "</table>\n",
       "</div>"
      ],
      "text/plain": [
       "              high     low    open  volumefrom    volumeto   close\n",
       "time                                                              \n",
       "2015-11-10  354.07  304.66  352.13    18512.46  6167808.23  315.33\n",
       "2015-11-11  319.04  277.11  315.33    25162.20  7414887.02  286.21\n",
       "2015-11-12  322.89  285.20  286.21    16081.06  4951233.18  309.10\n",
       "2015-11-13  318.11  301.81  309.10     6918.45  2152774.19  312.61\n",
       "2015-11-14  315.94  305.17  312.61     4047.36  1254658.50  309.63"
      ]
     },
     "execution_count": 39,
     "metadata": {},
     "output_type": "execute_result"
    }
   ],
   "source": [
    "train_data.head()"
   ]
  },
  {
   "cell_type": "code",
   "execution_count": 40,
   "metadata": {},
   "outputs": [
    {
     "data": {
      "text/html": [
       "<div>\n",
       "<style scoped>\n",
       "    .dataframe tbody tr th:only-of-type {\n",
       "        vertical-align: middle;\n",
       "    }\n",
       "\n",
       "    .dataframe tbody tr th {\n",
       "        vertical-align: top;\n",
       "    }\n",
       "\n",
       "    .dataframe thead th {\n",
       "        text-align: right;\n",
       "    }\n",
       "</style>\n",
       "<table border=\"1\" class=\"dataframe\">\n",
       "  <thead>\n",
       "    <tr style=\"text-align: right;\">\n",
       "      <th></th>\n",
       "      <th>high</th>\n",
       "      <th>low</th>\n",
       "      <th>open</th>\n",
       "      <th>volumefrom</th>\n",
       "      <th>volumeto</th>\n",
       "      <th>close</th>\n",
       "    </tr>\n",
       "  </thead>\n",
       "  <tbody>\n",
       "    <tr>\n",
       "      <th>0</th>\n",
       "      <td>0.003004</td>\n",
       "      <td>0.001779</td>\n",
       "      <td>0.004097</td>\n",
       "      <td>0.161394</td>\n",
       "      <td>0.004066</td>\n",
       "      <td>0.001810</td>\n",
       "    </tr>\n",
       "    <tr>\n",
       "      <th>1</th>\n",
       "      <td>0.000863</td>\n",
       "      <td>0.000000</td>\n",
       "      <td>0.001810</td>\n",
       "      <td>0.226121</td>\n",
       "      <td>0.005061</td>\n",
       "      <td>0.000000</td>\n",
       "    </tr>\n",
       "    <tr>\n",
       "      <th>2</th>\n",
       "      <td>0.001099</td>\n",
       "      <td>0.000522</td>\n",
       "      <td>0.000000</td>\n",
       "      <td>0.137728</td>\n",
       "      <td>0.003095</td>\n",
       "      <td>0.001423</td>\n",
       "    </tr>\n",
       "    <tr>\n",
       "      <th>3</th>\n",
       "      <td>0.000807</td>\n",
       "      <td>0.001595</td>\n",
       "      <td>0.001423</td>\n",
       "      <td>0.048541</td>\n",
       "      <td>0.000863</td>\n",
       "      <td>0.001641</td>\n",
       "    </tr>\n",
       "    <tr>\n",
       "      <th>4</th>\n",
       "      <td>0.000674</td>\n",
       "      <td>0.001812</td>\n",
       "      <td>0.001641</td>\n",
       "      <td>0.020595</td>\n",
       "      <td>0.000146</td>\n",
       "      <td>0.001456</td>\n",
       "    </tr>\n",
       "  </tbody>\n",
       "</table>\n",
       "</div>"
      ],
      "text/plain": [
       "       high       low      open  volumefrom  volumeto     close\n",
       "0  0.003004  0.001779  0.004097    0.161394  0.004066  0.001810\n",
       "1  0.000863  0.000000  0.001810    0.226121  0.005061  0.000000\n",
       "2  0.001099  0.000522  0.000000    0.137728  0.003095  0.001423\n",
       "3  0.000807  0.001595  0.001423    0.048541  0.000863  0.001641\n",
       "4  0.000674  0.001812  0.001641    0.020595  0.000146  0.001456"
      ]
     },
     "execution_count": 40,
     "metadata": {},
     "output_type": "execute_result"
    }
   ],
   "source": [
    "train_normalized = normalize_data(train_data)\n",
    "train_normalized.head()"
   ]
  },
  {
   "cell_type": "code",
   "execution_count": 41,
   "metadata": {},
   "outputs": [
    {
     "data": {
      "text/html": [
       "<div>\n",
       "<style scoped>\n",
       "    .dataframe tbody tr th:only-of-type {\n",
       "        vertical-align: middle;\n",
       "    }\n",
       "\n",
       "    .dataframe tbody tr th {\n",
       "        vertical-align: top;\n",
       "    }\n",
       "\n",
       "    .dataframe thead th {\n",
       "        text-align: right;\n",
       "    }\n",
       "</style>\n",
       "<table border=\"1\" class=\"dataframe\">\n",
       "  <thead>\n",
       "    <tr style=\"text-align: right;\">\n",
       "      <th></th>\n",
       "      <th>high</th>\n",
       "      <th>low</th>\n",
       "      <th>open</th>\n",
       "      <th>volumefrom</th>\n",
       "      <th>volumeto</th>\n",
       "      <th>close</th>\n",
       "    </tr>\n",
       "  </thead>\n",
       "  <tbody>\n",
       "    <tr>\n",
       "      <th>0</th>\n",
       "      <td>354.07</td>\n",
       "      <td>304.66</td>\n",
       "      <td>352.13</td>\n",
       "      <td>18512.46</td>\n",
       "      <td>6167808.23</td>\n",
       "      <td>315.33</td>\n",
       "    </tr>\n",
       "    <tr>\n",
       "      <th>1</th>\n",
       "      <td>319.04</td>\n",
       "      <td>277.11</td>\n",
       "      <td>315.33</td>\n",
       "      <td>25162.20</td>\n",
       "      <td>7414887.02</td>\n",
       "      <td>286.21</td>\n",
       "    </tr>\n",
       "    <tr>\n",
       "      <th>2</th>\n",
       "      <td>322.89</td>\n",
       "      <td>285.20</td>\n",
       "      <td>286.21</td>\n",
       "      <td>16081.06</td>\n",
       "      <td>4951233.18</td>\n",
       "      <td>309.10</td>\n",
       "    </tr>\n",
       "    <tr>\n",
       "      <th>3</th>\n",
       "      <td>318.11</td>\n",
       "      <td>301.81</td>\n",
       "      <td>309.10</td>\n",
       "      <td>6918.45</td>\n",
       "      <td>2152774.19</td>\n",
       "      <td>312.61</td>\n",
       "    </tr>\n",
       "    <tr>\n",
       "      <th>4</th>\n",
       "      <td>315.94</td>\n",
       "      <td>305.17</td>\n",
       "      <td>312.61</td>\n",
       "      <td>4047.36</td>\n",
       "      <td>1254658.50</td>\n",
       "      <td>309.63</td>\n",
       "    </tr>\n",
       "  </tbody>\n",
       "</table>\n",
       "</div>"
      ],
      "text/plain": [
       "     high     low    open  volumefrom    volumeto   close\n",
       "0  354.07  304.66  352.13    18512.46  6167808.23  315.33\n",
       "1  319.04  277.11  315.33    25162.20  7414887.02  286.21\n",
       "2  322.89  285.20  286.21    16081.06  4951233.18  309.10\n",
       "3  318.11  301.81  309.10     6918.45  2152774.19  312.61\n",
       "4  315.94  305.17  312.61     4047.36  1254658.50  309.63"
      ]
     },
     "execution_count": 41,
     "metadata": {},
     "output_type": "execute_result"
    }
   ],
   "source": [
    "denormalize_data(train_data, train_normalized).head()"
   ]
  },
  {
   "cell_type": "code",
   "execution_count": 42,
   "metadata": {},
   "outputs": [],
   "source": [
    "train_target_tensor = torch.tensor(train_normalized['close'].values.astype(np.float64))\n",
    "train_data_tensor = torch.tensor(train_normalized.drop('close', axis = 1).values) \n",
    "train_tensor = data_utils.TensorDataset(train_data_tensor, train_target_tensor) \n",
    "train_loader = data_utils.DataLoader(dataset = train_tensor, batch_size = 32, shuffle = True)\n"
   ]
  },
  {
   "cell_type": "code",
   "execution_count": 43,
   "metadata": {},
   "outputs": [
    {
     "name": "stderr",
     "output_type": "stream",
     "text": [
      "0it [00:00, ?it/s]/home/jbouhadoun/anaconda3/envs/nlp/lib/python3.8/site-packages/torch/nn/modules/loss.py:528: UserWarning: Using a target size (torch.Size([1, 1])) that is different to the input size (torch.Size([])). This will likely lead to incorrect results due to broadcasting. Please ensure they have the same size.\n",
      "  return F.mse_loss(input, target, reduction=self.reduction)\n",
      "50it [00:01, 48.37it/s]\n",
      "5it [00:00, 48.43it/s]"
     ]
    },
    {
     "name": "stdout",
     "output_type": "stream",
     "text": [
      "Epoch  0 :  226.52152824401855\n"
     ]
    },
    {
     "name": "stderr",
     "output_type": "stream",
     "text": [
      "50it [00:01, 48.63it/s]\n",
      "5it [00:00, 49.03it/s]"
     ]
    },
    {
     "name": "stdout",
     "output_type": "stream",
     "text": [
      "Epoch  1 :  191.20968961715698\n"
     ]
    },
    {
     "name": "stderr",
     "output_type": "stream",
     "text": [
      "50it [00:00, 50.09it/s]\n",
      "6it [00:00, 50.46it/s]"
     ]
    },
    {
     "name": "stdout",
     "output_type": "stream",
     "text": [
      "Epoch  2 :  159.25230395793915\n"
     ]
    },
    {
     "name": "stderr",
     "output_type": "stream",
     "text": [
      "50it [00:01, 49.33it/s]\n",
      "5it [00:00, 46.33it/s]"
     ]
    },
    {
     "name": "stdout",
     "output_type": "stream",
     "text": [
      "Epoch  3 :  128.8826652765274\n"
     ]
    },
    {
     "name": "stderr",
     "output_type": "stream",
     "text": [
      "50it [00:01, 49.58it/s]\n",
      "5it [00:00, 43.87it/s]"
     ]
    },
    {
     "name": "stdout",
     "output_type": "stream",
     "text": [
      "Epoch  4 :  101.50862061977386\n"
     ]
    },
    {
     "name": "stderr",
     "output_type": "stream",
     "text": [
      "50it [00:01, 48.71it/s]\n",
      "5it [00:00, 49.22it/s]"
     ]
    },
    {
     "name": "stdout",
     "output_type": "stream",
     "text": [
      "Epoch  5 :  78.01999294757843\n"
     ]
    },
    {
     "name": "stderr",
     "output_type": "stream",
     "text": [
      "50it [00:01, 49.51it/s]\n",
      "5it [00:00, 49.99it/s]"
     ]
    },
    {
     "name": "stdout",
     "output_type": "stream",
     "text": [
      "Epoch  6 :  59.079518496990204\n"
     ]
    },
    {
     "name": "stderr",
     "output_type": "stream",
     "text": [
      "50it [00:01, 49.85it/s]\n",
      "5it [00:00, 48.93it/s]"
     ]
    },
    {
     "name": "stdout",
     "output_type": "stream",
     "text": [
      "Epoch  7 :  45.07774057984352\n"
     ]
    },
    {
     "name": "stderr",
     "output_type": "stream",
     "text": [
      "50it [00:01, 48.29it/s]\n",
      "5it [00:00, 49.43it/s]"
     ]
    },
    {
     "name": "stdout",
     "output_type": "stream",
     "text": [
      "Epoch  8 :  35.63831841945648\n"
     ]
    },
    {
     "name": "stderr",
     "output_type": "stream",
     "text": [
      "50it [00:00, 50.10it/s]\n",
      "5it [00:00, 48.13it/s]"
     ]
    },
    {
     "name": "stdout",
     "output_type": "stream",
     "text": [
      "Epoch  9 :  30.121492594480515\n"
     ]
    },
    {
     "name": "stderr",
     "output_type": "stream",
     "text": [
      "50it [00:01, 49.50it/s]\n",
      "5it [00:00, 49.54it/s]"
     ]
    },
    {
     "name": "stdout",
     "output_type": "stream",
     "text": [
      "Epoch  10 :  25.96685352921486\n"
     ]
    },
    {
     "name": "stderr",
     "output_type": "stream",
     "text": [
      "50it [00:01, 49.52it/s]\n",
      "5it [00:00, 47.84it/s]"
     ]
    },
    {
     "name": "stdout",
     "output_type": "stream",
     "text": [
      "Epoch  11 :  23.719286233186722\n"
     ]
    },
    {
     "name": "stderr",
     "output_type": "stream",
     "text": [
      "50it [00:01, 49.46it/s]\n",
      "5it [00:00, 50.00it/s]"
     ]
    },
    {
     "name": "stdout",
     "output_type": "stream",
     "text": [
      "Epoch  12 :  21.94456622004509\n"
     ]
    },
    {
     "name": "stderr",
     "output_type": "stream",
     "text": [
      "50it [00:00, 50.10it/s]\n",
      "5it [00:00, 47.23it/s]"
     ]
    },
    {
     "name": "stdout",
     "output_type": "stream",
     "text": [
      "Epoch  13 :  19.78970444202423\n"
     ]
    },
    {
     "name": "stderr",
     "output_type": "stream",
     "text": [
      "50it [00:00, 50.03it/s]\n",
      "5it [00:00, 48.09it/s]"
     ]
    },
    {
     "name": "stdout",
     "output_type": "stream",
     "text": [
      "Epoch  14 :  18.273293033242226\n"
     ]
    },
    {
     "name": "stderr",
     "output_type": "stream",
     "text": [
      "50it [00:00, 50.19it/s]\n",
      "5it [00:00, 49.29it/s]"
     ]
    },
    {
     "name": "stdout",
     "output_type": "stream",
     "text": [
      "Epoch  15 :  16.689379051327705\n"
     ]
    },
    {
     "name": "stderr",
     "output_type": "stream",
     "text": [
      "50it [00:01, 49.94it/s]\n",
      "5it [00:00, 48.23it/s]"
     ]
    },
    {
     "name": "stdout",
     "output_type": "stream",
     "text": [
      "Epoch  16 :  14.836921900510788\n"
     ]
    },
    {
     "name": "stderr",
     "output_type": "stream",
     "text": [
      "50it [00:00, 50.02it/s]\n",
      "5it [00:00, 48.60it/s]"
     ]
    },
    {
     "name": "stdout",
     "output_type": "stream",
     "text": [
      "Epoch  17 :  13.519907653331757\n"
     ]
    },
    {
     "name": "stderr",
     "output_type": "stream",
     "text": [
      "50it [00:00, 50.06it/s]\n",
      "5it [00:00, 48.13it/s]"
     ]
    },
    {
     "name": "stdout",
     "output_type": "stream",
     "text": [
      "Epoch  18 :  12.149517953395844\n"
     ]
    },
    {
     "name": "stderr",
     "output_type": "stream",
     "text": [
      "50it [00:00, 50.26it/s]\n",
      "5it [00:00, 49.38it/s]"
     ]
    },
    {
     "name": "stdout",
     "output_type": "stream",
     "text": [
      "Epoch  19 :  10.966824911534786\n"
     ]
    },
    {
     "name": "stderr",
     "output_type": "stream",
     "text": [
      "50it [00:00, 50.28it/s]\n",
      "6it [00:00, 50.48it/s]"
     ]
    },
    {
     "name": "stdout",
     "output_type": "stream",
     "text": [
      "Epoch  20 :  9.397314801812172\n"
     ]
    },
    {
     "name": "stderr",
     "output_type": "stream",
     "text": [
      "50it [00:01, 49.78it/s]\n",
      "5it [00:00, 45.97it/s]"
     ]
    },
    {
     "name": "stdout",
     "output_type": "stream",
     "text": [
      "Epoch  21 :  8.332859948277473\n"
     ]
    },
    {
     "name": "stderr",
     "output_type": "stream",
     "text": [
      "50it [00:01, 48.56it/s]\n",
      "5it [00:00, 48.38it/s]"
     ]
    },
    {
     "name": "stdout",
     "output_type": "stream",
     "text": [
      "Epoch  22 :  7.296455062925816\n"
     ]
    },
    {
     "name": "stderr",
     "output_type": "stream",
     "text": [
      "50it [00:01, 49.12it/s]\n",
      "5it [00:00, 49.18it/s]"
     ]
    },
    {
     "name": "stdout",
     "output_type": "stream",
     "text": [
      "Epoch  23 :  6.21964555978775\n"
     ]
    },
    {
     "name": "stderr",
     "output_type": "stream",
     "text": [
      "50it [00:01, 49.09it/s]\n",
      "5it [00:00, 47.48it/s]"
     ]
    },
    {
     "name": "stdout",
     "output_type": "stream",
     "text": [
      "Epoch  24 :  5.313509956002235\n"
     ]
    },
    {
     "name": "stderr",
     "output_type": "stream",
     "text": [
      "50it [00:01, 49.17it/s]\n",
      "5it [00:00, 47.43it/s]"
     ]
    },
    {
     "name": "stdout",
     "output_type": "stream",
     "text": [
      "Epoch  25 :  4.721532680094242\n"
     ]
    },
    {
     "name": "stderr",
     "output_type": "stream",
     "text": [
      "50it [00:00, 50.64it/s]\n",
      "6it [00:00, 50.60it/s]"
     ]
    },
    {
     "name": "stdout",
     "output_type": "stream",
     "text": [
      "Epoch  26 :  4.03903766348958\n"
     ]
    },
    {
     "name": "stderr",
     "output_type": "stream",
     "text": [
      "50it [00:01, 49.53it/s]\n",
      "6it [00:00, 50.35it/s]"
     ]
    },
    {
     "name": "stdout",
     "output_type": "stream",
     "text": [
      "Epoch  27 :  3.503773007541895\n"
     ]
    },
    {
     "name": "stderr",
     "output_type": "stream",
     "text": [
      "50it [00:00, 50.38it/s]\n",
      "5it [00:00, 48.56it/s]"
     ]
    },
    {
     "name": "stdout",
     "output_type": "stream",
     "text": [
      "Epoch  28 :  3.0472658686339855\n"
     ]
    },
    {
     "name": "stderr",
     "output_type": "stream",
     "text": [
      "50it [00:01, 49.81it/s]\n",
      "6it [00:00, 50.60it/s]"
     ]
    },
    {
     "name": "stdout",
     "output_type": "stream",
     "text": [
      "Epoch  29 :  2.8285881020128727\n"
     ]
    },
    {
     "name": "stderr",
     "output_type": "stream",
     "text": [
      "50it [00:01, 48.63it/s]\n",
      "5it [00:00, 44.04it/s]"
     ]
    },
    {
     "name": "stdout",
     "output_type": "stream",
     "text": [
      "Epoch  30 :  2.3729605693370104\n"
     ]
    },
    {
     "name": "stderr",
     "output_type": "stream",
     "text": [
      "50it [00:01, 49.12it/s]\n",
      "5it [00:00, 47.73it/s]"
     ]
    },
    {
     "name": "stdout",
     "output_type": "stream",
     "text": [
      "Epoch  31 :  2.4232489969581366\n"
     ]
    },
    {
     "name": "stderr",
     "output_type": "stream",
     "text": [
      "50it [00:01, 49.10it/s]\n",
      "5it [00:00, 49.44it/s]"
     ]
    },
    {
     "name": "stdout",
     "output_type": "stream",
     "text": [
      "Epoch  32 :  2.3625641111284494\n"
     ]
    },
    {
     "name": "stderr",
     "output_type": "stream",
     "text": [
      "50it [00:01, 49.47it/s]\n",
      "5it [00:00, 48.74it/s]"
     ]
    },
    {
     "name": "stdout",
     "output_type": "stream",
     "text": [
      "Epoch  33 :  2.042625860311091\n"
     ]
    },
    {
     "name": "stderr",
     "output_type": "stream",
     "text": [
      "50it [00:01, 49.66it/s]\n",
      "5it [00:00, 46.11it/s]"
     ]
    },
    {
     "name": "stdout",
     "output_type": "stream",
     "text": [
      "Epoch  34 :  1.827274201437831\n"
     ]
    },
    {
     "name": "stderr",
     "output_type": "stream",
     "text": [
      "50it [00:01, 49.00it/s]\n",
      "5it [00:00, 47.47it/s]"
     ]
    },
    {
     "name": "stdout",
     "output_type": "stream",
     "text": [
      "Epoch  35 :  1.6945314519107342\n"
     ]
    },
    {
     "name": "stderr",
     "output_type": "stream",
     "text": [
      "50it [00:01, 49.26it/s]\n",
      "5it [00:00, 48.32it/s]"
     ]
    },
    {
     "name": "stdout",
     "output_type": "stream",
     "text": [
      "Epoch  36 :  1.830508471466601\n"
     ]
    },
    {
     "name": "stderr",
     "output_type": "stream",
     "text": [
      "50it [00:01, 49.58it/s]\n",
      "5it [00:00, 48.46it/s]"
     ]
    },
    {
     "name": "stdout",
     "output_type": "stream",
     "text": [
      "Epoch  37 :  1.747026139870286\n"
     ]
    },
    {
     "name": "stderr",
     "output_type": "stream",
     "text": [
      "50it [00:01, 49.31it/s]\n",
      "5it [00:00, 49.79it/s]"
     ]
    },
    {
     "name": "stdout",
     "output_type": "stream",
     "text": [
      "Epoch  38 :  1.5290490901097655\n"
     ]
    },
    {
     "name": "stderr",
     "output_type": "stream",
     "text": [
      "50it [00:01, 49.98it/s]\n",
      "5it [00:00, 44.23it/s]"
     ]
    },
    {
     "name": "stdout",
     "output_type": "stream",
     "text": [
      "Epoch  39 :  1.5277908649295568\n"
     ]
    },
    {
     "name": "stderr",
     "output_type": "stream",
     "text": [
      "50it [00:01, 49.09it/s]\n",
      "5it [00:00, 46.31it/s]"
     ]
    },
    {
     "name": "stdout",
     "output_type": "stream",
     "text": [
      "Epoch  40 :  1.4973902814090252\n"
     ]
    },
    {
     "name": "stderr",
     "output_type": "stream",
     "text": [
      "50it [00:01, 48.23it/s]\n",
      "5it [00:00, 43.74it/s]"
     ]
    },
    {
     "name": "stdout",
     "output_type": "stream",
     "text": [
      "Epoch  41 :  1.4828677894547582\n"
     ]
    },
    {
     "name": "stderr",
     "output_type": "stream",
     "text": [
      "50it [00:01, 49.47it/s]\n",
      "6it [00:00, 50.71it/s]"
     ]
    },
    {
     "name": "stdout",
     "output_type": "stream",
     "text": [
      "Epoch  42 :  1.48485410772264\n"
     ]
    },
    {
     "name": "stderr",
     "output_type": "stream",
     "text": [
      "50it [00:01, 49.96it/s]\n",
      "5it [00:00, 48.57it/s]"
     ]
    },
    {
     "name": "stdout",
     "output_type": "stream",
     "text": [
      "Epoch  43 :  1.4727997183799744\n"
     ]
    },
    {
     "name": "stderr",
     "output_type": "stream",
     "text": [
      "50it [00:00, 50.25it/s]\n",
      "5it [00:00, 47.45it/s]"
     ]
    },
    {
     "name": "stdout",
     "output_type": "stream",
     "text": [
      "Epoch  44 :  1.3966019470244646\n"
     ]
    },
    {
     "name": "stderr",
     "output_type": "stream",
     "text": [
      "50it [00:00, 50.11it/s]\n",
      "5it [00:00, 49.76it/s]"
     ]
    },
    {
     "name": "stdout",
     "output_type": "stream",
     "text": [
      "Epoch  45 :  1.3311977023258805\n"
     ]
    },
    {
     "name": "stderr",
     "output_type": "stream",
     "text": [
      "50it [00:00, 50.37it/s]\n",
      "5it [00:00, 49.19it/s]"
     ]
    },
    {
     "name": "stdout",
     "output_type": "stream",
     "text": [
      "Epoch  46 :  1.470929958857596\n"
     ]
    },
    {
     "name": "stderr",
     "output_type": "stream",
     "text": [
      "50it [00:01, 49.84it/s]\n",
      "5it [00:00, 48.33it/s]"
     ]
    },
    {
     "name": "stdout",
     "output_type": "stream",
     "text": [
      "Epoch  47 :  1.3382502254098654\n"
     ]
    },
    {
     "name": "stderr",
     "output_type": "stream",
     "text": [
      "50it [00:01, 49.21it/s]\n",
      "5it [00:00, 47.40it/s]"
     ]
    },
    {
     "name": "stdout",
     "output_type": "stream",
     "text": [
      "Epoch  48 :  1.411564382724464\n"
     ]
    },
    {
     "name": "stderr",
     "output_type": "stream",
     "text": [
      "50it [00:01, 49.40it/s]\n",
      "5it [00:00, 49.79it/s]"
     ]
    },
    {
     "name": "stdout",
     "output_type": "stream",
     "text": [
      "Epoch  49 :  1.3357353955507278\n"
     ]
    },
    {
     "name": "stderr",
     "output_type": "stream",
     "text": [
      "50it [00:00, 50.63it/s]\n",
      "5it [00:00, 48.21it/s]"
     ]
    },
    {
     "name": "stdout",
     "output_type": "stream",
     "text": [
      "Epoch  50 :  1.2344321738928556\n"
     ]
    },
    {
     "name": "stderr",
     "output_type": "stream",
     "text": [
      "50it [00:01, 49.43it/s]\n",
      "5it [00:00, 49.48it/s]"
     ]
    },
    {
     "name": "stdout",
     "output_type": "stream",
     "text": [
      "Epoch  51 :  1.284815402701497\n"
     ]
    },
    {
     "name": "stderr",
     "output_type": "stream",
     "text": [
      "50it [00:01, 49.46it/s]\n",
      "5it [00:00, 48.75it/s]"
     ]
    },
    {
     "name": "stdout",
     "output_type": "stream",
     "text": [
      "Epoch  52 :  1.297712054103613\n"
     ]
    },
    {
     "name": "stderr",
     "output_type": "stream",
     "text": [
      "50it [00:01, 49.32it/s]\n",
      "5it [00:00, 48.19it/s]"
     ]
    },
    {
     "name": "stdout",
     "output_type": "stream",
     "text": [
      "Epoch  53 :  1.186412014067173\n"
     ]
    },
    {
     "name": "stderr",
     "output_type": "stream",
     "text": [
      "50it [00:01, 49.35it/s]\n",
      "5it [00:00, 49.12it/s]"
     ]
    },
    {
     "name": "stdout",
     "output_type": "stream",
     "text": [
      "Epoch  54 :  1.3216044278815389\n"
     ]
    },
    {
     "name": "stderr",
     "output_type": "stream",
     "text": [
      "50it [00:01, 49.05it/s]\n",
      "4it [00:00, 39.23it/s]"
     ]
    },
    {
     "name": "stdout",
     "output_type": "stream",
     "text": [
      "Epoch  55 :  1.2478672247380018\n"
     ]
    },
    {
     "name": "stderr",
     "output_type": "stream",
     "text": [
      "50it [00:01, 48.48it/s]\n",
      "5it [00:00, 47.75it/s]"
     ]
    },
    {
     "name": "stdout",
     "output_type": "stream",
     "text": [
      "Epoch  56 :  1.3229039460420609\n"
     ]
    },
    {
     "name": "stderr",
     "output_type": "stream",
     "text": [
      "50it [00:01, 48.92it/s]\n",
      "5it [00:00, 46.63it/s]"
     ]
    },
    {
     "name": "stdout",
     "output_type": "stream",
     "text": [
      "Epoch  57 :  1.2643255414441228\n"
     ]
    },
    {
     "name": "stderr",
     "output_type": "stream",
     "text": [
      "50it [00:01, 48.71it/s]\n",
      "5it [00:00, 45.10it/s]"
     ]
    },
    {
     "name": "stdout",
     "output_type": "stream",
     "text": [
      "Epoch  58 :  1.3551448285579681\n"
     ]
    },
    {
     "name": "stderr",
     "output_type": "stream",
     "text": [
      "50it [00:01, 48.51it/s]\n",
      "5it [00:00, 49.09it/s]"
     ]
    },
    {
     "name": "stdout",
     "output_type": "stream",
     "text": [
      "Epoch  59 :  1.1607281658798456\n"
     ]
    },
    {
     "name": "stderr",
     "output_type": "stream",
     "text": [
      "50it [00:00, 50.18it/s]\n",
      "5it [00:00, 47.65it/s]"
     ]
    },
    {
     "name": "stdout",
     "output_type": "stream",
     "text": [
      "Epoch  60 :  1.20278044603765\n"
     ]
    },
    {
     "name": "stderr",
     "output_type": "stream",
     "text": [
      "50it [00:01, 47.24it/s]\n",
      "6it [00:00, 50.40it/s]"
     ]
    },
    {
     "name": "stdout",
     "output_type": "stream",
     "text": [
      "Epoch  61 :  1.2451204424723983\n"
     ]
    },
    {
     "name": "stderr",
     "output_type": "stream",
     "text": [
      "50it [00:00, 50.57it/s]\n",
      "5it [00:00, 49.18it/s]"
     ]
    },
    {
     "name": "stdout",
     "output_type": "stream",
     "text": [
      "Epoch  62 :  1.1570884063839912\n"
     ]
    },
    {
     "name": "stderr",
     "output_type": "stream",
     "text": [
      "50it [00:00, 50.05it/s]\n",
      "5it [00:00, 47.02it/s]"
     ]
    },
    {
     "name": "stdout",
     "output_type": "stream",
     "text": [
      "Epoch  63 :  1.1805405989289284\n"
     ]
    },
    {
     "name": "stderr",
     "output_type": "stream",
     "text": [
      "50it [00:00, 50.11it/s]\n",
      "5it [00:00, 49.97it/s]"
     ]
    },
    {
     "name": "stdout",
     "output_type": "stream",
     "text": [
      "Epoch  64 :  1.1269163955003023\n"
     ]
    },
    {
     "name": "stderr",
     "output_type": "stream",
     "text": [
      "50it [00:00, 50.50it/s]\n",
      "5it [00:00, 49.53it/s]"
     ]
    },
    {
     "name": "stdout",
     "output_type": "stream",
     "text": [
      "Epoch  65 :  1.07494329335168\n"
     ]
    },
    {
     "name": "stderr",
     "output_type": "stream",
     "text": [
      "50it [00:01, 49.20it/s]\n",
      "5it [00:00, 49.63it/s]"
     ]
    },
    {
     "name": "stdout",
     "output_type": "stream",
     "text": [
      "Epoch  66 :  1.2537825470790267\n"
     ]
    },
    {
     "name": "stderr",
     "output_type": "stream",
     "text": [
      "50it [00:01, 49.41it/s]\n",
      "5it [00:00, 47.88it/s]"
     ]
    },
    {
     "name": "stdout",
     "output_type": "stream",
     "text": [
      "Epoch  67 :  1.093986514955759\n"
     ]
    },
    {
     "name": "stderr",
     "output_type": "stream",
     "text": [
      "50it [00:01, 49.59it/s]\n",
      "5it [00:00, 48.08it/s]"
     ]
    },
    {
     "name": "stdout",
     "output_type": "stream",
     "text": [
      "Epoch  68 :  1.1138027012348175\n"
     ]
    },
    {
     "name": "stderr",
     "output_type": "stream",
     "text": [
      "50it [00:01, 49.44it/s]\n",
      "5it [00:00, 47.14it/s]"
     ]
    },
    {
     "name": "stdout",
     "output_type": "stream",
     "text": [
      "Epoch  69 :  1.17426732275635\n"
     ]
    },
    {
     "name": "stderr",
     "output_type": "stream",
     "text": [
      "50it [00:01, 48.15it/s]\n",
      "5it [00:00, 44.56it/s]"
     ]
    },
    {
     "name": "stdout",
     "output_type": "stream",
     "text": [
      "Epoch  70 :  1.2121165385469794\n"
     ]
    },
    {
     "name": "stderr",
     "output_type": "stream",
     "text": [
      "50it [00:01, 49.23it/s]\n",
      "5it [00:00, 49.18it/s]"
     ]
    },
    {
     "name": "stdout",
     "output_type": "stream",
     "text": [
      "Epoch  71 :  1.1824163626879454\n"
     ]
    },
    {
     "name": "stderr",
     "output_type": "stream",
     "text": [
      "50it [00:01, 49.88it/s]\n",
      "5it [00:00, 49.86it/s]"
     ]
    },
    {
     "name": "stdout",
     "output_type": "stream",
     "text": [
      "Epoch  72 :  1.1634836634621024\n"
     ]
    },
    {
     "name": "stderr",
     "output_type": "stream",
     "text": [
      "50it [00:01, 49.47it/s]\n",
      "5it [00:00, 49.24it/s]"
     ]
    },
    {
     "name": "stdout",
     "output_type": "stream",
     "text": [
      "Epoch  73 :  1.1207101503387094\n"
     ]
    },
    {
     "name": "stderr",
     "output_type": "stream",
     "text": [
      "50it [00:01, 49.45it/s]\n",
      "5it [00:00, 49.05it/s]"
     ]
    },
    {
     "name": "stdout",
     "output_type": "stream",
     "text": [
      "Epoch  74 :  1.224992339964956\n"
     ]
    },
    {
     "name": "stderr",
     "output_type": "stream",
     "text": [
      "50it [00:01, 49.69it/s]\n",
      "5it [00:00, 49.52it/s]"
     ]
    },
    {
     "name": "stdout",
     "output_type": "stream",
     "text": [
      "Epoch  75 :  1.1323181968182325\n"
     ]
    },
    {
     "name": "stderr",
     "output_type": "stream",
     "text": [
      "50it [00:01, 49.71it/s]\n",
      "5it [00:00, 48.96it/s]"
     ]
    },
    {
     "name": "stdout",
     "output_type": "stream",
     "text": [
      "Epoch  76 :  1.0522268619388342\n"
     ]
    },
    {
     "name": "stderr",
     "output_type": "stream",
     "text": [
      "50it [00:01, 49.82it/s]\n",
      "5it [00:00, 49.01it/s]"
     ]
    },
    {
     "name": "stdout",
     "output_type": "stream",
     "text": [
      "Epoch  77 :  1.1429095650091767\n"
     ]
    },
    {
     "name": "stderr",
     "output_type": "stream",
     "text": [
      "50it [00:01, 49.84it/s]\n",
      "5it [00:00, 49.80it/s]"
     ]
    },
    {
     "name": "stdout",
     "output_type": "stream",
     "text": [
      "Epoch  78 :  1.1145227989181876\n"
     ]
    },
    {
     "name": "stderr",
     "output_type": "stream",
     "text": [
      "50it [00:01, 49.46it/s]\n",
      "5it [00:00, 46.17it/s]"
     ]
    },
    {
     "name": "stdout",
     "output_type": "stream",
     "text": [
      "Epoch  79 :  0.9725634921342134\n"
     ]
    },
    {
     "name": "stderr",
     "output_type": "stream",
     "text": [
      "50it [00:01, 49.21it/s]\n",
      "5it [00:00, 44.52it/s]"
     ]
    },
    {
     "name": "stdout",
     "output_type": "stream",
     "text": [
      "Epoch  80 :  1.0904105715453625\n"
     ]
    },
    {
     "name": "stderr",
     "output_type": "stream",
     "text": [
      "50it [00:01, 49.41it/s]\n",
      "5it [00:00, 49.23it/s]"
     ]
    },
    {
     "name": "stdout",
     "output_type": "stream",
     "text": [
      "Epoch  81 :  1.0655667250975966\n"
     ]
    },
    {
     "name": "stderr",
     "output_type": "stream",
     "text": [
      "50it [00:01, 49.51it/s]\n",
      "5it [00:00, 47.78it/s]"
     ]
    },
    {
     "name": "stdout",
     "output_type": "stream",
     "text": [
      "Epoch  82 :  1.0022759353742003\n"
     ]
    },
    {
     "name": "stderr",
     "output_type": "stream",
     "text": [
      "50it [00:01, 49.59it/s]\n",
      "5it [00:00, 48.64it/s]"
     ]
    },
    {
     "name": "stdout",
     "output_type": "stream",
     "text": [
      "Epoch  83 :  1.196738968603313\n"
     ]
    },
    {
     "name": "stderr",
     "output_type": "stream",
     "text": [
      "50it [00:01, 49.38it/s]\n",
      "5it [00:00, 49.28it/s]"
     ]
    },
    {
     "name": "stdout",
     "output_type": "stream",
     "text": [
      "Epoch  84 :  1.1066051116213202\n"
     ]
    },
    {
     "name": "stderr",
     "output_type": "stream",
     "text": [
      "50it [00:00, 50.09it/s]\n",
      "5it [00:00, 49.99it/s]"
     ]
    },
    {
     "name": "stdout",
     "output_type": "stream",
     "text": [
      "Epoch  85 :  0.9947033212520182\n"
     ]
    },
    {
     "name": "stderr",
     "output_type": "stream",
     "text": [
      "50it [00:00, 50.13it/s]\n",
      "5it [00:00, 49.49it/s]"
     ]
    },
    {
     "name": "stdout",
     "output_type": "stream",
     "text": [
      "Epoch  86 :  1.1591862780041993\n"
     ]
    },
    {
     "name": "stderr",
     "output_type": "stream",
     "text": [
      "50it [00:01, 49.35it/s]\n",
      "5it [00:00, 49.17it/s]"
     ]
    },
    {
     "name": "stdout",
     "output_type": "stream",
     "text": [
      "Epoch  87 :  1.062429147772491\n"
     ]
    },
    {
     "name": "stderr",
     "output_type": "stream",
     "text": [
      "50it [00:01, 49.21it/s]\n",
      "5it [00:00, 46.67it/s]"
     ]
    },
    {
     "name": "stdout",
     "output_type": "stream",
     "text": [
      "Epoch  88 :  0.9754430959001184\n"
     ]
    },
    {
     "name": "stderr",
     "output_type": "stream",
     "text": [
      "50it [00:01, 49.60it/s]\n",
      "6it [00:00, 50.57it/s]"
     ]
    },
    {
     "name": "stdout",
     "output_type": "stream",
     "text": [
      "Epoch  89 :  1.0416073352098465\n"
     ]
    },
    {
     "name": "stderr",
     "output_type": "stream",
     "text": [
      "50it [00:00, 50.36it/s]\n",
      "6it [00:00, 50.55it/s]"
     ]
    },
    {
     "name": "stdout",
     "output_type": "stream",
     "text": [
      "Epoch  90 :  1.034252523444593\n"
     ]
    },
    {
     "name": "stderr",
     "output_type": "stream",
     "text": [
      "50it [00:00, 50.42it/s]\n",
      "5it [00:00, 49.27it/s]"
     ]
    },
    {
     "name": "stdout",
     "output_type": "stream",
     "text": [
      "Epoch  91 :  1.0384650365449488\n"
     ]
    },
    {
     "name": "stderr",
     "output_type": "stream",
     "text": [
      "50it [00:00, 50.12it/s]\n",
      "5it [00:00, 49.54it/s]"
     ]
    },
    {
     "name": "stdout",
     "output_type": "stream",
     "text": [
      "Epoch  92 :  0.983826638199389\n"
     ]
    },
    {
     "name": "stderr",
     "output_type": "stream",
     "text": [
      "50it [00:01, 49.85it/s]\n",
      "6it [00:00, 50.97it/s]"
     ]
    },
    {
     "name": "stdout",
     "output_type": "stream",
     "text": [
      "Epoch  93 :  1.0810855189338326\n"
     ]
    },
    {
     "name": "stderr",
     "output_type": "stream",
     "text": [
      "50it [00:00, 50.07it/s]\n",
      "5it [00:00, 48.23it/s]"
     ]
    },
    {
     "name": "stdout",
     "output_type": "stream",
     "text": [
      "Epoch  94 :  1.0033685564994812\n"
     ]
    },
    {
     "name": "stderr",
     "output_type": "stream",
     "text": [
      "50it [00:01, 49.88it/s]\n",
      "6it [00:00, 50.81it/s]"
     ]
    },
    {
     "name": "stdout",
     "output_type": "stream",
     "text": [
      "Epoch  95 :  0.9644667506217957\n"
     ]
    },
    {
     "name": "stderr",
     "output_type": "stream",
     "text": [
      "50it [00:00, 50.02it/s]\n",
      "5it [00:00, 43.66it/s]"
     ]
    },
    {
     "name": "stdout",
     "output_type": "stream",
     "text": [
      "Epoch  96 :  0.9952208772301674\n"
     ]
    },
    {
     "name": "stderr",
     "output_type": "stream",
     "text": [
      "50it [00:01, 48.15it/s]\n",
      "5it [00:00, 49.83it/s]"
     ]
    },
    {
     "name": "stdout",
     "output_type": "stream",
     "text": [
      "Epoch  97 :  0.9563701115548611\n"
     ]
    },
    {
     "name": "stderr",
     "output_type": "stream",
     "text": [
      "50it [00:00, 50.01it/s]\n",
      "5it [00:00, 43.30it/s]"
     ]
    },
    {
     "name": "stdout",
     "output_type": "stream",
     "text": [
      "Epoch  98 :  0.9917808859609067\n"
     ]
    },
    {
     "name": "stderr",
     "output_type": "stream",
     "text": [
      "50it [00:01, 49.43it/s]\n",
      "5it [00:00, 49.21it/s]"
     ]
    },
    {
     "name": "stdout",
     "output_type": "stream",
     "text": [
      "Epoch  99 :  0.9803549405187368\n"
     ]
    },
    {
     "name": "stderr",
     "output_type": "stream",
     "text": [
      "50it [00:01, 49.81it/s]\n",
      "6it [00:00, 50.36it/s]"
     ]
    },
    {
     "name": "stdout",
     "output_type": "stream",
     "text": [
      "Epoch  100 :  0.9703003810718656\n"
     ]
    },
    {
     "name": "stderr",
     "output_type": "stream",
     "text": [
      "50it [00:00, 50.19it/s]\n",
      "5it [00:00, 43.10it/s]"
     ]
    },
    {
     "name": "stdout",
     "output_type": "stream",
     "text": [
      "Epoch  101 :  0.9943444617092609\n"
     ]
    },
    {
     "name": "stderr",
     "output_type": "stream",
     "text": [
      "50it [00:01, 48.58it/s]\n",
      "5it [00:00, 48.87it/s]"
     ]
    },
    {
     "name": "stdout",
     "output_type": "stream",
     "text": [
      "Epoch  102 :  0.994350400287658\n"
     ]
    },
    {
     "name": "stderr",
     "output_type": "stream",
     "text": [
      "50it [00:01, 49.58it/s]\n",
      "5it [00:00, 49.82it/s]"
     ]
    },
    {
     "name": "stdout",
     "output_type": "stream",
     "text": [
      "Epoch  103 :  0.938644596375525\n"
     ]
    },
    {
     "name": "stderr",
     "output_type": "stream",
     "text": [
      "50it [00:00, 50.56it/s]\n",
      "6it [00:00, 49.91it/s]"
     ]
    },
    {
     "name": "stdout",
     "output_type": "stream",
     "text": [
      "Epoch  104 :  0.9195931176654994\n"
     ]
    },
    {
     "name": "stderr",
     "output_type": "stream",
     "text": [
      "50it [00:00, 50.10it/s]\n",
      "5it [00:00, 47.03it/s]"
     ]
    },
    {
     "name": "stdout",
     "output_type": "stream",
     "text": [
      "Epoch  105 :  0.8976736683398485\n"
     ]
    },
    {
     "name": "stderr",
     "output_type": "stream",
     "text": [
      "50it [00:01, 49.89it/s]\n",
      "6it [00:00, 50.74it/s]"
     ]
    },
    {
     "name": "stdout",
     "output_type": "stream",
     "text": [
      "Epoch  106 :  0.934625600464642\n"
     ]
    },
    {
     "name": "stderr",
     "output_type": "stream",
     "text": [
      "50it [00:01, 49.76it/s]\n",
      "6it [00:00, 50.30it/s]"
     ]
    },
    {
     "name": "stdout",
     "output_type": "stream",
     "text": [
      "Epoch  107 :  0.9533915976062417\n"
     ]
    },
    {
     "name": "stderr",
     "output_type": "stream",
     "text": [
      "50it [00:01, 49.94it/s]\n",
      "5it [00:00, 49.06it/s]"
     ]
    },
    {
     "name": "stdout",
     "output_type": "stream",
     "text": [
      "Epoch  108 :  0.9410846615210176\n"
     ]
    },
    {
     "name": "stderr",
     "output_type": "stream",
     "text": [
      "50it [00:00, 50.08it/s]\n",
      "6it [00:00, 50.16it/s]"
     ]
    },
    {
     "name": "stdout",
     "output_type": "stream",
     "text": [
      "Epoch  109 :  0.9493259778246284\n"
     ]
    },
    {
     "name": "stderr",
     "output_type": "stream",
     "text": [
      "50it [00:00, 50.26it/s]\n",
      "5it [00:00, 43.82it/s]"
     ]
    },
    {
     "name": "stdout",
     "output_type": "stream",
     "text": [
      "Epoch  110 :  0.8982426491566002\n"
     ]
    },
    {
     "name": "stderr",
     "output_type": "stream",
     "text": [
      "50it [00:01, 49.35it/s]\n",
      "5it [00:00, 48.09it/s]"
     ]
    },
    {
     "name": "stdout",
     "output_type": "stream",
     "text": [
      "Epoch  111 :  0.8695171331055462\n"
     ]
    },
    {
     "name": "stderr",
     "output_type": "stream",
     "text": [
      "50it [00:01, 49.44it/s]\n",
      "5it [00:00, 46.49it/s]"
     ]
    },
    {
     "name": "stdout",
     "output_type": "stream",
     "text": [
      "Epoch  112 :  0.9520315346308053\n"
     ]
    },
    {
     "name": "stderr",
     "output_type": "stream",
     "text": [
      "50it [00:01, 48.97it/s]\n",
      "5it [00:00, 48.31it/s]"
     ]
    },
    {
     "name": "stdout",
     "output_type": "stream",
     "text": [
      "Epoch  113 :  0.809911176096648\n"
     ]
    },
    {
     "name": "stderr",
     "output_type": "stream",
     "text": [
      "50it [00:01, 49.73it/s]\n",
      "5it [00:00, 49.93it/s]"
     ]
    },
    {
     "name": "stdout",
     "output_type": "stream",
     "text": [
      "Epoch  114 :  0.9491686248220503\n"
     ]
    },
    {
     "name": "stderr",
     "output_type": "stream",
     "text": [
      "50it [00:00, 50.33it/s]\n",
      "5it [00:00, 49.42it/s]"
     ]
    },
    {
     "name": "stdout",
     "output_type": "stream",
     "text": [
      "Epoch  115 :  0.8831863729283214\n"
     ]
    },
    {
     "name": "stderr",
     "output_type": "stream",
     "text": [
      "50it [00:00, 50.31it/s]\n",
      "6it [00:00, 50.52it/s]"
     ]
    },
    {
     "name": "stdout",
     "output_type": "stream",
     "text": [
      "Epoch  116 :  0.8557540704496205\n"
     ]
    },
    {
     "name": "stderr",
     "output_type": "stream",
     "text": [
      "50it [00:00, 50.33it/s]\n",
      "5it [00:00, 47.05it/s]"
     ]
    },
    {
     "name": "stdout",
     "output_type": "stream",
     "text": [
      "Epoch  117 :  0.9555254555307329\n"
     ]
    },
    {
     "name": "stderr",
     "output_type": "stream",
     "text": [
      "50it [00:01, 49.59it/s]\n",
      "5it [00:00, 48.94it/s]"
     ]
    },
    {
     "name": "stdout",
     "output_type": "stream",
     "text": [
      "Epoch  118 :  0.9222695068456233\n"
     ]
    },
    {
     "name": "stderr",
     "output_type": "stream",
     "text": [
      "50it [00:00, 50.57it/s]\n",
      "5it [00:00, 48.76it/s]"
     ]
    },
    {
     "name": "stdout",
     "output_type": "stream",
     "text": [
      "Epoch  119 :  0.9474811912514269\n"
     ]
    },
    {
     "name": "stderr",
     "output_type": "stream",
     "text": [
      "50it [00:00, 50.16it/s]\n",
      "5it [00:00, 48.58it/s]"
     ]
    },
    {
     "name": "stdout",
     "output_type": "stream",
     "text": [
      "Epoch  120 :  0.8457196885719895\n"
     ]
    },
    {
     "name": "stderr",
     "output_type": "stream",
     "text": [
      "50it [00:00, 50.42it/s]\n",
      "5it [00:00, 49.35it/s]"
     ]
    },
    {
     "name": "stdout",
     "output_type": "stream",
     "text": [
      "Epoch  121 :  0.9873150181956589\n"
     ]
    },
    {
     "name": "stderr",
     "output_type": "stream",
     "text": [
      "50it [00:01, 49.10it/s]\n",
      "5it [00:00, 48.86it/s]"
     ]
    },
    {
     "name": "stdout",
     "output_type": "stream",
     "text": [
      "Epoch  122 :  0.8937028651125729\n"
     ]
    },
    {
     "name": "stderr",
     "output_type": "stream",
     "text": [
      "50it [00:00, 50.10it/s]\n",
      "5it [00:00, 49.34it/s]"
     ]
    },
    {
     "name": "stdout",
     "output_type": "stream",
     "text": [
      "Epoch  123 :  0.7973087434656918\n"
     ]
    },
    {
     "name": "stderr",
     "output_type": "stream",
     "text": [
      "50it [00:00, 50.39it/s]\n",
      "5it [00:00, 49.79it/s]"
     ]
    },
    {
     "name": "stdout",
     "output_type": "stream",
     "text": [
      "Epoch  124 :  0.7909450470469892\n"
     ]
    },
    {
     "name": "stderr",
     "output_type": "stream",
     "text": [
      "50it [00:00, 50.04it/s]\n",
      "5it [00:00, 42.85it/s]"
     ]
    },
    {
     "name": "stdout",
     "output_type": "stream",
     "text": [
      "Epoch  125 :  0.8640725300647318\n"
     ]
    },
    {
     "name": "stderr",
     "output_type": "stream",
     "text": [
      "50it [00:01, 49.39it/s]\n",
      "5it [00:00, 45.32it/s]"
     ]
    },
    {
     "name": "stdout",
     "output_type": "stream",
     "text": [
      "Epoch  126 :  0.7878418425098062\n"
     ]
    },
    {
     "name": "stderr",
     "output_type": "stream",
     "text": [
      "50it [00:01, 48.18it/s]\n",
      "4it [00:00, 38.69it/s]"
     ]
    },
    {
     "name": "stdout",
     "output_type": "stream",
     "text": [
      "Epoch  127 :  0.776277722325176\n"
     ]
    },
    {
     "name": "stderr",
     "output_type": "stream",
     "text": [
      "50it [00:01, 45.90it/s]\n",
      "5it [00:00, 49.16it/s]"
     ]
    },
    {
     "name": "stdout",
     "output_type": "stream",
     "text": [
      "Epoch  128 :  0.9000073932111263\n"
     ]
    },
    {
     "name": "stderr",
     "output_type": "stream",
     "text": [
      "50it [00:01, 48.93it/s]\n",
      "6it [00:00, 50.61it/s]"
     ]
    },
    {
     "name": "stdout",
     "output_type": "stream",
     "text": [
      "Epoch  129 :  0.7739981766790152\n"
     ]
    },
    {
     "name": "stderr",
     "output_type": "stream",
     "text": [
      "50it [00:00, 50.29it/s]\n",
      "6it [00:00, 50.19it/s]"
     ]
    },
    {
     "name": "stdout",
     "output_type": "stream",
     "text": [
      "Epoch  130 :  0.875819880515337\n"
     ]
    },
    {
     "name": "stderr",
     "output_type": "stream",
     "text": [
      "50it [00:00, 50.72it/s]\n",
      "5it [00:00, 48.79it/s]"
     ]
    },
    {
     "name": "stdout",
     "output_type": "stream",
     "text": [
      "Epoch  131 :  0.8985183350741863\n"
     ]
    },
    {
     "name": "stderr",
     "output_type": "stream",
     "text": [
      "50it [00:00, 50.39it/s]\n",
      "5it [00:00, 48.91it/s]"
     ]
    },
    {
     "name": "stdout",
     "output_type": "stream",
     "text": [
      "Epoch  132 :  0.8440468218177557\n"
     ]
    },
    {
     "name": "stderr",
     "output_type": "stream",
     "text": [
      "50it [00:00, 50.38it/s]\n",
      "5it [00:00, 49.45it/s]"
     ]
    },
    {
     "name": "stdout",
     "output_type": "stream",
     "text": [
      "Epoch  133 :  0.8699459973722696\n"
     ]
    },
    {
     "name": "stderr",
     "output_type": "stream",
     "text": [
      "50it [00:00, 50.25it/s]\n",
      "5it [00:00, 49.90it/s]"
     ]
    },
    {
     "name": "stdout",
     "output_type": "stream",
     "text": [
      "Epoch  134 :  0.8435612563043833\n"
     ]
    },
    {
     "name": "stderr",
     "output_type": "stream",
     "text": [
      "50it [00:01, 47.66it/s]\n",
      "5it [00:00, 48.36it/s]"
     ]
    },
    {
     "name": "stdout",
     "output_type": "stream",
     "text": [
      "Epoch  135 :  0.8333730213344097\n"
     ]
    },
    {
     "name": "stderr",
     "output_type": "stream",
     "text": [
      "50it [00:01, 49.90it/s]\n",
      "5it [00:00, 49.04it/s]"
     ]
    },
    {
     "name": "stdout",
     "output_type": "stream",
     "text": [
      "Epoch  136 :  0.7603533370420337\n"
     ]
    },
    {
     "name": "stderr",
     "output_type": "stream",
     "text": [
      "50it [00:01, 49.17it/s]\n",
      "6it [00:00, 50.45it/s]"
     ]
    },
    {
     "name": "stdout",
     "output_type": "stream",
     "text": [
      "Epoch  137 :  0.8298355676233768\n"
     ]
    },
    {
     "name": "stderr",
     "output_type": "stream",
     "text": [
      "50it [00:01, 49.57it/s]\n",
      "5it [00:00, 48.45it/s]"
     ]
    },
    {
     "name": "stdout",
     "output_type": "stream",
     "text": [
      "Epoch  138 :  0.7969932914711535\n"
     ]
    },
    {
     "name": "stderr",
     "output_type": "stream",
     "text": [
      "50it [00:01, 49.97it/s]\n",
      "5it [00:00, 46.81it/s]"
     ]
    },
    {
     "name": "stdout",
     "output_type": "stream",
     "text": [
      "Epoch  139 :  0.8542603310197592\n"
     ]
    },
    {
     "name": "stderr",
     "output_type": "stream",
     "text": [
      "50it [00:01, 49.35it/s]\n",
      "5it [00:00, 49.37it/s]"
     ]
    },
    {
     "name": "stdout",
     "output_type": "stream",
     "text": [
      "Epoch  140 :  0.7525010923855007\n"
     ]
    },
    {
     "name": "stderr",
     "output_type": "stream",
     "text": [
      "50it [00:01, 49.16it/s]\n",
      "5it [00:00, 49.41it/s]"
     ]
    },
    {
     "name": "stdout",
     "output_type": "stream",
     "text": [
      "Epoch  141 :  0.8163597206585109\n"
     ]
    },
    {
     "name": "stderr",
     "output_type": "stream",
     "text": [
      "50it [00:01, 49.56it/s]\n",
      "6it [00:00, 50.59it/s]"
     ]
    },
    {
     "name": "stdout",
     "output_type": "stream",
     "text": [
      "Epoch  142 :  0.8261599293909967\n"
     ]
    },
    {
     "name": "stderr",
     "output_type": "stream",
     "text": [
      "50it [00:01, 48.88it/s]\n",
      "5it [00:00, 48.02it/s]"
     ]
    },
    {
     "name": "stdout",
     "output_type": "stream",
     "text": [
      "Epoch  143 :  0.7237054817378521\n"
     ]
    },
    {
     "name": "stderr",
     "output_type": "stream",
     "text": [
      "50it [00:01, 48.99it/s]\n",
      "5it [00:00, 47.21it/s]"
     ]
    },
    {
     "name": "stdout",
     "output_type": "stream",
     "text": [
      "Epoch  144 :  0.7691261195577681\n"
     ]
    },
    {
     "name": "stderr",
     "output_type": "stream",
     "text": [
      "50it [00:01, 49.09it/s]\n",
      "6it [00:00, 51.36it/s]"
     ]
    },
    {
     "name": "stdout",
     "output_type": "stream",
     "text": [
      "Epoch  145 :  0.7448747288435698\n"
     ]
    },
    {
     "name": "stderr",
     "output_type": "stream",
     "text": [
      "50it [00:00, 50.55it/s]\n",
      "5it [00:00, 49.39it/s]"
     ]
    },
    {
     "name": "stdout",
     "output_type": "stream",
     "text": [
      "Epoch  146 :  0.6981457681395113\n"
     ]
    },
    {
     "name": "stderr",
     "output_type": "stream",
     "text": [
      "50it [00:01, 49.81it/s]\n",
      "6it [00:00, 50.35it/s]"
     ]
    },
    {
     "name": "stdout",
     "output_type": "stream",
     "text": [
      "Epoch  147 :  0.7913470482453704\n"
     ]
    },
    {
     "name": "stderr",
     "output_type": "stream",
     "text": [
      "50it [00:00, 50.60it/s]\n",
      "6it [00:00, 50.43it/s]"
     ]
    },
    {
     "name": "stdout",
     "output_type": "stream",
     "text": [
      "Epoch  148 :  0.7494566538371146\n"
     ]
    },
    {
     "name": "stderr",
     "output_type": "stream",
     "text": [
      "50it [00:00, 50.26it/s]\n",
      "5it [00:00, 47.60it/s]"
     ]
    },
    {
     "name": "stdout",
     "output_type": "stream",
     "text": [
      "Epoch  149 :  0.6801443276926875\n"
     ]
    },
    {
     "name": "stderr",
     "output_type": "stream",
     "text": [
      "50it [00:01, 49.77it/s]\n",
      "5it [00:00, 49.98it/s]"
     ]
    },
    {
     "name": "stdout",
     "output_type": "stream",
     "text": [
      "Epoch  150 :  0.7099289880134165\n"
     ]
    },
    {
     "name": "stderr",
     "output_type": "stream",
     "text": [
      "50it [00:00, 50.30it/s]\n",
      "5it [00:00, 49.06it/s]"
     ]
    },
    {
     "name": "stdout",
     "output_type": "stream",
     "text": [
      "Epoch  151 :  0.7460209038108587\n"
     ]
    },
    {
     "name": "stderr",
     "output_type": "stream",
     "text": [
      "50it [00:00, 50.08it/s]\n",
      "5it [00:00, 48.68it/s]"
     ]
    },
    {
     "name": "stdout",
     "output_type": "stream",
     "text": [
      "Epoch  152 :  0.7363566686399281\n"
     ]
    },
    {
     "name": "stderr",
     "output_type": "stream",
     "text": [
      "50it [00:00, 50.35it/s]\n",
      "5it [00:00, 43.21it/s]"
     ]
    },
    {
     "name": "stdout",
     "output_type": "stream",
     "text": [
      "Epoch  153 :  0.7487378870137036\n"
     ]
    },
    {
     "name": "stderr",
     "output_type": "stream",
     "text": [
      "50it [00:01, 49.30it/s]\n",
      "6it [00:00, 50.48it/s]"
     ]
    },
    {
     "name": "stdout",
     "output_type": "stream",
     "text": [
      "Epoch  154 :  0.7441338184289634\n"
     ]
    },
    {
     "name": "stderr",
     "output_type": "stream",
     "text": [
      "50it [00:01, 49.95it/s]\n",
      "6it [00:00, 50.51it/s]"
     ]
    },
    {
     "name": "stdout",
     "output_type": "stream",
     "text": [
      "Epoch  155 :  0.7055566641502082\n"
     ]
    },
    {
     "name": "stderr",
     "output_type": "stream",
     "text": [
      "50it [00:00, 50.26it/s]\n",
      "5it [00:00, 49.18it/s]"
     ]
    },
    {
     "name": "stdout",
     "output_type": "stream",
     "text": [
      "Epoch  156 :  0.7274704920127988\n"
     ]
    },
    {
     "name": "stderr",
     "output_type": "stream",
     "text": [
      "50it [00:01, 49.25it/s]\n",
      "5it [00:00, 49.22it/s]"
     ]
    },
    {
     "name": "stdout",
     "output_type": "stream",
     "text": [
      "Epoch  157 :  0.734683099668473\n"
     ]
    },
    {
     "name": "stderr",
     "output_type": "stream",
     "text": [
      "50it [00:01, 49.80it/s]\n",
      "5it [00:00, 47.46it/s]"
     ]
    },
    {
     "name": "stdout",
     "output_type": "stream",
     "text": [
      "Epoch  158 :  0.768690608208999\n"
     ]
    },
    {
     "name": "stderr",
     "output_type": "stream",
     "text": [
      "50it [00:00, 50.09it/s]\n",
      "5it [00:00, 48.06it/s]"
     ]
    },
    {
     "name": "stdout",
     "output_type": "stream",
     "text": [
      "Epoch  159 :  0.7622921667061746\n"
     ]
    },
    {
     "name": "stderr",
     "output_type": "stream",
     "text": [
      "50it [00:01, 49.33it/s]\n",
      "5it [00:00, 46.92it/s]"
     ]
    },
    {
     "name": "stdout",
     "output_type": "stream",
     "text": [
      "Epoch  160 :  0.739954347955063\n"
     ]
    },
    {
     "name": "stderr",
     "output_type": "stream",
     "text": [
      "50it [00:01, 48.33it/s]\n",
      "5it [00:00, 45.80it/s]"
     ]
    },
    {
     "name": "stdout",
     "output_type": "stream",
     "text": [
      "Epoch  161 :  0.7101140865124762\n"
     ]
    },
    {
     "name": "stderr",
     "output_type": "stream",
     "text": [
      "50it [00:01, 47.76it/s]\n",
      "5it [00:00, 43.92it/s]"
     ]
    },
    {
     "name": "stdout",
     "output_type": "stream",
     "text": [
      "Epoch  162 :  0.7124947546981275\n"
     ]
    },
    {
     "name": "stderr",
     "output_type": "stream",
     "text": [
      "50it [00:01, 48.70it/s]\n",
      "5it [00:00, 46.81it/s]"
     ]
    },
    {
     "name": "stdout",
     "output_type": "stream",
     "text": [
      "Epoch  163 :  0.7053815210238099\n"
     ]
    },
    {
     "name": "stderr",
     "output_type": "stream",
     "text": [
      "50it [00:01, 49.18it/s]\n",
      "5it [00:00, 48.17it/s]"
     ]
    },
    {
     "name": "stdout",
     "output_type": "stream",
     "text": [
      "Epoch  164 :  0.6942963278852403\n"
     ]
    },
    {
     "name": "stderr",
     "output_type": "stream",
     "text": [
      "50it [00:01, 49.77it/s]\n",
      "5it [00:00, 48.34it/s]"
     ]
    },
    {
     "name": "stdout",
     "output_type": "stream",
     "text": [
      "Epoch  165 :  0.7690557800233364\n"
     ]
    },
    {
     "name": "stderr",
     "output_type": "stream",
     "text": [
      "50it [00:01, 48.87it/s]\n",
      "5it [00:00, 48.12it/s]"
     ]
    },
    {
     "name": "stdout",
     "output_type": "stream",
     "text": [
      "Epoch  166 :  0.6867081949021667\n"
     ]
    },
    {
     "name": "stderr",
     "output_type": "stream",
     "text": [
      "50it [00:01, 48.31it/s]\n",
      "5it [00:00, 48.53it/s]"
     ]
    },
    {
     "name": "stdout",
     "output_type": "stream",
     "text": [
      "Epoch  167 :  0.6496121587697417\n"
     ]
    },
    {
     "name": "stderr",
     "output_type": "stream",
     "text": [
      "50it [00:01, 47.22it/s]\n",
      "5it [00:00, 45.05it/s]"
     ]
    },
    {
     "name": "stdout",
     "output_type": "stream",
     "text": [
      "Epoch  168 :  0.7004862707108259\n"
     ]
    },
    {
     "name": "stderr",
     "output_type": "stream",
     "text": [
      "50it [00:01, 49.53it/s]\n",
      "5it [00:00, 49.35it/s]"
     ]
    },
    {
     "name": "stdout",
     "output_type": "stream",
     "text": [
      "Epoch  169 :  0.6612209090963006\n"
     ]
    },
    {
     "name": "stderr",
     "output_type": "stream",
     "text": [
      "50it [00:01, 49.69it/s]\n",
      "5it [00:00, 48.83it/s]"
     ]
    },
    {
     "name": "stdout",
     "output_type": "stream",
     "text": [
      "Epoch  170 :  0.6860887813381851\n"
     ]
    },
    {
     "name": "stderr",
     "output_type": "stream",
     "text": [
      "50it [00:01, 47.59it/s]\n",
      "5it [00:00, 48.20it/s]"
     ]
    },
    {
     "name": "stdout",
     "output_type": "stream",
     "text": [
      "Epoch  171 :  0.7046681633219123\n"
     ]
    },
    {
     "name": "stderr",
     "output_type": "stream",
     "text": [
      "50it [00:01, 46.53it/s]\n",
      "5it [00:00, 48.99it/s]"
     ]
    },
    {
     "name": "stdout",
     "output_type": "stream",
     "text": [
      "Epoch  172 :  0.6547837003599852\n"
     ]
    },
    {
     "name": "stderr",
     "output_type": "stream",
     "text": [
      "50it [00:01, 48.75it/s]\n",
      "5it [00:00, 49.25it/s]"
     ]
    },
    {
     "name": "stdout",
     "output_type": "stream",
     "text": [
      "Epoch  173 :  0.6573445878457278\n"
     ]
    },
    {
     "name": "stderr",
     "output_type": "stream",
     "text": [
      "50it [00:01, 44.57it/s]\n",
      "5it [00:00, 47.88it/s]"
     ]
    },
    {
     "name": "stdout",
     "output_type": "stream",
     "text": [
      "Epoch  174 :  0.6039937571622431\n"
     ]
    },
    {
     "name": "stderr",
     "output_type": "stream",
     "text": [
      "50it [00:01, 45.12it/s]\n",
      "5it [00:00, 48.01it/s]"
     ]
    },
    {
     "name": "stdout",
     "output_type": "stream",
     "text": [
      "Epoch  175 :  0.6638447404839098\n"
     ]
    },
    {
     "name": "stderr",
     "output_type": "stream",
     "text": [
      "50it [00:01, 46.83it/s]\n",
      "4it [00:00, 39.33it/s]"
     ]
    },
    {
     "name": "stdout",
     "output_type": "stream",
     "text": [
      "Epoch  176 :  0.6932588876225054\n"
     ]
    },
    {
     "name": "stderr",
     "output_type": "stream",
     "text": [
      "50it [00:01, 46.86it/s]\n",
      "5it [00:00, 45.15it/s]"
     ]
    },
    {
     "name": "stdout",
     "output_type": "stream",
     "text": [
      "Epoch  177 :  0.6736413340549916\n"
     ]
    },
    {
     "name": "stderr",
     "output_type": "stream",
     "text": [
      "50it [00:01, 46.37it/s]\n",
      "5it [00:00, 45.28it/s]"
     ]
    },
    {
     "name": "stdout",
     "output_type": "stream",
     "text": [
      "Epoch  178 :  0.7483967314474285\n"
     ]
    },
    {
     "name": "stderr",
     "output_type": "stream",
     "text": [
      "50it [00:01, 45.77it/s]\n",
      "5it [00:00, 42.17it/s]"
     ]
    },
    {
     "name": "stdout",
     "output_type": "stream",
     "text": [
      "Epoch  179 :  0.6914650874678046\n"
     ]
    },
    {
     "name": "stderr",
     "output_type": "stream",
     "text": [
      "50it [00:01, 46.06it/s]\n",
      "5it [00:00, 44.51it/s]"
     ]
    },
    {
     "name": "stdout",
     "output_type": "stream",
     "text": [
      "Epoch  180 :  0.6390468417666852\n"
     ]
    },
    {
     "name": "stderr",
     "output_type": "stream",
     "text": [
      "50it [00:01, 45.07it/s]\n",
      "5it [00:00, 43.63it/s]"
     ]
    },
    {
     "name": "stdout",
     "output_type": "stream",
     "text": [
      "Epoch  181 :  0.6788463592529297\n"
     ]
    },
    {
     "name": "stderr",
     "output_type": "stream",
     "text": [
      "50it [00:01, 46.66it/s]\n",
      "5it [00:00, 40.66it/s]"
     ]
    },
    {
     "name": "stdout",
     "output_type": "stream",
     "text": [
      "Epoch  182 :  0.673864932730794\n"
     ]
    },
    {
     "name": "stderr",
     "output_type": "stream",
     "text": [
      "50it [00:01, 45.98it/s]\n",
      "5it [00:00, 47.35it/s]"
     ]
    },
    {
     "name": "stdout",
     "output_type": "stream",
     "text": [
      "Epoch  183 :  0.733660374302417\n"
     ]
    },
    {
     "name": "stderr",
     "output_type": "stream",
     "text": [
      "50it [00:01, 48.64it/s]\n",
      "6it [00:00, 43.01it/s]"
     ]
    },
    {
     "name": "stdout",
     "output_type": "stream",
     "text": [
      "Epoch  184 :  0.6800811081193388\n"
     ]
    },
    {
     "name": "stderr",
     "output_type": "stream",
     "text": [
      "\n"
     ]
    },
    {
     "ename": "KeyboardInterrupt",
     "evalue": "",
     "output_type": "error",
     "traceback": [
      "\u001b[0;31m---------------------------------------------------------------------------\u001b[0m",
      "\u001b[0;31mKeyboardInterrupt\u001b[0m                         Traceback (most recent call last)",
      "\u001b[0;32m<ipython-input-43-5ba8e1c54923>\u001b[0m in \u001b[0;36m<module>\u001b[0;34m\u001b[0m\n\u001b[1;32m     24\u001b[0m \u001b[0;34m\u001b[0m\u001b[0m\n\u001b[1;32m     25\u001b[0m             \u001b[0;31m#Forward Pass\u001b[0m\u001b[0;34m\u001b[0m\u001b[0;34m\u001b[0m\u001b[0;34m\u001b[0m\u001b[0m\n\u001b[0;32m---> 26\u001b[0;31m             \u001b[0my_hat\u001b[0m \u001b[0;34m=\u001b[0m \u001b[0mmodel\u001b[0m\u001b[0;34m(\u001b[0m\u001b[0mx\u001b[0m\u001b[0;34m.\u001b[0m\u001b[0mfloat\u001b[0m\u001b[0;34m(\u001b[0m\u001b[0;34m)\u001b[0m\u001b[0;34m)\u001b[0m\u001b[0;34m\u001b[0m\u001b[0;34m\u001b[0m\u001b[0m\n\u001b[0m\u001b[1;32m     27\u001b[0m \u001b[0;34m\u001b[0m\u001b[0m\n\u001b[1;32m     28\u001b[0m             \u001b[0;31m#Loss\u001b[0m\u001b[0;34m\u001b[0m\u001b[0;34m\u001b[0m\u001b[0;34m\u001b[0m\u001b[0m\n",
      "\u001b[0;32m~/anaconda3/envs/nlp/lib/python3.8/site-packages/torch/nn/modules/module.py\u001b[0m in \u001b[0;36m_call_impl\u001b[0;34m(self, *input, **kwargs)\u001b[0m\n\u001b[1;32m    887\u001b[0m             \u001b[0mresult\u001b[0m \u001b[0;34m=\u001b[0m \u001b[0mself\u001b[0m\u001b[0;34m.\u001b[0m\u001b[0m_slow_forward\u001b[0m\u001b[0;34m(\u001b[0m\u001b[0;34m*\u001b[0m\u001b[0minput\u001b[0m\u001b[0;34m,\u001b[0m \u001b[0;34m**\u001b[0m\u001b[0mkwargs\u001b[0m\u001b[0;34m)\u001b[0m\u001b[0;34m\u001b[0m\u001b[0;34m\u001b[0m\u001b[0m\n\u001b[1;32m    888\u001b[0m         \u001b[0;32melse\u001b[0m\u001b[0;34m:\u001b[0m\u001b[0;34m\u001b[0m\u001b[0;34m\u001b[0m\u001b[0m\n\u001b[0;32m--> 889\u001b[0;31m             \u001b[0mresult\u001b[0m \u001b[0;34m=\u001b[0m \u001b[0mself\u001b[0m\u001b[0;34m.\u001b[0m\u001b[0mforward\u001b[0m\u001b[0;34m(\u001b[0m\u001b[0;34m*\u001b[0m\u001b[0minput\u001b[0m\u001b[0;34m,\u001b[0m \u001b[0;34m**\u001b[0m\u001b[0mkwargs\u001b[0m\u001b[0;34m)\u001b[0m\u001b[0;34m\u001b[0m\u001b[0;34m\u001b[0m\u001b[0m\n\u001b[0m\u001b[1;32m    890\u001b[0m         for hook in itertools.chain(\n\u001b[1;32m    891\u001b[0m                 \u001b[0m_global_forward_hooks\u001b[0m\u001b[0;34m.\u001b[0m\u001b[0mvalues\u001b[0m\u001b[0;34m(\u001b[0m\u001b[0;34m)\u001b[0m\u001b[0;34m,\u001b[0m\u001b[0;34m\u001b[0m\u001b[0;34m\u001b[0m\u001b[0m\n",
      "\u001b[0;32m<ipython-input-33-49b0b3848854>\u001b[0m in \u001b[0;36mforward\u001b[0;34m(self, x)\u001b[0m\n\u001b[1;32m     17\u001b[0m     \u001b[0;32mdef\u001b[0m \u001b[0mforward\u001b[0m\u001b[0;34m(\u001b[0m\u001b[0mself\u001b[0m\u001b[0;34m,\u001b[0m \u001b[0mx\u001b[0m\u001b[0;34m)\u001b[0m\u001b[0;34m:\u001b[0m\u001b[0;34m\u001b[0m\u001b[0;34m\u001b[0m\u001b[0m\n\u001b[1;32m     18\u001b[0m         \u001b[0mout\u001b[0m\u001b[0;34m,\u001b[0m \u001b[0m_\u001b[0m \u001b[0;34m=\u001b[0m \u001b[0mself\u001b[0m\u001b[0;34m.\u001b[0m\u001b[0mlstm\u001b[0m\u001b[0;34m(\u001b[0m\u001b[0mx\u001b[0m\u001b[0;34m.\u001b[0m\u001b[0mview\u001b[0m\u001b[0;34m(\u001b[0m\u001b[0mlen\u001b[0m\u001b[0;34m(\u001b[0m\u001b[0mx\u001b[0m\u001b[0;34m)\u001b[0m\u001b[0;34m,\u001b[0m \u001b[0;36m1\u001b[0m \u001b[0;34m,\u001b[0m \u001b[0;34m-\u001b[0m\u001b[0;36m1\u001b[0m\u001b[0;34m)\u001b[0m\u001b[0;34m)\u001b[0m\u001b[0;34m\u001b[0m\u001b[0;34m\u001b[0m\u001b[0m\n\u001b[0;32m---> 19\u001b[0;31m         \u001b[0mout\u001b[0m \u001b[0;34m=\u001b[0m \u001b[0mself\u001b[0m\u001b[0;34m.\u001b[0m\u001b[0mlayers\u001b[0m\u001b[0;34m(\u001b[0m\u001b[0mout\u001b[0m\u001b[0;34m.\u001b[0m\u001b[0mview\u001b[0m\u001b[0;34m(\u001b[0m\u001b[0mlen\u001b[0m\u001b[0;34m(\u001b[0m\u001b[0mx\u001b[0m\u001b[0;34m)\u001b[0m\u001b[0;34m,\u001b[0m \u001b[0;34m-\u001b[0m\u001b[0;36m1\u001b[0m\u001b[0;34m)\u001b[0m\u001b[0;34m)\u001b[0m\u001b[0;34m\u001b[0m\u001b[0;34m\u001b[0m\u001b[0m\n\u001b[0m\u001b[1;32m     20\u001b[0m         \u001b[0;32mreturn\u001b[0m \u001b[0mout\u001b[0m\u001b[0;34m\u001b[0m\u001b[0;34m\u001b[0m\u001b[0m\n",
      "\u001b[0;32m~/anaconda3/envs/nlp/lib/python3.8/site-packages/torch/nn/modules/module.py\u001b[0m in \u001b[0;36m_call_impl\u001b[0;34m(self, *input, **kwargs)\u001b[0m\n\u001b[1;32m    887\u001b[0m             \u001b[0mresult\u001b[0m \u001b[0;34m=\u001b[0m \u001b[0mself\u001b[0m\u001b[0;34m.\u001b[0m\u001b[0m_slow_forward\u001b[0m\u001b[0;34m(\u001b[0m\u001b[0;34m*\u001b[0m\u001b[0minput\u001b[0m\u001b[0;34m,\u001b[0m \u001b[0;34m**\u001b[0m\u001b[0mkwargs\u001b[0m\u001b[0;34m)\u001b[0m\u001b[0;34m\u001b[0m\u001b[0;34m\u001b[0m\u001b[0m\n\u001b[1;32m    888\u001b[0m         \u001b[0;32melse\u001b[0m\u001b[0;34m:\u001b[0m\u001b[0;34m\u001b[0m\u001b[0;34m\u001b[0m\u001b[0m\n\u001b[0;32m--> 889\u001b[0;31m             \u001b[0mresult\u001b[0m \u001b[0;34m=\u001b[0m \u001b[0mself\u001b[0m\u001b[0;34m.\u001b[0m\u001b[0mforward\u001b[0m\u001b[0;34m(\u001b[0m\u001b[0;34m*\u001b[0m\u001b[0minput\u001b[0m\u001b[0;34m,\u001b[0m \u001b[0;34m**\u001b[0m\u001b[0mkwargs\u001b[0m\u001b[0;34m)\u001b[0m\u001b[0;34m\u001b[0m\u001b[0;34m\u001b[0m\u001b[0m\n\u001b[0m\u001b[1;32m    890\u001b[0m         for hook in itertools.chain(\n\u001b[1;32m    891\u001b[0m                 \u001b[0m_global_forward_hooks\u001b[0m\u001b[0;34m.\u001b[0m\u001b[0mvalues\u001b[0m\u001b[0;34m(\u001b[0m\u001b[0;34m)\u001b[0m\u001b[0;34m,\u001b[0m\u001b[0;34m\u001b[0m\u001b[0;34m\u001b[0m\u001b[0m\n",
      "\u001b[0;32m~/anaconda3/envs/nlp/lib/python3.8/site-packages/torch/nn/modules/container.py\u001b[0m in \u001b[0;36mforward\u001b[0;34m(self, input)\u001b[0m\n\u001b[1;32m    117\u001b[0m     \u001b[0;32mdef\u001b[0m \u001b[0mforward\u001b[0m\u001b[0;34m(\u001b[0m\u001b[0mself\u001b[0m\u001b[0;34m,\u001b[0m \u001b[0minput\u001b[0m\u001b[0;34m)\u001b[0m\u001b[0;34m:\u001b[0m\u001b[0;34m\u001b[0m\u001b[0;34m\u001b[0m\u001b[0m\n\u001b[1;32m    118\u001b[0m         \u001b[0;32mfor\u001b[0m \u001b[0mmodule\u001b[0m \u001b[0;32min\u001b[0m \u001b[0mself\u001b[0m\u001b[0;34m:\u001b[0m\u001b[0;34m\u001b[0m\u001b[0;34m\u001b[0m\u001b[0m\n\u001b[0;32m--> 119\u001b[0;31m             \u001b[0minput\u001b[0m \u001b[0;34m=\u001b[0m \u001b[0mmodule\u001b[0m\u001b[0;34m(\u001b[0m\u001b[0minput\u001b[0m\u001b[0;34m)\u001b[0m\u001b[0;34m\u001b[0m\u001b[0;34m\u001b[0m\u001b[0m\n\u001b[0m\u001b[1;32m    120\u001b[0m         \u001b[0;32mreturn\u001b[0m \u001b[0minput\u001b[0m\u001b[0;34m\u001b[0m\u001b[0;34m\u001b[0m\u001b[0m\n\u001b[1;32m    121\u001b[0m \u001b[0;34m\u001b[0m\u001b[0m\n",
      "\u001b[0;32m~/anaconda3/envs/nlp/lib/python3.8/site-packages/torch/nn/modules/module.py\u001b[0m in \u001b[0;36m_call_impl\u001b[0;34m(self, *input, **kwargs)\u001b[0m\n\u001b[1;32m    887\u001b[0m             \u001b[0mresult\u001b[0m \u001b[0;34m=\u001b[0m \u001b[0mself\u001b[0m\u001b[0;34m.\u001b[0m\u001b[0m_slow_forward\u001b[0m\u001b[0;34m(\u001b[0m\u001b[0;34m*\u001b[0m\u001b[0minput\u001b[0m\u001b[0;34m,\u001b[0m \u001b[0;34m**\u001b[0m\u001b[0mkwargs\u001b[0m\u001b[0;34m)\u001b[0m\u001b[0;34m\u001b[0m\u001b[0;34m\u001b[0m\u001b[0m\n\u001b[1;32m    888\u001b[0m         \u001b[0;32melse\u001b[0m\u001b[0;34m:\u001b[0m\u001b[0;34m\u001b[0m\u001b[0;34m\u001b[0m\u001b[0m\n\u001b[0;32m--> 889\u001b[0;31m             \u001b[0mresult\u001b[0m \u001b[0;34m=\u001b[0m \u001b[0mself\u001b[0m\u001b[0;34m.\u001b[0m\u001b[0mforward\u001b[0m\u001b[0;34m(\u001b[0m\u001b[0;34m*\u001b[0m\u001b[0minput\u001b[0m\u001b[0;34m,\u001b[0m \u001b[0;34m**\u001b[0m\u001b[0mkwargs\u001b[0m\u001b[0;34m)\u001b[0m\u001b[0;34m\u001b[0m\u001b[0;34m\u001b[0m\u001b[0m\n\u001b[0m\u001b[1;32m    890\u001b[0m         for hook in itertools.chain(\n\u001b[1;32m    891\u001b[0m                 \u001b[0m_global_forward_hooks\u001b[0m\u001b[0;34m.\u001b[0m\u001b[0mvalues\u001b[0m\u001b[0;34m(\u001b[0m\u001b[0;34m)\u001b[0m\u001b[0;34m,\u001b[0m\u001b[0;34m\u001b[0m\u001b[0;34m\u001b[0m\u001b[0m\n",
      "\u001b[0;32m~/anaconda3/envs/nlp/lib/python3.8/site-packages/torch/nn/modules/dropout.py\u001b[0m in \u001b[0;36mforward\u001b[0;34m(self, input)\u001b[0m\n\u001b[1;32m     56\u001b[0m \u001b[0;34m\u001b[0m\u001b[0m\n\u001b[1;32m     57\u001b[0m     \u001b[0;32mdef\u001b[0m \u001b[0mforward\u001b[0m\u001b[0;34m(\u001b[0m\u001b[0mself\u001b[0m\u001b[0;34m,\u001b[0m \u001b[0minput\u001b[0m\u001b[0;34m:\u001b[0m \u001b[0mTensor\u001b[0m\u001b[0;34m)\u001b[0m \u001b[0;34m->\u001b[0m \u001b[0mTensor\u001b[0m\u001b[0;34m:\u001b[0m\u001b[0;34m\u001b[0m\u001b[0;34m\u001b[0m\u001b[0m\n\u001b[0;32m---> 58\u001b[0;31m         \u001b[0;32mreturn\u001b[0m \u001b[0mF\u001b[0m\u001b[0;34m.\u001b[0m\u001b[0mdropout\u001b[0m\u001b[0;34m(\u001b[0m\u001b[0minput\u001b[0m\u001b[0;34m,\u001b[0m \u001b[0mself\u001b[0m\u001b[0;34m.\u001b[0m\u001b[0mp\u001b[0m\u001b[0;34m,\u001b[0m \u001b[0mself\u001b[0m\u001b[0;34m.\u001b[0m\u001b[0mtraining\u001b[0m\u001b[0;34m,\u001b[0m \u001b[0mself\u001b[0m\u001b[0;34m.\u001b[0m\u001b[0minplace\u001b[0m\u001b[0;34m)\u001b[0m\u001b[0;34m\u001b[0m\u001b[0;34m\u001b[0m\u001b[0m\n\u001b[0m\u001b[1;32m     59\u001b[0m \u001b[0;34m\u001b[0m\u001b[0m\n\u001b[1;32m     60\u001b[0m \u001b[0;34m\u001b[0m\u001b[0m\n",
      "\u001b[0;32m~/anaconda3/envs/nlp/lib/python3.8/site-packages/torch/nn/functional.py\u001b[0m in \u001b[0;36mdropout\u001b[0;34m(input, p, training, inplace)\u001b[0m\n\u001b[1;32m   1074\u001b[0m     \u001b[0;32mif\u001b[0m \u001b[0mp\u001b[0m \u001b[0;34m<\u001b[0m \u001b[0;36m0.0\u001b[0m \u001b[0;32mor\u001b[0m \u001b[0mp\u001b[0m \u001b[0;34m>\u001b[0m \u001b[0;36m1.0\u001b[0m\u001b[0;34m:\u001b[0m\u001b[0;34m\u001b[0m\u001b[0;34m\u001b[0m\u001b[0m\n\u001b[1;32m   1075\u001b[0m         \u001b[0;32mraise\u001b[0m \u001b[0mValueError\u001b[0m\u001b[0;34m(\u001b[0m\u001b[0;34m\"dropout probability has to be between 0 and 1, \"\u001b[0m \u001b[0;34m\"but got {}\"\u001b[0m\u001b[0;34m.\u001b[0m\u001b[0mformat\u001b[0m\u001b[0;34m(\u001b[0m\u001b[0mp\u001b[0m\u001b[0;34m)\u001b[0m\u001b[0;34m)\u001b[0m\u001b[0;34m\u001b[0m\u001b[0;34m\u001b[0m\u001b[0m\n\u001b[0;32m-> 1076\u001b[0;31m     \u001b[0;32mreturn\u001b[0m \u001b[0m_VF\u001b[0m\u001b[0;34m.\u001b[0m\u001b[0mdropout_\u001b[0m\u001b[0;34m(\u001b[0m\u001b[0minput\u001b[0m\u001b[0;34m,\u001b[0m \u001b[0mp\u001b[0m\u001b[0;34m,\u001b[0m \u001b[0mtraining\u001b[0m\u001b[0;34m)\u001b[0m \u001b[0;32mif\u001b[0m \u001b[0minplace\u001b[0m \u001b[0;32melse\u001b[0m \u001b[0m_VF\u001b[0m\u001b[0;34m.\u001b[0m\u001b[0mdropout\u001b[0m\u001b[0;34m(\u001b[0m\u001b[0minput\u001b[0m\u001b[0;34m,\u001b[0m \u001b[0mp\u001b[0m\u001b[0;34m,\u001b[0m \u001b[0mtraining\u001b[0m\u001b[0;34m)\u001b[0m\u001b[0;34m\u001b[0m\u001b[0;34m\u001b[0m\u001b[0m\n\u001b[0m\u001b[1;32m   1077\u001b[0m \u001b[0;34m\u001b[0m\u001b[0m\n\u001b[1;32m   1078\u001b[0m \u001b[0;34m\u001b[0m\u001b[0m\n",
      "\u001b[0;31mKeyboardInterrupt\u001b[0m: "
     ]
    }
   ],
   "source": [
    "from tqdm import tqdm\n",
    "\n",
    "\n",
    "model = NeuralNet()\n",
    "\n",
    "EPOCHS = 1000\n",
    "\n",
    "target = pd.DataFrame(data = train_normalized['close'])\n",
    "\n",
    "\n",
    "criterion = nn.MSELoss()\n",
    "optimizer = Adam(model.parameters(), lr=0.0001)\n",
    "\n",
    "losses = []\n",
    "for epoch in range(EPOCHS):\n",
    "    epoch_loss = 0\n",
    "    for bidx, batch in tqdm(enumerate(train_loader)):\n",
    "        X, Y = batch\n",
    "        model.zero_grad()\n",
    "        loss = 0\n",
    "        for i in range(len(X)):\n",
    "            x, y = X[i], Y[i]\n",
    "            x = x.view(-1, len(x))\n",
    "            \n",
    "            #Forward Pass\n",
    "            y_hat = model(x.float())\n",
    "            \n",
    "            #Loss\n",
    "            loss += criterion(y.float(), y_hat.float())\n",
    "        \n",
    "        #Backward pass\n",
    "        loss.backward()\n",
    "        \n",
    "        #Parameters optimization\n",
    "        optimizer.step()\n",
    "        \n",
    "        epoch_loss += float(loss)\n",
    "        \n",
    "    losses.append(epoch_loss)\n",
    "    print(\"Epoch \", epoch, \": \", epoch_loss)\n",
    "        \n",
    "        \n",
    "  "
   ]
  },
  {
   "cell_type": "code",
   "execution_count": 44,
   "metadata": {},
   "outputs": [
    {
     "data": {
      "text/plain": [
       "[<matplotlib.lines.Line2D at 0x7f6a0a3f1250>]"
      ]
     },
     "execution_count": 44,
     "metadata": {},
     "output_type": "execute_result"
    },
    {
     "data": {
      "image/png": "[encoded data removed]",
      "text/plain": [
       "<Figure size 432x288 with 1 Axes>"
      ]
     },
     "metadata": {
      "needs_background": "light"
     },
     "output_type": "display_data"
    }
   ],
   "source": [
    "plt.plot(losses)"
   ]
  },
  {
   "cell_type": "code",
   "execution_count": 45,
   "metadata": {},
   "outputs": [],
   "source": [
    "test_normalized = normalize_data(test_data)\n",
    "\n",
    "test_target = torch.tensor(test_normalized['close'].values.astype(np.float64))\n",
    "test = torch.tensor(test_normalized.drop('close', axis = 1).values) \n",
    "test_tensor = data_utils.TensorDataset(test, test_target) \n",
    "test_loader = data_utils.DataLoader(dataset = test_tensor, batch_size = 32, shuffle = False)\n"
   ]
  },
  {
   "cell_type": "code",
   "execution_count": 46,
   "metadata": {},
   "outputs": [],
   "source": [
    "x_labels = list(test_data.index)"
   ]
  },
  {
   "cell_type": "code",
   "execution_count": 80,
   "metadata": {},
   "outputs": [
    {
     "name": "stderr",
     "output_type": "stream",
     "text": [
      "13it [00:00, 39.54it/s]\n"
     ]
    },
    {
     "data": {
      "image/png": "[encoded data removed]",
      "text/plain": [
       "<Figure size 1008x504 with 1 Axes>"
      ]
     },
     "metadata": {
      "needs_background": "light"
     },
     "output_type": "display_data"
    }
   ],
   "source": [
    "y_list = []\n",
    "y_hat_list = []\n",
    "for bidx, batch in tqdm(enumerate(test_loader)):\n",
    "        X, Y = batch\n",
    "        for i in range(len(X)):\n",
    "            x, y = X[i], Y[i]\n",
    "            x = x.view(-1, len(x))\n",
    "            y_hat = model(x.float())\n",
    "            y_list.append(float(y))\n",
    "            y_hat_list.append(float(y_hat))\n",
    "\n",
    "#Denormalize the data\n",
    "min_max_scaler = preprocessing.MinMaxScaler()\n",
    "min_max_scaler.fit_transform(test_data.values)\n",
    "vmin = min_max_scaler.data_min_[-1]\n",
    "vmax = min_max_scaler.data_max_[-1]\n",
    "\n",
    "\n",
    "y_list = [y_list[i]* (vmax - vmin) + vmin for i in range(len(y_list))]\n",
    "y_hat_list = [y_hat_list[i]* (vmax - vmin) + vmin for i in range(len(y_hat_list))]\n",
    "\n",
    "y_df = pd.DataFrame(y_list)\n",
    "y_df.index = test_data.index\n",
    "\n",
    "y_hat_df = pd.DataFrame(y_hat_list)\n",
    "y_hat_df.index = test_data.index\n",
    "\n",
    "\n",
    "plot_curves([y_hat_df[100:105], y_df[100:105]], ['Estimated price', 'Actual price'], \n",
    "            title='Bitcoin price (EUR)', x_label='Time', y_label='Bitcoin Price (EUR)')\n"
   ]
  },
  {
   "cell_type": "code",
   "execution_count": 38,
   "metadata": {},
   "outputs": [],
   "source": [
    "def smooth(y, box_pts):\n",
    "    box = np.ones(box_pts)/box_pts\n",
    "    y_smooth = np.convolve(y, box, mode='same')\n",
    "    return y_smooth"
   ]
  },
  {
   "cell_type": "code",
   "execution_count": 69,
   "metadata": {},
   "outputs": [
    {
     "data": {
      "text/plain": [
       "[5772.014880361818,\n",
       " 5882.39127343569,\n",
       " 6467.367530073598,\n",
       " 6306.9957892178745,\n",
       " 5995.674022167325,\n",
       " 5976.482012151145,\n",
       " 6332.49681987606,\n",
       " 6323.995911338628,\n",
       " 6458.229675622433,\n",
       " 6527.918695233613,\n",
       " 6532.595698085875,\n",
       " 6383.630195532069,\n",
       " 6961.01372680828,\n",
       " 6442.678560851366,\n",
       " 5967.072875833921,\n",
       " 6655.029994713739,\n",
       " 6285.123120065183,\n",
       " 6422.9792689110345,\n",
       " 6328.608773558959,\n",
       " 6615.083494614289,\n",
       " 6349.625758509338,\n",
       " 6677.2681494978815,\n",
       " 6329.829140519723,\n",
       " 6718.471413467452,\n",
       " 6814.2153568990525,\n",
       " 6836.370726556033,\n",
       " 7362.427925031781,\n",
       " 7078.329886474163,\n",
       " 7397.166455601305,\n",
       " 7183.065561470837,\n",
       " 6915.454787602872,\n",
       " 7029.094324175119,\n",
       " 6590.461699099765,\n",
       " 8234.842216513454,\n",
       " 8052.64446234718,\n",
       " 8149.895398400724,\n",
       " 7658.331229772568,\n",
       " 7950.031583563834,\n",
       " 8343.405989976525,\n",
       " 8710.363912094235,\n",
       " 8708.900542238653,\n",
       " 8353.58499229312,\n",
       " 9205.35117436409,\n",
       " 8269.622139646559,\n",
       " 8798.372352582217,\n",
       " 7885.478453328758,\n",
       " 8668.26589076966,\n",
       " 9229.098016724289,\n",
       " 9229.083029761612,\n",
       " 8611.219087840616,\n",
       " 9018.61147842586,\n",
       " 8989.55996494323,\n",
       " 8962.873536903859,\n",
       " 8388.926748110354,\n",
       " 8054.730861651153,\n",
       " 7929.55618105635,\n",
       " 8547.25829946369,\n",
       " 8540.289361819327,\n",
       " 8054.4726933774355,\n",
       " 8141.328029820472,\n",
       " 8689.917056182325,\n",
       " 8731.732109378278,\n",
       " 8686.625276880264,\n",
       " 8736.11329813391,\n",
       " 8984.446199178696,\n",
       " 8992.385007407665,\n",
       " 8841.091262360513,\n",
       " 8339.455854814052,\n",
       " 8085.839871009737,\n",
       " 8838.097081317306,\n",
       " 8736.344525558055,\n",
       " 8531.384251330197,\n",
       " 8915.88048810333,\n",
       " 8496.479972090125,\n",
       " 8792.785426996052,\n",
       " 8085.18722446844,\n",
       " 8294.158473790587,\n",
       " 8440.318470456303,\n",
       " 8113.3380928607285,\n",
       " 7969.264495498985,\n",
       " 8102.044345986992,\n",
       " 8414.002077662051,\n",
       " 7991.923355735391,\n",
       " 8900.180574202835,\n",
       " 8157.720733912289,\n",
       " 8655.639731547535,\n",
       " 8862.703889869153,\n",
       " 8559.64930610478,\n",
       " 8632.67827739805,\n",
       " 7852.812940846533,\n",
       " 9104.711935832202,\n",
       " 7980.803029429764,\n",
       " 8195.00918913141,\n",
       " 8311.02415928781,\n",
       " 7951.073891134709,\n",
       " 8126.802094662935,\n",
       " 8113.6908217322825,\n",
       " 8345.683651470841,\n",
       " 8397.265208677352,\n",
       " 8479.335243621172,\n",
       " 8423.532358594239,\n",
       " 8406.405114915073,\n",
       " 8966.783350000083,\n",
       " 8229.707932883352,\n",
       " 8101.287147539408,\n",
       " 8551.391489670277,\n",
       " 8288.116230005025,\n",
       " 8409.359687556922,\n",
       " 8256.23057483062,\n",
       " 7777.400685655326,\n",
       " 8215.257467787862,\n",
       " 8085.187759717107,\n",
       " 7909.840474823564,\n",
       " 8088.554295416325,\n",
       " 8174.0149522493775,\n",
       " 8136.015508384258,\n",
       " 8540.42638547808,\n",
       " 8329.567670939863,\n",
       " 8372.113160150051,\n",
       " 8254.877466200442,\n",
       " 8797.240836900175,\n",
       " 9436.910452682376,\n",
       " 9391.921374891102,\n",
       " 9426.457046215834,\n",
       " 9843.52923052758,\n",
       " 9491.967201067508,\n",
       " 10227.628669622241,\n",
       " 10204.65579683453,\n",
       " 9669.352177636325,\n",
       " 9876.16227125734,\n",
       " 10080.513789334596,\n",
       " 9524.37329636246,\n",
       " 9679.07336392641,\n",
       " 10173.841887907683,\n",
       " 9771.950069456994,\n",
       " 9886.73521659285,\n",
       " 9867.930860423745,\n",
       " 9780.8166420421,\n",
       " 10030.23752521068,\n",
       " 10407.077208218576,\n",
       " 10162.746539873184,\n",
       " 9910.588751854002,\n",
       " 10307.8089199391,\n",
       " 10544.557255667747,\n",
       " 9851.402024754287,\n",
       " 10088.436183271111,\n",
       " 10062.163324035108,\n",
       " 9691.64242995739,\n",
       " 9761.778917454183,\n",
       " 10117.193666819334,\n",
       " 9843.85037972778,\n",
       " 9750.967964878082,\n",
       " 9807.976229903103,\n",
       " 9621.789624254106,\n",
       " 9657.222729177178,\n",
       " 9831.538946721852,\n",
       " 9588.795825922787,\n",
       " 10134.61672459513,\n",
       " 10002.948407172262,\n",
       " 9589.350700374245,\n",
       " 8377.515246529878,\n",
       " 8508.058471254706,\n",
       " 9019.92783331424,\n",
       " 8419.283197843135,\n",
       " 8952.458311508894,\n",
       " 8104.186054319889,\n",
       " 9011.694995150865,\n",
       " 8573.676032672227,\n",
       " 8860.202137599586,\n",
       " 8986.023755416572,\n",
       " 9094.52080121249,\n",
       " 9347.682002066076,\n",
       " 9571.419513197243,\n",
       " 9410.032048787773,\n",
       " 9581.945356650054,\n",
       " 9727.475900883375,\n",
       " 9649.545835962594,\n",
       " 9362.32783292502,\n",
       " 8783.489228147566,\n",
       " 9221.264474066496,\n",
       " 8542.884247356951,\n",
       " 9423.57883571714,\n",
       " 8934.15316392988,\n",
       " 9710.013591538667,\n",
       " 9359.891024160384,\n",
       " 9007.00550316304,\n",
       " 8728.569860253632,\n",
       " 9077.672600505055,\n",
       " 9150.417890004814,\n",
       " 9893.8286887604,\n",
       " 9063.35791015476,\n",
       " 9060.105025589168,\n",
       " 9147.40336951226,\n",
       " 9293.484149375261,\n",
       " 8749.362486804426,\n",
       " 9316.15942390412,\n",
       " 9282.449106023909,\n",
       " 9831.023680671751,\n",
       " 9248.504349227547,\n",
       " 9791.153364299238,\n",
       " 9856.669228470028,\n",
       " 9900.986033935547,\n",
       " 9317.95357743591,\n",
       " 9812.822371334136,\n",
       " 9600.58699722439,\n",
       " 10008.096072019041,\n",
       " 9976.379377007186,\n",
       " 10427.236100347638,\n",
       " 10898.901864531337,\n",
       " 11217.318441871106,\n",
       " 11597.161226733326,\n",
       " 10960.843694936335,\n",
       " 11041.567401066422,\n",
       " 11464.446676582695,\n",
       " 11444.025869439243,\n",
       " 11718.076041603685,\n",
       " 11630.886174743771,\n",
       " 11434.381402124764,\n",
       " 12292.222299733758,\n",
       " 11992.048424295186,\n",
       " 11785.715772485137,\n",
       " 11678.038013982175,\n",
       " 12030.999540290237,\n",
       " 13800.094870485664,\n",
       " 12635.500820823312,\n",
       " 12756.399935066103,\n",
       " 12679.579619048238,\n",
       " 13320.661934478878,\n",
       " 13198.493924062848,\n",
       " 13980.29525504291,\n",
       " 13612.315364803671,\n",
       " 14151.026733848452,\n",
       " 12816.404878961443,\n",
       " 13277.656488247514,\n",
       " 14739.996525394916,\n",
       " 15401.320518081784,\n",
       " 14046.068038573861,\n",
       " 16102.334983589053,\n",
       " 16232.093533768058,\n",
       " 14957.986179507374,\n",
       " 15974.223571974635,\n",
       " 15555.477843497396,\n",
       " 15741.566677056551,\n",
       " 14308.415533882975,\n",
       " 14143.982147725821,\n",
       " 14584.800103900432,\n",
       " 15101.207304158806,\n",
       " 16053.725840646624,\n",
       " 16804.69542107761,\n",
       " 15482.871004986167,\n",
       " 15486.70195811212,\n",
       " 15988.785190376639,\n",
       " 15258.406269332767,\n",
       " 16758.43994494021,\n",
       " 15877.371396178007,\n",
       " 15629.790341094136,\n",
       " 14641.619247729777,\n",
       " 14853.96523989737,\n",
       " 15034.196312044858,\n",
       " 15539.183446744084,\n",
       " 16131.897124300003,\n",
       " 16160.695643579364,\n",
       " 15707.387838176488,\n",
       " 17150.998453968168,\n",
       " 17938.034516911506,\n",
       " 18007.180080709455,\n",
       " 19529.834078649284,\n",
       " 19280.234065593482,\n",
       " 18648.931813806295,\n",
       " 18713.537041578293,\n",
       " 18979.982400681973,\n",
       " 18683.130635303256,\n",
       " 18967.08362147212,\n",
       " 20733.671133246422,\n",
       " 20164.569058554174,\n",
       " 21963.195841870307,\n",
       " 22130.904236204624,\n",
       " 21161.721624550817,\n",
       " 23399.903177187443,\n",
       " 25695.469096245768,\n",
       " 25862.97480975151,\n",
       " 25732.990741467474,\n",
       " 26072.321268389227,\n",
       " 26397.57546903372,\n",
       " 28818.039880374672,\n",
       " 31552.796599659916,\n",
       " 31919.172171227932,\n",
       " 31630.55181668281,\n",
       " 30639.613844542502,\n",
       " 30778.056269094945,\n",
       " 28647.456843866108,\n",
       " 26750.826743286845,\n",
       " 31013.400112321375,\n",
       " 32089.963597884176,\n",
       " 33014.09682706356,\n",
       " 27659.354975996015,\n",
       " 31020.74515136242,\n",
       " 30783.565762040613,\n",
       " 27824.05170449734,\n",
       " 27400.24323729515,\n",
       " 25971.010828028913,\n",
       " 26814.549881255625,\n",
       " 24225.51354106426,\n",
       " 27598.893286571503,\n",
       " 26800.469272989038,\n",
       " 24892.025163831713,\n",
       " 26452.08519328117,\n",
       " 29451.718636243342,\n",
       " 26936.73359229922,\n",
       " 27194.47652174234,\n",
       " 28223.03890684843,\n",
       " 28709.19028412342,\n",
       " 28532.08720518589,\n",
       " 32200.307608413692,\n",
       " 31648.250705938335,\n",
       " 33656.58648965597,\n",
       " 31535.839921889303,\n",
       " 33362.165466890336,\n",
       " 36005.269059097765,\n",
       " 39820.661435804366,\n",
       " 36993.3951915741,\n",
       " 42424.72184924602,\n",
       " 38943.09912264347,\n",
       " 42852.40408946753,\n",
       " 37794.395535407064,\n",
       " 44039.00899164677,\n",
       " 41559.55732254267,\n",
       " 44034.13894244194,\n",
       " 41778.4726000166,\n",
       " 46225.06731542588,\n",
       " 46598.017167954444,\n",
       " 45766.768851451874,\n",
       " 42679.31180720806,\n",
       " 43370.76744518757,\n",
       " 40346.98358237028,\n",
       " 37476.6947639513,\n",
       " 38747.192401201726,\n",
       " 41137.01346952438,\n",
       " 38828.907031030656,\n",
       " 43048.51063707829,\n",
       " 40789.73842505455,\n",
       " 42044.44979495287,\n",
       " 41150.8785509944,\n",
       " 40568.38812297821,\n",
       " 42380.69158023357,\n",
       " 44236.20030988932,\n",
       " 46689.66886770249,\n",
       " 47795.83802753448,\n",
       " 47277.02649026394,\n",
       " 48996.28517390728,\n",
       " 46431.41923618793,\n",
       " 53699.90201722145,\n",
       " 47155.79480818272,\n",
       " 47780.040341544154,\n",
       " 48711.926826081275,\n",
       " 53335.29347991943,\n",
       " 48520.37060580492,\n",
       " 49085.97572253943,\n",
       " 50214.18570881367,\n",
       " 51702.85641205311,\n",
       " 47557.27412832737,\n",
       " 46460.017215633394,\n",
       " 44455.14984327793,\n",
       " 46719.91684037208,\n",
       " 48202.210234160426,\n",
       " 51184.51018429041,\n",
       " 49308.233806355,\n",
       " 47103.75721911192,\n",
       " 49039.59606871128,\n",
       " 51292.881625065806,\n",
       " 48804.20655093193,\n",
       " 51279.84154020786,\n",
       " 47830.173872690204,\n",
       " 49171.31577000618,\n",
       " 49420.45332821369,\n",
       " 53892.66004917145,\n",
       " 51583.337525706294,\n",
       " 53440.059485673904,\n",
       " 50600.33265247583,\n",
       " 49750.040902066234,\n",
       " 50938.18446574688,\n",
       " 51069.53306129933,\n",
       " 56446.141604576114,\n",
       " 56935.85845163822,\n",
       " 52604.963088088036,\n",
       " 50250.2400590229,\n",
       " 50573.48743399858,\n",
       " 45767.55388283014,\n",
       " 45258.32258303404,\n",
       " 47089.04144909382,\n",
       " 45031.602666330335,\n",
       " 39498.627291140554,\n",
       " 40370.05208625317,\n",
       " 42636.25497710466,\n",
       " 41495.59296584129,\n",
       " 46071.32962496519,\n",
       " 47315.39596937418,\n",
       " 45089.626476492886,\n",
       " 44881.80155139923,\n",
       " 46177.42019275427,\n",
       " 47871.406575336456]"
      ]
     },
     "execution_count": 69,
     "metadata": {},
     "output_type": "execute_result"
    }
   ],
   "source": [
    "\n",
    "list(y_hat_df[0])"
   ]
  },
  {
   "cell_type": "code",
   "execution_count": 73,
   "metadata": {},
   "outputs": [],
   "source": [
    "data = {'realPrice': list(y_df[0]), 'predictPrice': list(y_hat_df[0])}\n",
    "df_compare = pd.DataFrame(data, index =y_hat_df.index)"
   ]
  },
  {
   "cell_type": "code",
   "execution_count": 79,
   "metadata": {},
   "outputs": [
    {
     "data": {
      "text/html": [
       "<div>\n",
       "<style scoped>\n",
       "    .dataframe tbody tr th:only-of-type {\n",
       "        vertical-align: middle;\n",
       "    }\n",
       "\n",
       "    .dataframe tbody tr th {\n",
       "        vertical-align: top;\n",
       "    }\n",
       "\n",
       "    .dataframe thead th {\n",
       "        text-align: right;\n",
       "    }\n",
       "</style>\n",
       "<table border=\"1\" class=\"dataframe\">\n",
       "  <thead>\n",
       "    <tr style=\"text-align: right;\">\n",
       "      <th></th>\n",
       "      <th>realPrice</th>\n",
       "      <th>predictPrice</th>\n",
       "    </tr>\n",
       "    <tr>\n",
       "      <th>time</th>\n",
       "      <th></th>\n",
       "      <th></th>\n",
       "    </tr>\n",
       "  </thead>\n",
       "  <tbody>\n",
       "    <tr>\n",
       "      <th>2020-07-06</th>\n",
       "      <td>8260.60</td>\n",
       "      <td>8423.532359</td>\n",
       "    </tr>\n",
       "    <tr>\n",
       "      <th>2020-07-07</th>\n",
       "      <td>8221.77</td>\n",
       "      <td>8406.405115</td>\n",
       "    </tr>\n",
       "    <tr>\n",
       "      <th>2020-07-08</th>\n",
       "      <td>8339.43</td>\n",
       "      <td>8966.783350</td>\n",
       "    </tr>\n",
       "    <tr>\n",
       "      <th>2020-07-09</th>\n",
       "      <td>8196.71</td>\n",
       "      <td>8229.707933</td>\n",
       "    </tr>\n",
       "    <tr>\n",
       "      <th>2020-07-10</th>\n",
       "      <td>8228.30</td>\n",
       "      <td>8101.287148</td>\n",
       "    </tr>\n",
       "    <tr>\n",
       "      <th>2020-07-11</th>\n",
       "      <td>8190.74</td>\n",
       "      <td>8551.391490</td>\n",
       "    </tr>\n",
       "    <tr>\n",
       "      <th>2020-07-12</th>\n",
       "      <td>8236.33</td>\n",
       "      <td>8288.116230</td>\n",
       "    </tr>\n",
       "    <tr>\n",
       "      <th>2020-07-13</th>\n",
       "      <td>8154.94</td>\n",
       "      <td>8409.359688</td>\n",
       "    </tr>\n",
       "    <tr>\n",
       "      <th>2020-07-14</th>\n",
       "      <td>8122.69</td>\n",
       "      <td>8256.230575</td>\n",
       "    </tr>\n",
       "    <tr>\n",
       "      <th>2020-07-15</th>\n",
       "      <td>8058.98</td>\n",
       "      <td>7777.400686</td>\n",
       "    </tr>\n",
       "    <tr>\n",
       "      <th>2020-07-16</th>\n",
       "      <td>8019.97</td>\n",
       "      <td>8215.257468</td>\n",
       "    </tr>\n",
       "    <tr>\n",
       "      <th>2020-07-17</th>\n",
       "      <td>8023.29</td>\n",
       "      <td>8085.187760</td>\n",
       "    </tr>\n",
       "    <tr>\n",
       "      <th>2020-07-18</th>\n",
       "      <td>8043.87</td>\n",
       "      <td>7909.840475</td>\n",
       "    </tr>\n",
       "    <tr>\n",
       "      <th>2020-07-19</th>\n",
       "      <td>8062.62</td>\n",
       "      <td>8088.554295</td>\n",
       "    </tr>\n",
       "    <tr>\n",
       "      <th>2020-07-20</th>\n",
       "      <td>8013.37</td>\n",
       "      <td>8174.014952</td>\n",
       "    </tr>\n",
       "    <tr>\n",
       "      <th>2020-07-21</th>\n",
       "      <td>8158.75</td>\n",
       "      <td>8136.015508</td>\n",
       "    </tr>\n",
       "    <tr>\n",
       "      <th>2020-07-22</th>\n",
       "      <td>8255.56</td>\n",
       "      <td>8540.426385</td>\n",
       "    </tr>\n",
       "    <tr>\n",
       "      <th>2020-07-23</th>\n",
       "      <td>8299.56</td>\n",
       "      <td>8329.567671</td>\n",
       "    </tr>\n",
       "    <tr>\n",
       "      <th>2020-07-24</th>\n",
       "      <td>8213.49</td>\n",
       "      <td>8372.113160</td>\n",
       "    </tr>\n",
       "    <tr>\n",
       "      <th>2020-07-25</th>\n",
       "      <td>8344.37</td>\n",
       "      <td>8254.877466</td>\n",
       "    </tr>\n",
       "  </tbody>\n",
       "</table>\n",
       "</div>"
      ],
      "text/plain": [
       "            realPrice  predictPrice\n",
       "time                               \n",
       "2020-07-06    8260.60   8423.532359\n",
       "2020-07-07    8221.77   8406.405115\n",
       "2020-07-08    8339.43   8966.783350\n",
       "2020-07-09    8196.71   8229.707933\n",
       "2020-07-10    8228.30   8101.287148\n",
       "2020-07-11    8190.74   8551.391490\n",
       "2020-07-12    8236.33   8288.116230\n",
       "2020-07-13    8154.94   8409.359688\n",
       "2020-07-14    8122.69   8256.230575\n",
       "2020-07-15    8058.98   7777.400686\n",
       "2020-07-16    8019.97   8215.257468\n",
       "2020-07-17    8023.29   8085.187760\n",
       "2020-07-18    8043.87   7909.840475\n",
       "2020-07-19    8062.62   8088.554295\n",
       "2020-07-20    8013.37   8174.014952\n",
       "2020-07-21    8158.75   8136.015508\n",
       "2020-07-22    8255.56   8540.426385\n",
       "2020-07-23    8299.56   8329.567671\n",
       "2020-07-24    8213.49   8372.113160\n",
       "2020-07-25    8344.37   8254.877466"
      ]
     },
     "execution_count": 79,
     "metadata": {},
     "output_type": "execute_result"
    }
   ],
   "source": [
    "df_compare[100:10]"
   ]
  },
  {
   "cell_type": "code",
   "execution_count": null,
   "metadata": {},
   "outputs": [],
   "source": []
  }
 ],
 "metadata": {
  "kernelspec": {
   "display_name": "Python 3",
   "language": "python",
   "name": "python3"
  },
  "language_info": {
   "codemirror_mode": {
    "name": "ipython",
    "version": 3
   },
   "file_extension": ".py",
   "mimetype": "text/x-python",
   "name": "python",
   "nbconvert_exporter": "python",
   "pygments_lexer": "ipython3",
   "version": "3.8.5"
  }
 },
 "nbformat": 4,
 "nbformat_minor": 4
}
